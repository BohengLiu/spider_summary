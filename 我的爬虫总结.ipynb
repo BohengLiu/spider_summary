{
 "cells": [
  {
   "cell_type": "markdown",
   "metadata": {
    "run_control": {
     "frozen": false,
     "read_only": false
    }
   },
   "source": [
    "\n",
    "# 爬虫的原理"
   ]
  },
  {
   "cell_type": "markdown",
   "metadata": {
    "run_control": {
     "frozen": false,
     "read_only": false
    }
   },
   "source": [
    "## 什么是爬虫？\n",
    "\n",
    "网络爬虫（又被称为网页蜘蛛，网络机器人，在FOAF社区中间，更经常的称为网页追逐者），是一种按照一定的规则，自动地抓取万维网信息的程序或者脚本。\n",
    "\n",
    "## 爬虫的工作流程\n",
    "\n",
    "网络爬虫基本的工作流程是从一个根URL开始，抓取页面，解析页面中所有的URL，将还没有抓取过的URL放入工作队列中，之后继续抓取工作队列中的URL，重复抓取、解析，将解析到的url放入工作队列的步骤，直到工作队列为空为止。"
   ]
  },
  {
   "cell_type": "markdown",
   "metadata": {
    "heading_collapsed": true,
    "run_control": {
     "frozen": false,
     "read_only": false
    }
   },
   "source": [
    "# 网页爬取\n",
    "## 常用的库\n",
    "### requests,BeautifulSoup4,scrapy,selenium,正则表达式\n",
    "## 常用工具软件\n",
    "### 浏览器，抓包软件，webdriver，无头浏览器如PhantomJS\n",
    "## 网页爬取的伪装介绍\n",
    "## 构造header\n",
    "### headers池\n",
    "## 获得cookie\n",
    "## post传输信息\n",
    "##  selenium\n",
    "## ip池\n",
    "## 模拟登陆\n",
    "## post传输信息模拟登陆\n",
    "## selenium模拟登陆\n",
    "\n",
    "# 内容提取\n",
    "\n",
    "## 正则表达式re\n",
    "\n",
    "## BeautifulSoup4\n",
    "\n",
    "## lxml\n",
    "\n",
    "##  各种方式的比较"
   ]
  },
  {
   "cell_type": "markdown",
   "metadata": {
    "run_control": {
     "frozen": false,
     "read_only": false
    }
   },
   "source": [
    "# 数据存储\n",
    "## MongoDB\n",
    "## Mysql\n"
   ]
  },
  {
   "cell_type": "code",
   "execution_count": null,
   "metadata": {
    "collapsed": true,
    "run_control": {
     "frozen": false,
     "read_only": false
    }
   },
   "outputs": [],
   "source": []
  },
  {
   "cell_type": "markdown",
   "metadata": {
    "run_control": {
     "frozen": false,
     "read_only": false
    }
   },
   "source": [
    "# 并发\n",
    "\n",
    "\n"
   ]
  },
  {
   "cell_type": "markdown",
   "metadata": {
    "run_control": {
     "frozen": false,
     "read_only": false
    }
   },
   "source": [
    "我们希望通过并发执行来加快爬虫抓取页面的速度。一般的实现方式有三种：\n",
    "\n",
    "> * 线程池方式： 开一个线程池，每当爬虫发现一个新链接，就将链接放入任务队列中，线程池中的线程从任务队列获取一个链接，之后建立socket，完成抓取页面、解析、将新连接放入工作队列的步骤。\n",
    "* 回调方式：程序会有一个主循环叫做事件循环，在事件循环中会不断获得事件，通过在事件上注册解除回调函数来达到多任务并发执行的效果。缺点是一旦需要的回调操作变多，代码就会非常散，变得难以维护。\n",
    "* 协程方式：同样通过事件循环执行程序，利用了Python 的生成器特性，生成器函数能够中途停止并在之后恢复，那么原本不得不分开写的回调函数就能够写在一个生成器函数中了，这也就实现了协程。"
   ]
  },
  {
   "cell_type": "markdown",
   "metadata": {
    "collapsed": true,
    "run_control": {
     "frozen": false,
     "read_only": false
    }
   },
   "source": [
    "## 多进程"
   ]
  },
  {
   "cell_type": "markdown",
   "metadata": {
    "collapsed": true,
    "run_control": {
     "frozen": false,
     "read_only": false
    }
   },
   "source": [
    "## 多线程"
   ]
  },
  {
   "cell_type": "code",
   "execution_count": null,
   "metadata": {
    "collapsed": true,
    "run_control": {
     "frozen": false,
     "read_only": false
    }
   },
   "outputs": [],
   "source": []
  },
  {
   "cell_type": "markdown",
   "metadata": {
    "run_control": {
     "frozen": false,
     "read_only": false
    }
   },
   "source": [
    "# 异步"
   ]
  },
  {
   "cell_type": "markdown",
   "metadata": {
    "run_control": {
     "frozen": false,
     "read_only": false
    }
   },
   "source": [
    "## 异步的介绍\n"
   ]
  },
  {
   "cell_type": "markdown",
   "metadata": {},
   "source": [
    "### 什么是异步\n",
    "（1）什么是同步IO和异步IO，它们之间有什么区别？\n",
    "\n",
    "答：举个现实例子，假设你需要打开4个不同的网站，但每个网站都比较卡。IO过程就相当于你打开网站的过程，CPU就是你的点击动作。你的点击动作很快，但是网站打开很慢。同步IO是指你每点击一个网址，都等待该网站彻底显示，才会去点击下一个网址。异步IO是指你点击完一个网址，不等对方服务器返回结果，立马新开浏览器窗口去打开另外一个网址，以此类推，最后同时等待4个网站彻底打开。很明显异步IO的效率更高。"
   ]
  },
  {
   "cell_type": "markdown",
   "metadata": {},
   "source": [
    "### 为什么使用异步\n",
    "传统计算机科学往往将大量精力放在如何追求更有效率的算法上。但如今大部分涉及网络的程序，它们的时间开销主要并不是在计算上，而是在维持多个Socket连接上。亦或是它们的事件循环处理的不够高效导致了更多的时间开销。对于这些程序来说，它们面临的挑战是如何更高效地等待大量的网络事件并进行调度。目前流行的解决方式就是使用异步I/O。\n",
    "\n",
    "本课程将探讨几种实现爬虫的方法，从传统的线程池到使用协程，每节课实现一个小爬虫。另外学习协程的时候，我们会从原理入手，以ayncio协程库为原型，实现一个简单的异步编程模型。\n",
    "\n",
    "本课程实现的爬虫为爬一个整站的爬虫，不会爬到站点外面去，且功能较简单，主要目的在于学习原理，提供实现并发与异步的思路，并不适合直接改写作为日常工具使用。\n",
    "\n",
    "本次实验我们将使用线程池实现一个爬虫。   \n",
    "\n",
    "资料来源：实验楼[Python实现基于协程的异步爬虫](https://www.shiyanlou.com/courses/574/labs/1905/document)"
   ]
  },
  {
   "cell_type": "markdown",
   "metadata": {
    "run_control": {
     "frozen": false,
     "read_only": false
    }
   },
   "source": [
    "## 单线程上的异步I/O"
   ]
  },
  {
   "cell_type": "markdown",
   "metadata": {
    "run_control": {
     "frozen": false,
     "read_only": false
    }
   },
   "source": [
    "有了非阻塞I/O这个特性，我们就能够实现单线程上多个sockets的处理了，学过C语言网络编程的同学应该都认识select这个函数吧？不认识也不要紧，select函数如果你不设置它的超时时间它就是默认一直阻塞的，只有当有I/O事件发生时它才会被激活，然后告诉你哪个socket上发生了什么事件（读|写|异常），在Python中也有select，还有跟select功能相同但是更高效的poll，它们都是底层C函数的Python实现。\n",
    "\n",
    "不过这里我们不使用select，而是用更简单好用的DefaultSelector，是Python 3.4后才出现的一个模块里的类，你只需要在非阻塞socket和事件上绑定回调函数就可以了。\n",
    "\n",
    "代码如下："
   ]
  },
  {
   "cell_type": "markdown",
   "metadata": {
    "run_control": {
     "frozen": false,
     "read_only": false
    }
   },
   "source": [
    "## 协程"
   ]
  },
  {
   "cell_type": "markdown",
   "metadata": {
    "run_control": {
     "frozen": false,
     "read_only": false
    }
   },
   "source": [
    "### 什么是协程？\n",
    "\n",
    "协程其实是比起一般的子例程而言更宽泛的存在，子例程是协程的一种特例。\n",
    "\n",
    "子例程的起始处是惟一的入口点，一旦退出即完成了子例程的执行，子例程的一个实例只会返回一次。\n",
    "\n",
    "协程可以通过<font color=#A52A2A size=4 >yield</font>来调用其它协程。通过<font color=#A52A2A size=4 >yield</font>方式转移执行权的协程之间不是调用者与被调用者的关系，而是彼此对称、平等的。\n",
    "\n",
    "协程的起始处是第一个入口点，在协程里，返回点之后是接下来的入口点。子例程的生命期遵循后进先出（最后一个被调用的子例程最先返回）；相反，协程的生命期完全由他们的使用的需要决定。\n",
    "\n",
    "还记得我们什么时候会用到<font color=#A52A2A size=4 >yield</font>吗，就是在生成器(generator)里，在迭代的时候每次执行next(generator)生成器都会执行到下一次<font color=#A52A2A size=4 >yield</font>的位置并返回，可以说生成器就是例程。"
   ]
  },
  {
   "cell_type": "code",
   "execution_count": 15,
   "metadata": {
    "collapsed": false,
    "run_control": {
     "frozen": false,
     "read_only": false
    }
   },
   "outputs": [
    {
     "name": "stdout",
     "output_type": "stream",
     "text": [
      "0\n",
      "1\n"
     ]
    }
   ],
   "source": [
    "#定义生成器函数\n",
    "def fib():\n",
    "    a, b = 0, 1\n",
    "    while(True):\n",
    "            yield a\n",
    "            a, b = b, a + b\n",
    "#获得生成器\n",
    "fib = fib()\n",
    "\n",
    "print(next(fib))     # >> 0\n",
    "print(next(fib))     # >> 1"
   ]
  },
  {
   "cell_type": "markdown",
   "metadata": {
    "run_control": {
     "frozen": false,
     "read_only": false
    }
   },
   "source": [
    "<p>协程可以通过<code bgcolor=orange>yield</code>来调用其它协程。通过<code>yield</code>方式转移执行权的协程之间不是调用者与被调用者的关系，而是彼此对称、平等的。</p>"
   ]
  },
  {
   "cell_type": "markdown",
   "metadata": {},
   "source": [
    "### 为什么用协程\n",
    "Python中解决IO密集型任务（打开多个网站）的方式有很多种，比如多进程、多线程。但理论上一台电脑中的线程数、进程数是有限的，而且进程、线程之间的切换也比较浪费时间。所以就出现了“协程”的概念。协程允许一个执行过程A中断，然后转到执行过程B，在适当的时候再一次转回来，有点类似于多线程。但协程有以下2个优势：\n",
    "\n",
    ">* 协程的数量理论上可以是无限个，而且没有线程之间的切换动作，执行效率比线程高。\n",
    "* 协程不需要“锁”机制，即不需要lock和release过程，因为所有的协程都在一个线程中。\n",
    "* 相对于线程，协程更容易调试debug，因为所有的代码是顺序执行的。\n"
   ]
  },
  {
   "cell_type": "markdown",
   "metadata": {
    "run_control": {
     "frozen": false,
     "read_only": false
    }
   },
   "source": [
    "### 协程的实现"
   ]
  },
  {
   "cell_type": "markdown",
   "metadata": {
    "run_control": {
     "frozen": false,
     "read_only": false
    }
   },
   "source": [
    "#### gevent协程"
   ]
  },
  {
   "cell_type": "markdown",
   "metadata": {
    "run_control": {
     "frozen": false,
     "read_only": false
    }
   },
   "source": [
    "Python通过yield提供了对协程的基本支持，但是不完全。而第三方的gevent为Python提供了比较完善的协程支持。\n",
    "\n",
    "gevent是第三方库，通过greenlet实现协程，其基本思想是：\n",
    "\n",
    "当一个greenlet遇到IO操作时，比如访问网络，就自动切换到其他的greenlet，等到IO操作完成，再在适当的时候切换回来继续执行。由于IO操作非常耗时，经常使程序处于等待状态，有了gevent为我们自动切换协程，就保证总有greenlet在运行，而不是等待IO。\n",
    "\n",
    "由于切换是在IO操作时自动完成，所以gevent需要修改Python自带的一些标准库，这一过程在启动时通过monkey patch完成：\n",
    "gevent修改的过程很慢，因为时间问题就打断了。\n",
    "gevent的教程是在廖雪峰python2的协程里出现的，而在python3中就没有出现了，因此我怀疑gevent不兼容python3，这部分就先这样了。"
   ]
  },
  {
   "cell_type": "code",
   "execution_count": null,
   "metadata": {
    "collapsed": true,
    "run_control": {
     "frozen": false,
     "read_only": false
    }
   },
   "outputs": [],
   "source": [
    "## 网页摘抄代码\n",
    "import requests  \n",
    "from multiprocessing import Process  \n",
    "import gevent  \n",
    "from gevent import monkey; monkey.patch_all()  \n",
    "  \n",
    "import sys  \n",
    "reload(sys)  \n",
    "sys.setdefaultencoding('utf8')  \n",
    "def fetch(url):  \n",
    "    try:  \n",
    "        s = requests.Session()  \n",
    "        r = s.get(url,timeout=1)#在这里抓取页面  \n",
    "    except Exception as e:  \n",
    "        print(e)   \n",
    "    return ''  \n",
    "   \n",
    "def process_start(url_list):  \n",
    "    tasks = []  \n",
    "    for url in url_list:  \n",
    "        tasks.append(gevent.spawn(fetch,url))  \n",
    "    gevent.joinall(tasks)#使用协程来执行  \n",
    "  \n",
    "def task_start(filepath,flag = 100000):#每10W条url启动一个进程  \n",
    "    with open(filepath,'r') as reader:#从给定的文件中读取url  \n",
    "        url = reader.readline().strip()  \n",
    "        url_list = []#这个list用于存放协程任务  \n",
    "        i = 0 #计数器，记录添加了多少个url到协程队列  \n",
    "        while url!='':  \n",
    "            i += 1  \n",
    "            url_list.append(url)#每次读取出url，将url添加到队列  \n",
    "            if i == flag:#一定数量的url就启动一个进程并执行  \n",
    "                p = Process(target=process_start,args=(url_list,))  \n",
    "                p.start()  \n",
    "                url_list = [] #重置url队列  \n",
    "                i = 0 #重置计数器  \n",
    "            url = reader.readline().strip()  \n",
    "        if url_list not []:#若退出循环后任务队列里还有url剩余  \n",
    "            p = Process(target=process_start,args=(url_list,))#把剩余的url全都放到最后这个进程来执行  \n",
    "            p.start()  "
   ]
  },
  {
   "cell_type": "code",
   "execution_count": null,
   "metadata": {
    "collapsed": false,
    "run_control": {
     "frozen": false,
     "read_only": false
    }
   },
   "outputs": [],
   "source": [
    "import time\n",
    "url_list=[]\n",
    "for i in range(5):\n",
    "    for j in range(5):\n",
    "        url_list.append('https://xxxbunker.com/html5player.php?videoid=8'+str(i)+str(j)+'1681&autoplay=true')\n",
    "\n",
    "start_time = time.time()\n",
    "process_start(url_list)\n",
    "print(time.time()-start_time)\n",
    "start_time = time.time()\n",
    "for i in url_list:\n",
    "    fetch(i)\n",
    "print(time.time()-start_time)"
   ]
  },
  {
   "cell_type": "code",
   "execution_count": null,
   "metadata": {
    "collapsed": false,
    "run_control": {
     "frozen": false,
     "read_only": false
    }
   },
   "outputs": [
    {
     "name": "stdout",
     "output_type": "stream",
     "text": [
      "The history saving thread hit an unexpected error (LoopExit('This operation would block forever', <Hub at 0x92a53ff9c8 select pending=0 ref=0>)).History will not be written to the database.\n"
     ]
    }
   ],
   "source": [
    "monkey.patch_all() "
   ]
  },
  {
   "cell_type": "markdown",
   "metadata": {
    "run_control": {
     "frozen": false,
     "read_only": false
    }
   },
   "source": [
    "测试模块"
   ]
  },
  {
   "cell_type": "code",
   "execution_count": 6,
   "metadata": {
    "collapsed": true,
    "run_control": {
     "frozen": false,
     "read_only": false
    }
   },
   "outputs": [
    {
     "name": "stdout",
     "output_type": "stream",
     "text": [
      "<!DOCTYPE html>\r\n",
      "<!--STATUS OK--><html> <head><meta http-equiv=content-type content=text/html;charset=utf-8><meta http-equiv=X-UA-Compatible content=IE=Edge><meta content=always name=referrer><link rel=stylesheet type=text/css href=http://s1.bdstatic.com/r/www/cache/bdorz/baidu.min.css><title>ç¾åº¦ä¸ä¸ï¼ä½ å°±ç¥é</title></head> <body link=#0000cc> <div id=wrapper> <div id=head> <div class=head_wrapper> <div class=s_form> <div class=s_form_wrapper> <div id=lg> <img hidefocus=true src=//www.baidu.com/img/bd_logo1.png width=270 height=129> </div> <form id=form name=f action=//www.baidu.com/s class=fm> <input type=hidden name=bdorz_come value=1> <input type=hidden name=ie value=utf-8> <input type=hidden name=f value=8> <input type=hidden name=rsv_bp value=1> <input type=hidden name=rsv_idx value=1> <input type=hidden name=tn value=baidu><span class=\"bg s_ipt_wr\"><input id=kw name=wd class=s_ipt value maxlength=255 autocomplete=off autofocus></span><span class=\"bg s_btn_wr\"><input type=submit id=su value=ç¾åº¦ä¸ä¸ class=\"bg s_btn\"></span> </form> </div> </div> <div id=u1> <a href=http://news.baidu.com name=tj_trnews class=mnav>æ°é»</a> <a href=http://www.hao123.com name=tj_trhao123 class=mnav>hao123</a> <a href=http://map.baidu.com name=tj_trmap class=mnav>å°å¾</a> <a href=http://v.baidu.com name=tj_trvideo class=mnav>è§é¢</a> <a href=http://tieba.baidu.com name=tj_trtieba class=mnav>è´´å§</a> <noscript> <a href=http://www.baidu.com/bdorz/login.gif?login&amp;tpl=mn&amp;u=http%3A%2F%2Fwww.baidu.com%2f%3fbdorz_come%3d1 name=tj_login class=lb>ç»å½</a> </noscript> <script>document.write('<a href=\"http://www.baidu.com/bdorz/login.gif?login&tpl=mn&u='+ encodeURIComponent(window.location.href+ (window.location.search === \"\" ? \"?\" : \"&\")+ \"bdorz_come=1\")+ '\" name=\"tj_login\" class=\"lb\">ç»å½</a>');</script> <a href=//www.baidu.com/more/ name=tj_briicon class=bri style=\"display: block;\">æ´å¤äº§å</a> </div> </div> </div> <div id=ftCon> <div id=ftConw> <p id=lh> <a href=http://home.baidu.com>å",
      "³äºç¾åº¦</a> <a href=http://ir.baidu.com>About Baidu</a> </p> <p id=cp>&copy;2017&nbsp;Baidu&nbsp;<a href=http://www.baidu.com/duty/>ä½¿ç¨ç¾åº¦åå¿",
      "è¯»</a>&nbsp; <a href=http://jianyi.baidu.com/ class=cp-feedback>æè§åé¦</a>&nbsp;äº¬ICPè¯030173å·&nbsp; <img src=//www.baidu.com/img/gs.gif> </p> </div> </div> </div> </body> </html>\r\n",
      "\n"
     ]
    }
   ],
   "source": [
    "url_list=['http://www.baidu.com']\n",
    "process_start(url_list)"
   ]
  },
  {
   "cell_type": "code",
   "execution_count": 3,
   "metadata": {
    "collapsed": true,
    "run_control": {
     "frozen": false,
     "read_only": false
    }
   },
   "outputs": [],
   "source": [
    "def process_start(url_list):  \n",
    "    tasks = []  \n",
    "    for url in url_list:  \n",
    "        tasks.append(gevent.spawn(fetch,url))  \n",
    "    gevent.joinall(tasks)#使用协程来执行 "
   ]
  },
  {
   "cell_type": "code",
   "execution_count": 11,
   "metadata": {
    "collapsed": true,
    "run_control": {
     "frozen": false,
     "read_only": false
    }
   },
   "outputs": [],
   "source": [
    "def fetch(url):  \n",
    "    try:  \n",
    "        s = requests.Session()  \n",
    "        r = s.get(url,timeout=1)#在这里抓取页面\n",
    "        #print(r.text)\n",
    "    except Exception as e:  \n",
    "        print(e)   \n",
    "    return '' "
   ]
  },
  {
   "cell_type": "code",
   "execution_count": 1,
   "metadata": {
    "collapsed": true,
    "run_control": {
     "frozen": false,
     "read_only": false
    }
   },
   "outputs": [],
   "source": [
    "import requests  \n",
    "from multiprocessing import Process  \n",
    "import gevent  \n",
    "from gevent import monkey\n",
    "#monkey.patch_all()  "
   ]
  },
  {
   "cell_type": "code",
   "execution_count": null,
   "metadata": {
    "collapsed": true,
    "run_control": {
     "frozen": false,
     "read_only": false
    }
   },
   "outputs": [],
   "source": [
    "import requests  \n",
    "from multiprocessing import Process  \n",
    "import gevent  \n",
    "from gevent import monkey; monkey.patch_all()  \n",
    "  \n",
    "import sys  \n",
    "reload(sys)  \n",
    "sys.setdefaultencoding('utf8')  \n",
    " \n",
    "\n",
    "def process_start(url_list):  \n",
    "    tasks = []  \n",
    "    for url in url_list:  \n",
    "        tasks.append(gevent.spawn(fetch,url))  \n",
    "    gevent.joinall(tasks)#使用协程来执行  \n",
    "  \n",
    "def task_start(filepath,flag = 100000):#每10W条url启动一个进程  \n",
    "    with open(filepath,'r') as reader:#从给定的文件中读取url  \n",
    "        url = reader.readline().strip()  \n",
    "        url_list = []#这个list用于存放协程任务  \n",
    "        i = 0 #计数器，记录添加了多少个url到协程队列  \n",
    "        while url!='':  \n",
    "            i += 1  \n",
    "            url_list.append(url)#每次读取出url，将url添加到队列  \n",
    "            if i == flag:#一定数量的url就启动一个进程并执行  \n",
    "                p = Process(target=process_start,args=(url_list,))  \n",
    "                p.start()  \n",
    "                url_list = [] #重置url队列  \n",
    "                i = 0 #重置计数器  \n",
    "            url = reader.readline().strip()  \n",
    "        if not url_list ==[]:#若退出循环后任务队列里还有url剩余  \n",
    "            p = Process(target=process_start,args=(url_list,))#把剩余的url全都放到最后这个进程来执行  \n",
    "            p.start()  "
   ]
  },
  {
   "cell_type": "markdown",
   "metadata": {
    "run_control": {
     "frozen": false,
     "read_only": false
    }
   },
   "source": [
    "#### asyncio"
   ]
  },
  {
   "cell_type": "markdown",
   "metadata": {
    "run_control": {
     "frozen": false,
     "read_only": false
    }
   },
   "source": [
    "asyncio是Python 3.4版本引入的标准库，直接内置了对异步IO的支持。\n",
    "\n",
    "asyncio的编程模型就是一个消息循环。我们从asyncio模块中直接获取一个EventLoop的引用，然后把需要执行的协程扔到EventLoop中执行，就实现了异步IO。\n",
    "\n",
    "用asyncio实现Hello world代码如下：（运行前需要restart kernel）"
   ]
  },
  {
   "cell_type": "code",
   "execution_count": 1,
   "metadata": {
    "collapsed": false,
    "run_control": {
     "frozen": false,
     "read_only": false
    }
   },
   "outputs": [
    {
     "name": "stdout",
     "output_type": "stream",
     "text": [
      "Hello world!\n",
      "Hello again!\n"
     ]
    }
   ],
   "source": [
    "import asyncio\n",
    "import sys\n",
    "@asyncio.coroutine\n",
    "def hello():\n",
    "    print(\"Hello world!\")\n",
    "    # 异步调用asyncio.sleep(1):\n",
    "    r = yield from asyncio.sleep(1)\n",
    "    print(\"Hello again!\")\n",
    "\n",
    "# 获取EventLoop:\n",
    "loop = asyncio.get_event_loop()\n",
    "# 执行coroutine\n",
    "loop.run_until_complete(hello())\n",
    "loop.close()"
   ]
  },
  {
   "cell_type": "markdown",
   "metadata": {
    "collapsed": true,
    "run_control": {
     "frozen": false,
     "read_only": false
    }
   },
   "source": [
    "@asyncio.coroutine把一个generator标记为coroutine类型，然后，我们就把这个coroutine扔到EventLoop中执行。\n",
    "\n",
    "hello()会首先打印出Hello world!，然后，yield from语法可以让我们方便地调用另一个generator。由于asyncio.sleep()也是一个coroutine，所以线程不会等待asyncio.sleep()，而是直接中断并执行下一个消息循环。当asyncio.sleep()返回时，线程就可以从yield from拿到返回值（此处是None），然后接着执行下一行语句。\n",
    "\n",
    "把asyncio.sleep(1)看成是一个耗时1秒的IO操作，在此期间，主线程并未等待，而是去执行EventLoop中其他可以执行的coroutine了，因此可以实现并发执行。\n",
    "\n",
    "我们用Task封装两个coroutine试试：（运行前需要restart kernel）"
   ]
  },
  {
   "cell_type": "code",
   "execution_count": 1,
   "metadata": {
    "collapsed": false,
    "scrolled": true
   },
   "outputs": [
    {
     "name": "stdout",
     "output_type": "stream",
     "text": [
      "Hello world! (<_MainThread(MainThread, started 9416)>)\n",
      "Hello world! (<_MainThread(MainThread, started 9416)>)\n",
      "Hello again! (<_MainThread(MainThread, started 9416)>)\n",
      "Hello again! (<_MainThread(MainThread, started 9416)>)\n"
     ]
    }
   ],
   "source": [
    "import threading\n",
    "import asyncio\n",
    "\n",
    "@asyncio.coroutine\n",
    "def hello():\n",
    "    print('Hello world! (%s)' % threading.currentThread())\n",
    "    yield from asyncio.sleep(1)\n",
    "    print('Hello again! (%s)' % threading.currentThread())\n",
    "\n",
    "loop = asyncio.get_event_loop()\n",
    "tasks = [hello(), hello()]\n",
    "loop.run_until_complete(asyncio.wait(tasks))\n",
    "loop.close()"
   ]
  },
  {
   "cell_type": "markdown",
   "metadata": {},
   "source": [
    "由打印的当前线程名称可以看出，两个coroutine是由同一个线程并发执行的。\n",
    "\n",
    "如果把asyncio.sleep()换成真正的IO操作，则多个coroutine就可以由一个线程并发执行。\n",
    "\n",
    "我们用asyncio的异步网络连接来获取sina、sohu和163的网站首页："
   ]
  },
  {
   "cell_type": "code",
   "execution_count": 1,
   "metadata": {
    "collapsed": false,
    "scrolled": true
   },
   "outputs": [
    {
     "name": "stdout",
     "output_type": "stream",
     "text": [
      "wget www.sohu.com...\n",
      "wget www.sina.com.cn...\n",
      "wget www.163.com...\n",
      "www.sohu.com header > HTTP/1.1 200 OK\n",
      "www.sohu.com header > Content-Type: text/html;charset=UTF-8\n",
      "www.sohu.com header > Connection: close\n",
      "www.sohu.com header > Server: nginx\n",
      "www.sohu.com header > Date: Sun, 19 Nov 2017 05:02:58 GMT\n",
      "www.sohu.com header > Cache-Control: max-age=60\n",
      "www.sohu.com header > X-From-Sohu: X-SRC-Cached\n",
      "www.sohu.com header > Content-Encoding: gzip\n",
      "www.sohu.com header > FSS-Cache: HIT from 8605877.15552703.9605663\n",
      "www.sohu.com header > FSS-Proxy: Powered by 3100769.4542571.4100471\n",
      "www.163.com header > HTTP/1.0 302 Moved Temporarily\n",
      "www.163.com header > Server: Cdn Cache Server V2.0\n",
      "www.163.com header > Date: Sun, 19 Nov 2017 05:03:58 GMT\n",
      "www.163.com header > Content-Length: 0\n",
      "www.163.com header > Location: http://www.163.com/special/0077jt/error_isp.html\n",
      "www.163.com header > Connection: close\n",
      "www.sina.com.cn header > HTTP/1.1 200 OK\n",
      "www.sina.com.cn header > Server: nginx\n",
      "www.sina.com.cn header > Date: Sun, 19 Nov 2017 05:03:58 GMT\n",
      "www.sina.com.cn header > Content-Type: text/html\n",
      "www.sina.com.cn header > Content-Length: 602435\n",
      "www.sina.com.cn header > Connection: close\n",
      "www.sina.com.cn header > Last-Modified: Sun, 19 Nov 2017 05:03:06 GMT\n",
      "www.sina.com.cn header > Vary: Accept-Encoding\n",
      "www.sina.com.cn header > Expires: Sun, 19 Nov 2017 05:04:54 GMT\n",
      "www.sina.com.cn header > Cache-Control: max-age=60\n",
      "www.sina.com.cn header > X-Powered-By: shci_v1.03\n",
      "www.sina.com.cn header > Age: 5\n",
      "www.sina.com.cn header > Via: http/1.1 cnc.beixian.ha2ts4.205 (ApacheTrafficServer/6.2.1 [cMsSfW]), http/1.1 gwbn.beijing.ha2ts4.23 (ApacheTrafficServer/6.2.1 [cHs f ])\n",
      "www.sina.com.cn header > X-Via-Edge: 15110678387195bf2dc310904eedb400214fe\n",
      "www.sina.com.cn header > X-Cache: HIT.23\n",
      "www.sina.com.cn header > X-Via-CDN: f=edge,s=gwbn.beijing.ha2ts4.24.nb.sinaedge.com,c=49.220.242.91;f=Edge,s=gwbn.beijing.ha2ts4.23,c=49.220.242.91\n"
     ]
    }
   ],
   "source": [
    "import asyncio\n",
    "\n",
    "@asyncio.coroutine\n",
    "def wget(host):\n",
    "    print('wget %s...' % host)\n",
    "    connect = asyncio.open_connection(host, 80)\n",
    "    reader, writer = yield from connect\n",
    "    header = 'GET / HTTP/1.0\\r\\nHost: %s\\r\\n\\r\\n' % host\n",
    "    writer.write(header.encode('utf-8'))\n",
    "    yield from writer.drain()\n",
    "    while True:\n",
    "        line = yield from reader.readline()\n",
    "        if line == b'\\r\\n':\n",
    "            break\n",
    "        print('%s header > %s' % (host, line.decode('utf-8').rstrip()))\n",
    "    # Ignore the body, close the socket\n",
    "    writer.close()\n",
    "\n",
    "loop = asyncio.get_event_loop()\n",
    "tasks = [wget(host) for host in ['www.sina.com.cn', 'www.sohu.com', 'www.163.com']]\n",
    "loop.run_until_complete(asyncio.wait(tasks))\n",
    "loop.close()"
   ]
  },
  {
   "cell_type": "markdown",
   "metadata": {},
   "source": [
    "可见3个连接由一个线程通过coroutine并发完成。"
   ]
  },
  {
   "cell_type": "markdown",
   "metadata": {},
   "source": [
    "#### async/await"
   ]
  },
  {
   "cell_type": "markdown",
   "metadata": {},
   "source": [
    "注意：asyncio是3.4增加的特性，async/await是3.5增加的\n",
    "\n",
    "用asyncio提供的@asyncio.coroutine可以把一个generator标记为coroutine类型，然后在coroutine内部用yield from调用另一个coroutine实现异步操作。\n",
    "\n",
    "为了简化并更好地标识异步IO，从Python 3.5开始引入了新的语法async和await，可以让coroutine的代码更简洁易读。\n",
    "\n",
    "请注意，async和await是针对coroutine的新语法，要使用新的语法，只需要做两步简单的替换：\n",
    "\n",
    "把@asyncio.coroutine替换为async；\n",
    "把yield from替换为await。\n",
    "让我们对比一下上一节的代码："
   ]
  },
  {
   "cell_type": "code",
   "execution_count": null,
   "metadata": {
    "collapsed": true
   },
   "outputs": [],
   "source": [
    "@asyncio.coroutine\n",
    "def hello():\n",
    "    print(\"Hello world!\")\n",
    "    r = yield from asyncio.sleep(1)\n",
    "    print(\"Hello again!\")"
   ]
  },
  {
   "cell_type": "markdown",
   "metadata": {},
   "source": [
    "用新语法重新编写如下："
   ]
  },
  {
   "cell_type": "code",
   "execution_count": null,
   "metadata": {
    "collapsed": true
   },
   "outputs": [],
   "source": [
    "async def hello():\n",
    "    print(\"Hello world!\")\n",
    "    r = await asyncio.sleep(1)\n",
    "    print(\"Hello again!\")"
   ]
  },
  {
   "cell_type": "markdown",
   "metadata": {},
   "source": [
    "剩下的代码保持不变。\n",
    "\n",
    "小结\n",
    "\n",
    "Python从3.5版本开始为asyncio提供了async和await的新语法；\n",
    "\n",
    "注意新语法只能用在Python 3.5以及后续版本，如果使用3.4版本，则仍需使用上一节的方案。\n",
    "\n",
    "练习\n",
    "\n",
    "将上一节的异步获取sina、sohu和163的网站首页源码用新语法重写并运行。"
   ]
  },
  {
   "cell_type": "markdown",
   "metadata": {},
   "source": [
    "#### aiohttp"
   ]
  },
  {
   "cell_type": "markdown",
   "metadata": {},
   "source": [
    "asyncio可以实现单线程并发IO操作。如果仅用在客户端，发挥的威力不大。如果把asyncio用在服务器端，例如Web服务器，由于HTTP连接就是IO操作，因此可以用单线程+coroutine实现多用户的高并发支持。\n",
    "\n",
    "asyncio实现了TCP、UDP、SSL等协议，aiohttp则是基于asyncio实现的HTTP框架。\n",
    "\n",
    "我们先安装aiohttp："
   ]
  },
  {
   "cell_type": "code",
   "execution_count": null,
   "metadata": {
    "collapsed": true
   },
   "outputs": [],
   "source": [
    "pip install aiohttp"
   ]
  },
  {
   "cell_type": "markdown",
   "metadata": {},
   "source": [
    "然后编写一个HTTP服务器，分别处理以下URL：\n",
    "\n",
    "*  \\- 首页返回b'<\\h1\\>Index\\</\\h1>'；\n",
    "\n",
    "* /hello/{name} - 根据URL参数返回文本hello, %s!。\n",
    "\n",
    "代码如下："
   ]
  },
  {
   "cell_type": "code",
   "execution_count": null,
   "metadata": {
    "collapsed": true
   },
   "outputs": [],
   "source": [
    "import asyncio\n",
    "\n",
    "from aiohttp import web\n",
    "\n",
    "async def index(request):\n",
    "    await asyncio.sleep(0.5)\n",
    "    return web.Response(body=b'<h1>Index</h1>')\n",
    "\n",
    "async def hello(request):\n",
    "    await asyncio.sleep(0.5)\n",
    "    text = '<h1>hello, %s!</h1>' % request.match_info['name']\n",
    "    return web.Response(body=text.encode('utf-8'))\n",
    "\n",
    "async def init(loop):\n",
    "    app = web.Application(loop=loop)\n",
    "    app.router.add_route('GET', '/', index)\n",
    "    app.router.add_route('GET', '/hello/{name}', hello)\n",
    "    srv = await loop.create_server(app.make_handler(), '127.0.0.1', 8000)\n",
    "    print('Server started at http://127.0.0.1:8000...')\n",
    "    return srv\n",
    "\n",
    "loop = asyncio.get_event_loop()\n",
    "loop.run_until_complete(init(loop))\n",
    "loop.run_forever()"
   ]
  },
  {
   "cell_type": "markdown",
   "metadata": {},
   "source": [
    "注意aiohttp的初始化函数init()也是一个coroutine，loop.create_server()则利用asyncio创建TCP服务。"
   ]
  },
  {
   "cell_type": "markdown",
   "metadata": {},
   "source": [
    "一个来自知乎[Python进阶：理解Python中的异步IO和协程(Coroutine)，并应用在爬虫中](https://zhuanlan.zhihu.com/p/24118476)的例子"
   ]
  },
  {
   "cell_type": "code",
   "execution_count": 1,
   "metadata": {
    "collapsed": false,
    "scrolled": true
   },
   "outputs": [],
   "source": [
    "import asyncio\n",
    "async def get(url):\n",
    "    async with aiohttp.ClientSession() as session:\n",
    "        async with session.get(url) as resp:\n",
    "            print(url, resp.status)\n",
    "            print(url, await resp.text())\n",
    "\n",
    "loop = asyncio.get_event_loop()     # 得到一个事件循环模型\n",
    "tasks = [                           # 初始化任务列表\n",
    "    get(\"http://zhushou.360.cn/detail/index/soft_id/3283370\"),\n",
    "    get(\"http://zhushou.360.cn/detail/index/soft_id/3264775\"),\n",
    "    get(\"http://zhushou.360.cn/detail/index/soft_id/705490\")\n",
    "]\n",
    "loop.run_until_complete(asyncio.wait(tasks))    # 执行任务\n",
    "loop.close()   "
   ]
  },
  {
   "cell_type": "markdown",
   "metadata": {},
   "source": [
    "## 异步爬虫示例"
   ]
  },
  {
   "cell_type": "markdown",
   "metadata": {},
   "source": [
    "### 豌豆荚设计奖多进程，异步IO爬取速度对比"
   ]
  },
  {
   "cell_type": "markdown",
   "metadata": {},
   "source": [
    "来源：简书[豌豆荚设计奖多进程，异步IO爬取速度对比](http://www.jianshu.com/p/989005adcccd)\n",
    "\n",
    "1. 豌豆荚的设计奖首页是<http://www.wandoujia.com/award> 点击下一页之后就会发现网页地址变成了http://www.wandoujia.com/award?page=x x就是当前的页数。\n",
    "![豌豆荚设计奖首页](img_summary/豌豆荚设计奖首页.png)\n",
    "2. 然后来看看本次抓取的信息分布，我抓取的是每个设计奖的背景图片，APP名称，图标，获奖说明。进入浏览器开发者模式后即可查找信息位置。（使用Ctrl+Shift+C选择目标快速到达代码位置，同时这个夸克浏览器也挺不错的，简洁流畅推荐大家安装试试。）\n",
    "![豌豆荚设计奖item解析](img_summary/豌豆荚设计奖item解析.png)\n",
    "3. 信息位置都找到了就可以使用BeautifulSoup来解析网页选择到这些数据，然后保存到mongodb。"
   ]
  },
  {
   "cell_type": "code",
   "execution_count": 3,
   "metadata": {
    "collapsed": true
   },
   "outputs": [
    {
     "name": "stderr",
     "output_type": "stream",
     "text": [
      "Task exception was never retrieved\n",
      "future: <Task finished coro=<get() done, defined at <ipython-input-1-e8907ffd1258>:2> exception=NameError(\"name 'aiohttp' is not defined\",)>\n",
      "Traceback (most recent call last):\n",
      "  File \"g:\\Anaconda3\\envs\\py3\\lib\\asyncio\\tasks.py\", line 239, in _step\n",
      "    result = coro.send(None)\n",
      "  File \"<ipython-input-1-e8907ffd1258>\", line 3, in get\n",
      "    async with aiohttp.ClientSession() as session:\n",
      "NameError: name 'aiohttp' is not defined\n",
      "Task exception was never retrieved\n",
      "future: <Task finished coro=<get() done, defined at <ipython-input-1-e8907ffd1258>:2> exception=NameError(\"name 'aiohttp' is not defined\",)>\n",
      "Traceback (most recent call last):\n",
      "  File \"g:\\Anaconda3\\envs\\py3\\lib\\asyncio\\tasks.py\", line 239, in _step\n",
      "    result = coro.send(None)\n",
      "  File \"<ipython-input-1-e8907ffd1258>\", line 3, in get\n",
      "    async with aiohttp.ClientSession() as session:\n",
      "NameError: name 'aiohttp' is not defined\n",
      "Task exception was never retrieved\n",
      "future: <Task finished coro=<get() done, defined at <ipython-input-1-e8907ffd1258>:2> exception=NameError(\"name 'aiohttp' is not defined\",)>\n",
      "Traceback (most recent call last):\n",
      "  File \"g:\\Anaconda3\\envs\\py3\\lib\\asyncio\\tasks.py\", line 239, in _step\n",
      "    result = coro.send(None)\n",
      "  File \"<ipython-input-1-e8907ffd1258>\", line 3, in get\n",
      "    async with aiohttp.ClientSession() as session:\n",
      "NameError: name 'aiohttp' is not defined\n"
     ]
    },
    {
     "ename": "NameError",
     "evalue": "name 'pymongo' is not defined",
     "output_type": "error",
     "traceback": [
      "\u001b[0;31m---------------------------------------------------------------------------\u001b[0m",
      "\u001b[0;31mNameError\u001b[0m                                 Traceback (most recent call last)",
      "\u001b[0;32m<ipython-input-3-eb01ea16db33>\u001b[0m in \u001b[0;36m<module>\u001b[0;34m()\u001b[0m\n\u001b[1;32m      1\u001b[0m \u001b[1;31m# 共用部分\u001b[0m\u001b[1;33m\u001b[0m\u001b[1;33m\u001b[0m\u001b[0m\n\u001b[0;32m----> 2\u001b[0;31m \u001b[0mclients\u001b[0m \u001b[1;33m=\u001b[0m \u001b[0mpymongo\u001b[0m\u001b[1;33m.\u001b[0m\u001b[0mMongoClient\u001b[0m\u001b[1;33m(\u001b[0m\u001b[1;34m'localhost'\u001b[0m\u001b[1;33m)\u001b[0m\u001b[1;33m\u001b[0m\u001b[0m\n\u001b[0m\u001b[1;32m      3\u001b[0m \u001b[0mdb\u001b[0m \u001b[1;33m=\u001b[0m \u001b[0mclients\u001b[0m\u001b[1;33m[\u001b[0m\u001b[1;34m\"wandoujia\"\u001b[0m\u001b[1;33m]\u001b[0m\u001b[1;33m\u001b[0m\u001b[0m\n\u001b[1;32m      4\u001b[0m \u001b[0mcol\u001b[0m \u001b[1;33m=\u001b[0m \u001b[0mdb\u001b[0m\u001b[1;33m[\u001b[0m\u001b[1;34m\"info\"\u001b[0m\u001b[1;33m]\u001b[0m\u001b[1;33m\u001b[0m\u001b[0m\n\u001b[1;32m      5\u001b[0m \u001b[1;33m\u001b[0m\u001b[0m\n",
      "\u001b[0;31mNameError\u001b[0m: name 'pymongo' is not defined"
     ]
    }
   ],
   "source": [
    "# 共用部分\n",
    "clients = pymongo.MongoClient('localhost')\n",
    "db = clients[\"wandoujia\"]\n",
    "col = db[\"info\"]\n",
    "\n",
    "urls = ['http://www.wandoujia.com/award?page={}'.format(num) for num in range(1, 46)]\n",
    "UA_LIST = [\n",
    "    \"Mozilla/5.0 (Windows NT 6.1; WOW64) AppleWebKit/536.3 (KHTML, like Gecko) Chrome/19.0.1063.0 Safari/536.3\",\n",
    "    \"Mozilla/5.0 (Windows NT 5.1) AppleWebKit/536.3 (KHTML, like Gecko) Chrome/19.0.1063.0 Safari/536.3\",\n",
    "    \"Mozilla/5.0 (Macintosh; Intel Mac OS X 10_8_0) AppleWebKit/536.3 (KHTML, like Gecko) Chrome/19.0.1063.0 Safari/536.3\",\n",
    "    \"Mozilla/5.0 (Windows NT 6.2) AppleWebKit/536.3 (KHTML, like Gecko) Chrome/19.0.1062.0 Safari/536.3\",\n",
    "    \"Mozilla/5.0 (Windows NT 6.1; WOW64) AppleWebKit/536.3 (KHTML, like Gecko) Chrome/19.0.1062.0 Safari/536.3\",\n",
    "    \"Mozilla/5.0 (Windows NT 6.2) AppleWebKit/536.3 (KHTML, like Gecko) Chrome/19.0.1061.1 Safari/536.3\",\n",
    "    \"Mozilla/5.0 (Windows NT 6.1; WOW64) AppleWebKit/536.3 (KHTML, like Gecko) Chrome/19.0.1061.1 Safari/536.3\",\n",
    "    \"Mozilla/5.0 (Windows NT 6.1) AppleWebKit/536.3 (KHTML, like Gecko) Chrome/19.0.1061.1 Safari/536.3\",\n",
    "    \"Mozilla/5.0 (Windows NT 6.2) AppleWebKit/536.3 (KHTML, like Gecko) Chrome/19.0.1061.0 Safari/536.3\",\n",
    "    \"Mozilla/5.0 (X11; Linux x86_64) AppleWebKit/535.24 (KHTML, like Gecko) Chrome/19.0.1055.1 Safari/535.24\",\n",
    "    \"Mozilla/5.0 (Windows NT 6.2; WOW64) AppleWebKit/535.24 (KHTML, like Gecko) Chrome/19.0.1055.1 Safari/535.24\"\n",
    "]\n",
    "headers = {\n",
    "    'Accept': 'text/html,application/xhtml+xml,application/xml;q=0.9,image/webp,*/*;q=0.8',\n",
    "    'Accept-Encoding': 'gzip, deflate, sdch',\n",
    "    'Accept-Language': 'zh-CN,zh;q=0.8,en;q=0.6',\n",
    "    'Connection': 'keep-alive',\n",
    "    'Host': 'www.wandoujia.com',\n",
    "    'User-Agent': random.choice(UA_LIST)\n",
    "}\n",
    "\n",
    "proxies = {\n",
    "    'http': 'http://123.206.6.17:3128',\n",
    "    'https': 'http://123.206.6.17:3128'\n",
    "}\n"
   ]
  },
  {
   "cell_type": "markdown",
   "metadata": {},
   "source": [
    "使用这个方法需要对每个函数前面加async，表示成一个异步函数，调用asyncio.get_event_loop创建线程，run_until_complete方法负责安排执行 tasks中的任务。"
   ]
  },
  {
   "cell_type": "code",
   "execution_count": 12,
   "metadata": {
    "collapsed": true
   },
   "outputs": [
    {
     "ename": "NameError",
     "evalue": "name 'col' is not defined",
     "output_type": "error",
     "traceback": [
      "\u001b[0;31m---------------------------------------------------------------------------\u001b[0m",
      "\u001b[0;31mNameError\u001b[0m                                 Traceback (most recent call last)",
      "\u001b[0;32m<ipython-input-12-c21505f93fcd>\u001b[0m in \u001b[0;36m<module>\u001b[0;34m()\u001b[0m\n\u001b[1;32m     30\u001b[0m     \u001b[0mprint\u001b[0m\u001b[1;33m(\u001b[0m\u001b[0mtime\u001b[0m\u001b[1;33m.\u001b[0m\u001b[0mtime\u001b[0m\u001b[1;33m(\u001b[0m\u001b[1;33m)\u001b[0m \u001b[1;33m-\u001b[0m \u001b[0mstart\u001b[0m\u001b[1;33m)\u001b[0m\u001b[1;33m\u001b[0m\u001b[0m\n\u001b[1;32m     31\u001b[0m \u001b[1;33m\u001b[0m\u001b[0m\n\u001b[0;32m---> 32\u001b[0;31m \u001b[0mmethod_3\u001b[0m\u001b[1;33m(\u001b[0m\u001b[1;33m)\u001b[0m\u001b[1;33m\u001b[0m\u001b[0m\n\u001b[0m",
      "\u001b[0;32m<ipython-input-12-c21505f93fcd>\u001b[0m in \u001b[0;36mmethod_3\u001b[0;34m()\u001b[0m\n\u001b[1;32m     27\u001b[0m     \u001b[0mloop\u001b[0m \u001b[1;33m=\u001b[0m \u001b[0masyncio\u001b[0m\u001b[1;33m.\u001b[0m\u001b[0mget_event_loop\u001b[0m\u001b[1;33m(\u001b[0m\u001b[1;33m)\u001b[0m\u001b[1;33m\u001b[0m\u001b[0m\n\u001b[1;32m     28\u001b[0m     \u001b[0mtasks\u001b[0m \u001b[1;33m=\u001b[0m \u001b[1;33m[\u001b[0m\u001b[0mparser\u001b[0m\u001b[1;33m(\u001b[0m\u001b[0murl\u001b[0m\u001b[1;33m)\u001b[0m \u001b[1;32mfor\u001b[0m \u001b[0murl\u001b[0m \u001b[1;32min\u001b[0m \u001b[0murls\u001b[0m\u001b[1;33m]\u001b[0m\u001b[1;33m\u001b[0m\u001b[0m\n\u001b[0;32m---> 29\u001b[0;31m     \u001b[0mloop\u001b[0m\u001b[1;33m.\u001b[0m\u001b[0mrun_until_complete\u001b[0m\u001b[1;33m(\u001b[0m\u001b[0masyncio\u001b[0m\u001b[1;33m.\u001b[0m\u001b[0mgather\u001b[0m\u001b[1;33m(\u001b[0m\u001b[1;33m*\u001b[0m\u001b[0mtasks\u001b[0m\u001b[1;33m)\u001b[0m\u001b[1;33m)\u001b[0m\u001b[1;33m\u001b[0m\u001b[0m\n\u001b[0m\u001b[1;32m     30\u001b[0m     \u001b[0mprint\u001b[0m\u001b[1;33m(\u001b[0m\u001b[0mtime\u001b[0m\u001b[1;33m.\u001b[0m\u001b[0mtime\u001b[0m\u001b[1;33m(\u001b[0m\u001b[1;33m)\u001b[0m \u001b[1;33m-\u001b[0m \u001b[0mstart\u001b[0m\u001b[1;33m)\u001b[0m\u001b[1;33m\u001b[0m\u001b[0m\n\u001b[1;32m     31\u001b[0m \u001b[1;33m\u001b[0m\u001b[0m\n",
      "\u001b[0;32mg:\\Anaconda3\\envs\\py3\\lib\\asyncio\\base_events.py\u001b[0m in \u001b[0;36mrun_until_complete\u001b[0;34m(self, future)\u001b[0m\n\u001b[1;32m    385\u001b[0m             \u001b[1;32mraise\u001b[0m \u001b[0mRuntimeError\u001b[0m\u001b[1;33m(\u001b[0m\u001b[1;34m'Event loop stopped before Future completed.'\u001b[0m\u001b[1;33m)\u001b[0m\u001b[1;33m\u001b[0m\u001b[0m\n\u001b[1;32m    386\u001b[0m \u001b[1;33m\u001b[0m\u001b[0m\n\u001b[0;32m--> 387\u001b[0;31m         \u001b[1;32mreturn\u001b[0m \u001b[0mfuture\u001b[0m\u001b[1;33m.\u001b[0m\u001b[0mresult\u001b[0m\u001b[1;33m(\u001b[0m\u001b[1;33m)\u001b[0m\u001b[1;33m\u001b[0m\u001b[0m\n\u001b[0m\u001b[1;32m    388\u001b[0m \u001b[1;33m\u001b[0m\u001b[0m\n\u001b[1;32m    389\u001b[0m     \u001b[1;32mdef\u001b[0m \u001b[0mstop\u001b[0m\u001b[1;33m(\u001b[0m\u001b[0mself\u001b[0m\u001b[1;33m)\u001b[0m\u001b[1;33m:\u001b[0m\u001b[1;33m\u001b[0m\u001b[0m\n",
      "\u001b[0;32mg:\\Anaconda3\\envs\\py3\\lib\\asyncio\\futures.py\u001b[0m in \u001b[0;36mresult\u001b[0;34m(self)\u001b[0m\n\u001b[1;32m    272\u001b[0m             \u001b[0mself\u001b[0m\u001b[1;33m.\u001b[0m\u001b[0m_tb_logger\u001b[0m \u001b[1;33m=\u001b[0m \u001b[1;32mNone\u001b[0m\u001b[1;33m\u001b[0m\u001b[0m\n\u001b[1;32m    273\u001b[0m         \u001b[1;32mif\u001b[0m \u001b[0mself\u001b[0m\u001b[1;33m.\u001b[0m\u001b[0m_exception\u001b[0m \u001b[1;32mis\u001b[0m \u001b[1;32mnot\u001b[0m \u001b[1;32mNone\u001b[0m\u001b[1;33m:\u001b[0m\u001b[1;33m\u001b[0m\u001b[0m\n\u001b[0;32m--> 274\u001b[0;31m             \u001b[1;32mraise\u001b[0m \u001b[0mself\u001b[0m\u001b[1;33m.\u001b[0m\u001b[0m_exception\u001b[0m\u001b[1;33m\u001b[0m\u001b[0m\n\u001b[0m\u001b[1;32m    275\u001b[0m         \u001b[1;32mreturn\u001b[0m \u001b[0mself\u001b[0m\u001b[1;33m.\u001b[0m\u001b[0m_result\u001b[0m\u001b[1;33m\u001b[0m\u001b[0m\n\u001b[1;32m    276\u001b[0m \u001b[1;33m\u001b[0m\u001b[0m\n",
      "\u001b[0;32mg:\\Anaconda3\\envs\\py3\\lib\\asyncio\\tasks.py\u001b[0m in \u001b[0;36m_step\u001b[0;34m(***failed resolving arguments***)\u001b[0m\n\u001b[1;32m    237\u001b[0m                 \u001b[1;31m# We use the `send` method directly, because coroutines\u001b[0m\u001b[1;33m\u001b[0m\u001b[1;33m\u001b[0m\u001b[0m\n\u001b[1;32m    238\u001b[0m                 \u001b[1;31m# don't have `__iter__` and `__next__` methods.\u001b[0m\u001b[1;33m\u001b[0m\u001b[1;33m\u001b[0m\u001b[0m\n\u001b[0;32m--> 239\u001b[0;31m                 \u001b[0mresult\u001b[0m \u001b[1;33m=\u001b[0m \u001b[0mcoro\u001b[0m\u001b[1;33m.\u001b[0m\u001b[0msend\u001b[0m\u001b[1;33m(\u001b[0m\u001b[1;32mNone\u001b[0m\u001b[1;33m)\u001b[0m\u001b[1;33m\u001b[0m\u001b[0m\n\u001b[0m\u001b[1;32m    240\u001b[0m             \u001b[1;32melse\u001b[0m\u001b[1;33m:\u001b[0m\u001b[1;33m\u001b[0m\u001b[0m\n\u001b[1;32m    241\u001b[0m                 \u001b[0mresult\u001b[0m \u001b[1;33m=\u001b[0m \u001b[0mcoro\u001b[0m\u001b[1;33m.\u001b[0m\u001b[0mthrow\u001b[0m\u001b[1;33m(\u001b[0m\u001b[0mexc\u001b[0m\u001b[1;33m)\u001b[0m\u001b[1;33m\u001b[0m\u001b[0m\n",
      "\u001b[0;32m<ipython-input-12-c21505f93fcd>\u001b[0m in \u001b[0;36mparser\u001b[0;34m(url)\u001b[0m\n\u001b[1;32m     21\u001b[0m                 \u001b[1;34m'icon_cover'\u001b[0m\u001b[1;33m:\u001b[0m \u001b[0micon_cover_i\u001b[0m\u001b[1;33m[\u001b[0m\u001b[1;34m'data-original'\u001b[0m\u001b[1;33m]\u001b[0m\u001b[1;33m\u001b[0m\u001b[0m\n\u001b[1;32m     22\u001b[0m             }\n\u001b[0;32m---> 23\u001b[0;31m             \u001b[0mcol\u001b[0m\u001b[1;33m.\u001b[0m\u001b[0minsert\u001b[0m\u001b[1;33m(\u001b[0m\u001b[0mcontent\u001b[0m\u001b[1;33m)\u001b[0m\u001b[1;33m\u001b[0m\u001b[0m\n\u001b[0m\u001b[1;32m     24\u001b[0m             \u001b[0mprint\u001b[0m\u001b[1;33m(\u001b[0m\u001b[1;34m'成功插入一组数据'\u001b[0m \u001b[1;33m+\u001b[0m \u001b[0mstr\u001b[0m\u001b[1;33m(\u001b[0m\u001b[0mcontent\u001b[0m\u001b[1;33m)\u001b[0m\u001b[1;33m)\u001b[0m\u001b[1;33m\u001b[0m\u001b[0m\n\u001b[1;32m     25\u001b[0m \u001b[1;33m\u001b[0m\u001b[0m\n",
      "\u001b[0;31mNameError\u001b[0m: name 'col' is not defined"
     ]
    }
   ],
   "source": [
    "import time\n",
    "def method_3():\n",
    "    async def get_url(url):\n",
    "        async with aiohttp.ClientSession() as session:  # await关键字将暂停协程函数的执行，等待异步IO返回结果。\n",
    "            async with session.get(url) as html:\n",
    "                response = await html.text(encoding=\"utf-8\")  # await关键字将暂停协程函数的执行，等待异步IO返回结果。\n",
    "                return response\n",
    "\n",
    "    async def parser(url):\n",
    "        html = await get_url(url)\n",
    "        soup = BeautifulSoup(html, 'lxml')\n",
    "        title = soup.find_all(class_='title')\n",
    "        app_title = soup.find_all(class_='app-title')\n",
    "        item_cover = soup.find_all(class_='item-cover')\n",
    "        icon_cover = soup.select('div.list-wrap > ul > li > div.icon > img')\n",
    "        for title_i, app_title_i, item_cover_i, icon_cover_i in zip(title, app_title, item_cover, icon_cover):\n",
    "            content = {\n",
    "                'title': title_i.get_text(),\n",
    "                'app_title': app_title_i.get_text(),\n",
    "                'item_cover': item_cover_i['data-original'],\n",
    "                'icon_cover': icon_cover_i['data-original']\n",
    "            }\n",
    "            col.insert(content)\n",
    "            print('成功插入一组数据' + str(content))\n",
    "\n",
    "    start = time.time()\n",
    "    loop = asyncio.get_event_loop()\n",
    "    tasks = [parser(url) for url in urls]\n",
    "    loop.run_until_complete(asyncio.gather(*tasks))\n",
    "    print(time.time() - start)\n",
    "\n",
    "method_3()"
   ]
  },
  {
   "cell_type": "markdown",
   "metadata": {},
   "source": [
    "修改为适合jupyter运行的代码，如下："
   ]
  },
  {
   "cell_type": "code",
   "execution_count": 11,
   "metadata": {
    "collapsed": false
   },
   "outputs": [
    {
     "name": "stdout",
     "output_type": "stream",
     "text": [
      "成功插入一组数据{'app_title': '日历Sunrise', 'icon_cover': 'http://android-artworks.25pp.com/fs08/2016/06/08/8/1_57cbc0ae6bb8ba36ba4267b9ee2f3ddc_con.png', 'item_cover': 'http://android-imgs.25pp.com/fs08/2017/04/10/0/8f60c41afe610862ff392efd02d02f34.jpg', 'title': '俏皮灵动的社交日历'}\n",
      "成功插入一组数据{'app_title': 'nice', 'icon_cover': 'http://android-artworks.25pp.com/fs08/2017/11/09/7/110_1c63d3e9396b87267a10d536d25818c1_con.png', 'item_cover': 'http://android-imgs.25pp.com/fs08/2017/04/10/10/1aaaaedc5a4149295b9f92a6d331ea28.jpg', 'title': '晒给懂你的人'}\n",
      "成功插入一组数据{'app_title': '神折纸', 'icon_cover': 'http://android-artworks.25pp.com/fs08/2017/09/22/6/109_6fefe1d1860ee6fdf561525bfbdb6980_con.png', 'item_cover': 'http://android-imgs.25pp.com/fs08/2017/04/10/5/7e8cd35a7036ecb6033cd8a1a766e618.jpg', 'title': '静静体味纸的魅力'}\n",
      "成功插入一组数据{'app_title': '番茄土豆', 'icon_cover': 'http://android-artworks.25pp.com/fs08/2017/04/10/7/110_0cb84b55eeda016a2407bd7bd04798c3_con.png', 'item_cover': 'http://android-imgs.25pp.com/fs08/2017/04/10/7/dcf8a71f466654831dcddb60fd7b2014.jpg', 'title': '完成了不起的工作'}\n",
      "成功插入一组数据{'app_title': 'SolGroup', 'icon_cover': 'http://android-artworks.25pp.com/fs08/2016/06/09/7/1_324eea99c68e8a19b9d76ab0c9146bfd_con.png', 'item_cover': 'http://android-imgs.25pp.com/fs08/2017/04/10/10/8c99f5a9a11bc38fb6bff22370116202.jpg', 'title': '小圈子里的组团新方案'}\n",
      "成功插入一组数据{'app_title': '笨拙的忍者', 'icon_cover': 'http://android-artworks.25pp.com/fs08/2017/10/24/4/109_f2e6d6a4f507c5ad4353a6fce748251f_con.png', 'item_cover': 'http://android-imgs.25pp.com/fs08/2017/04/10/7/680fe397555a7063042069622b91e528.jpg', 'title': '如生的虚拟朋友'}\n",
      "成功插入一组数据{'app_title': '落网', 'icon_cover': 'http://android-artworks.25pp.com/fs08/2017/11/01/7/110_2eb827c3816911ea19ba10205f68e8b0_con.png', 'item_cover': 'http://android-imgs.25pp.com/fs08/2017/04/10/10/bd35fc7695f0f0b00620a4d2999f7d9c.jpg', 'title': '独立的独立音乐记录者'}\n",
      "成功插入一组数据{'app_title': '钓鱼发烧友', 'icon_cover': 'http://android-artworks.25pp.com/fs08/2017/10/17/5/109_c5bb1c5250891e6221be7c37895f8769_con.png', 'item_cover': 'http://android-imgs.25pp.com/fs08/2017/04/10/8/ff2885c541a244903291e0ab36f3dbcb.jpg', 'title': '人生总有那么条大鱼'}\n",
      "成功插入一组数据{'app_title': '全天候计步器', 'icon_cover': 'http://android-artworks.25pp.com/fs08/2016/06/21/11/102_bc771bb4a5602d371e761cdf93ec1be5_con.png', 'item_cover': 'http://android-imgs.25pp.com/fs08/2017/04/10/8/be372c1d57b1e172f012b33f6948d3c8.jpg', 'title': '从行走中认识自己'}\n",
      "成功插入一组数据{'app_title': '最美壁纸', 'icon_cover': 'http://android-artworks.25pp.com/fs08/2017/04/25/11/110_93153fa64c76c1eeda1b0758ba14e273_con.png', 'item_cover': 'http://android-imgs.25pp.com/fs08/2017/04/10/7/1b55d106d441e0d0501d9a4b6f92b2ea.jpg', 'title': '每天的优雅邂逅'}\n",
      "成功插入一组数据{'app_title': '方片收集', 'icon_cover': 'http://android-artworks.25pp.com/fs08/2017/08/21/8/106_661f3c69d0b5c0603ca36204e0103d1c_con.png', 'item_cover': 'http://android-imgs.25pp.com/fs08/2017/04/10/3/6277ad85dcdc03fd8a590a014cead7ee.jpg', 'title': '你离灵感，只差 0.13 秒'}\n",
      "成功插入一组数据{'app_title': '∞ 再环', 'icon_cover': 'http://android-artworks.25pp.com/fs08/2017/11/06/3/109_f45956a9d5339a3b200ccea49c0d1b17_con.png', 'item_cover': 'http://android-imgs.25pp.com/fs08/2017/04/10/10/423bb1ed8eebfdf0a3a5585a399d3c36.jpg', 'title': '这款无限关卡的游戏，通关画面都能设成壁纸'}\n",
      "成功插入一组数据{'app_title': 'SKRWT', 'icon_cover': 'http://android-artworks.25pp.com/fs08/2016/09/03/4/102_00359b7e948469d8e4685aebf8ac3f40_con.png', 'item_cover': 'http://android-imgs.25pp.com/fs08/2017/04/10/5/d07dcfe2ec9244e1c02eaad851e2dfc3.jpg', 'title': '用这款修图软件还原真实世界'}\n",
      "成功插入一组数据{'app_title': '点亮灯塔', 'icon_cover': 'http://android-artworks.25pp.com/fs08/2017/11/01/5/115_b2f58b67ae53ef35cc15519f37603a3f_con.png', 'item_cover': 'http://android-imgs.25pp.com/fs08/2017/07/14/11/7076f66d2a786147a7deefb0f26480e5.jpg', 'title': '像个物理学家一样思考光的轨迹'}\n",
      "成功插入一组数据{'app_title': '破碎大陆2', 'icon_cover': 'http://android-artworks.25pp.com/fs08/2017/10/11/4/109_35ab57a552a59f718bb8ecf8e30fe49b_con.png', 'item_cover': 'http://android-imgs.25pp.com/fs08/2017/04/10/6/1c77c1e65626727e0f4e38ea35c96966.jpg', 'title': '带着 1000 个生物在末日里逃生'}\n",
      "成功插入一组数据{'app_title': '一席', 'icon_cover': 'http://android-artworks.25pp.com/fs08/2017/11/02/6/110_4a0006bcf26a33d78da662b7750eea7f_con.png', 'item_cover': 'http://android-imgs.25pp.com/fs08/2017/04/10/7/2c69601c4831a12ea537bef1d0643995.jpg', 'title': '这里有 400 个值得聆听的人生故事'}\n",
      "成功插入一组数据{'app_title': '深海水族馆', 'icon_cover': 'http://android-artworks.25pp.com/fs08/2017/10/25/10/109_47fe7e9f000e3684eab4f9910f13e608_con.png', 'item_cover': 'http://android-imgs.25pp.com/fs08/2017/04/10/5/f9e9534e09c760ce62a26160265cd6d2.png', 'title': '带你潜入美丽的海洋深处'}\n",
      "成功插入一组数据{'app_title': '织梦寻空Zenge', 'icon_cover': 'http://android-artworks.25pp.com/fs08/2017/02/02/2/109_dfacc03a0bc1ab5ff668ffd9d30127e6_con.png', 'item_cover': 'http://android-imgs.25pp.com/fs08/2017/04/10/2/4a72a3395eb7746a1ec1c34810090c15.jpg', 'title': '在手机上体验华容道和七巧板'}\n",
      "成功插入一组数据{'app_title': 'Prisma相机', 'icon_cover': 'http://android-artworks.25pp.com/fs08/2016/12/22/8/115_0fbd62abdc33f4a222d67887bd1e2d32_con.png', 'item_cover': 'http://android-imgs.25pp.com/fs08/2017/04/10/5/bdb1ff239faccb2965e2deb1732f4581.jpg', 'title': '在这款应用里，你也可以成为毕加索'}\n",
      "成功插入一组数据{'app_title': '增高弹簧', 'icon_cover': 'http://android-artworks.25pp.com/fs08/2016/09/13/8/102_e7edf1bded29d799673a8d2fd0e48976_con.png', 'item_cover': 'http://android-imgs.25pp.com/fs08/2017/04/10/4/71af254e60713c4ca71bfefd69aff1c2.jpg', 'title': '小短腿也有春天'}\n",
      "成功插入一组数据{'app_title': '随便走', 'icon_cover': 'http://android-artworks.25pp.com/fs08/2017/10/23/2/110_fa3b54e6b104937a9ea2bb32bee4a4ab_con.png', 'item_cover': 'http://android-imgs.25pp.com/fs08/2017/04/10/10/99bb54bb644f18f4201cb898e70744ef.jpg', 'title': '拒绝地图，总有方向'}\n",
      "成功插入一组数据{'app_title': '索尼克全明星赛车：变形  Sonic Racing Transformed', 'icon_cover': 'http://android-artworks.25pp.com/fs08/2017/03/17/6/109_590977e70eca33f681a14a7d48d4b0e2_con.png', 'item_cover': 'http://android-imgs.25pp.com/fs08/2017/04/10/10/b404cbb031783ed82f3dc40ffc407680.jpg', 'title': '赛车变形记'}\n",
      "成功插入一组数据{'app_title': '动动', 'icon_cover': 'http://android-artworks.25pp.com/fs08/2017/02/17/1/110_26f1408197a66022fad561bb4da7ba7a_con.png', 'item_cover': 'http://android-imgs.25pp.com/fs08/2017/04/10/3/7941f75a59076af9526b906436d1f907.jpg', 'title': '健康管理的贴心助手'}\n",
      "成功插入一组数据{'app_title': '哔哩哔哩', 'icon_cover': 'http://android-artworks.25pp.com/fs08/2017/11/03/11/110_88c538ef16a0722afe3c4983ef2954b9_con.png', 'item_cover': 'http://android-imgs.25pp.com/fs08/2017/04/10/9/3859e1dd51755a8d8f2f8d780202ff01.jpg', 'title': '关于哔哩哔哩，你不知道的三件事'}\n",
      "成功插入一组数据{'app_title': '厨房故事', 'icon_cover': 'http://android-artworks.25pp.com/fs08/2017/10/27/7/2_ceb53c9095c69a6f8fc7d11a5e354cdf_con.png', 'item_cover': 'http://android-imgs.25pp.com/fs08/2017/04/10/10/ad6e6491b944243a587adbd99330cbca.jpg', 'title': '不做饭，这些漂亮的食物也值得看'}\n",
      "成功插入一组数据{'app_title': 'Medium', 'icon_cover': 'http://android-artworks.25pp.com/fs08/2017/11/18/0/2_ebee11ac825073a301f0a212aaa152ae_con.png', 'item_cover': 'http://android-imgs.25pp.com/fs08/2017/04/10/3/ebd14bef5657600343efe7d7ee34b9cf.jpg', 'title': '在手机上，重现看杂志的优雅体验'}\n",
      "成功插入一组数据{'app_title': 'Layout 组合照片', 'icon_cover': 'http://android-artworks.25pp.com/fs08/2016/10/24/11/102_86ac5ee15767f0afe22dbbbaab8b4896_con.png', 'item_cover': 'http://android-imgs.25pp.com/fs08/2017/04/10/7/c001c83f9b61e0f3d1fbb68bfa482d56.jpg', 'title': '来自 Instagram 的最简单的拼图应用'}\n",
      "成功插入一组数据{'app_title': '轻芒阅读', 'icon_cover': 'http://android-artworks.25pp.com/fs08/2017/03/03/10/110_dfd9fe625141e7d1411dfcf588b7e336_con.png', 'item_cover': 'http://android-imgs.25pp.com/fs08/2017/04/10/10/a033bbca2936479ec578b46e7bd7a567.jpg', 'title': '一分钟刷完所有应用的头条'}\n",
      "成功插入一组数据{'app_title': 'Nova桌面', 'icon_cover': 'http://android-artworks.25pp.com/fs08/2016/06/09/0/1_ae6e6a07ddd97c1076bb57733d838ed0_con.png', 'item_cover': 'http://android-imgs.25pp.com/fs08/2017/04/10/6/80f338372813f7c796adc08133e7e068.jpg', 'title': '一键开启 Android 原生桌面'}\n",
      "成功插入一组数据{'app_title': '饭本', 'icon_cover': 'http://android-artworks.25pp.com/fs08/2016/06/07/11/1_765629a1ad2cb2adcb9c850044c2962a_con.png', 'item_cover': 'http://android-imgs.25pp.com/fs08/2017/04/10/0/b306fbc458d4abddb051c60d200a2ffb.jpg', 'title': '吃货的进阶人生'}\n",
      "成功插入一组数据{'app_title': 'Dots', 'icon_cover': 'http://android-artworks.25pp.com/fs08/2017/09/11/0/109_0ee85840268b0341e28ffe9ac1b742ad_con.png', 'item_cover': 'http://android-imgs.25pp.com/fs08/2017/04/10/2/03979e12f80950ddb86dc89cd0544e70.jpg', 'title': '点点连连看'}\n",
      "成功插入一组数据{'app_title': '丁香医生', 'icon_cover': 'http://android-artworks.25pp.com/fs08/2017/11/14/0/110_b9659db598e400351c3bf2083fadf972_con.png', 'item_cover': 'http://android-imgs.25pp.com/fs08/2017/04/10/10/d7e71b6ae29a79eff9ac9ef7ea730100.jpg', 'title': '家庭药箱的新成员'}\n",
      "成功插入一组数据{'app_title': 'Noom Walk', 'icon_cover': 'http://android-artworks.25pp.com/fs08/2016/06/15/5/2_c58f75abb9df9a010e8425199119d840_con.png', 'item_cover': 'http://android-imgs.25pp.com/fs08/2017/04/10/8/2a0926740be7d46ea7b60c5fc4afbc93.jpg', 'title': '没事走两步'}\n",
      "成功插入一组数据{'app_title': '焕彩闹钟', 'icon_cover': 'http://android-artworks.25pp.com/fs08/2017/10/21/9/2_61834d9ac3b6ec354e129d7608bae3a8_con.png', 'item_cover': 'http://android-imgs.25pp.com/fs08/2017/04/10/0/3d8e2a2741ba87816c644e1fd93fbb01.jpg', 'title': '华彩时间'}\n",
      "成功插入一组数据{'app_title': 'Civo', 'icon_cover': 'http://android-artworks.25pp.com/fs08/2016/06/09/1/1_081efff1c25f99f78f3dd58ec1c29722_con.png', 'item_cover': 'http://android-imgs.25pp.com/fs08/2017/04/10/6/17b63b2546508f27e744896a6c8e922e.jpg', 'title': '世界与你相会'}\n",
      "成功插入一组数据{'app_title': 'V电影', 'icon_cover': 'http://android-artworks.25pp.com/fs08/2017/10/30/9/110_342079ff551ead62a70dc7f8bb5e3ed5_con.png', 'item_cover': 'http://android-imgs.25pp.com/fs08/2017/08/24/10/089978be5a22cfb0813f02c366cadda9.jpg', 'title': '从优质短片到幕后创作，每天 5 分钟收获灵感 '}\n",
      "成功插入一组数据{'app_title': '培根逃亡', 'icon_cover': 'http://android-artworks.25pp.com/fs08/2017/07/13/5/1_fb2a0cbf80f7e01465ec6b807838090a_con.png', 'item_cover': 'http://android-imgs.25pp.com/fs08/2017/08/17/7/285a7e2cbb5aff08c5ebdac79d1bb32d.jpg', 'title': '除了主角，可以操控所有机关的跑酷游戏，挑战你的脑回路'}\n",
      "成功插入一组数据{'app_title': '不思议迷宫', 'icon_cover': 'http://android-artworks.25pp.com/fs08/2017/11/07/0/109_93f15137f8bb9551ab067303ca95b170_con.png', 'item_cover': 'http://android-imgs.25pp.com/fs08/2017/08/09/7/316f69b1084999f55a2b19b5002f66f2.jpg', 'title': '在随机生成的未知世界里, 享受探索的乐趣'}\n",
      "成功插入一组数据{'app_title': '折扇', 'icon_cover': 'http://android-artworks.25pp.com/fs08/2017/08/29/2/110_a0dc950d65fca4cf26a47aa7cb77dbe3_con.png', 'item_cover': 'http://android-imgs.25pp.com/fs08/2017/08/03/4/4f5d5974ca484efd6ddb2a7678a8e5a7.jpg', 'title': '在游戏中习得制扇工艺，在把玩中了解折叠之美'}\n",
      "成功插入一组数据{'app_title': '绝望3：黑暗地球', 'icon_cover': 'http://android-artworks.25pp.com/fs08/2017/09/22/3/109_54d74659cc316d3227727368b83cb8a2_con.png', 'item_cover': 'http://android-imgs.25pp.com/fs08/2017/07/26/8/0931542a3297eb9af382ed25e54ec969.jpg', 'title': '这款游戏的冒险家，胆小又呆萌'}\n",
      "成功插入一组数据{'app_title': '片场', 'icon_cover': 'http://android-artworks.25pp.com/fs08/2017/11/15/1/110_d21a7c0a00cfdc8fbfea64ce3a06eba2_con.png', 'item_cover': 'http://android-imgs.25pp.com/fs08/2017/07/19/2/e4ecde3a020e817020d9dad10d8b0720.jpg', 'title': '在 4689 个取景地中体验电影故事'}\n",
      "成功插入一组数据{'app_title': 'Anyview阅读器', 'icon_cover': 'http://android-artworks.25pp.com/fs08/2017/01/06/8/106_cd462dfcb30dc3336cdfd0e5ad13fcf4_con.png', 'item_cover': 'http://android-imgs.25pp.com/fs08/2017/04/10/0/6347f7d3a120304a2014ce9dab4221fb.jpg', 'title': '老牌阅读器的 Android 新征程 '}\n",
      "成功插入一组数据{'app_title': '小米桌面（主题壁纸锁屏）', 'icon_cover': 'http://android-artworks.25pp.com/fs08/2016/06/07/4/1_e68da416952088725a9bc14673241cfe_con.png', 'item_cover': 'http://android-imgs.25pp.com/fs08/2017/04/10/0/028ee2d7610d120746f7315f5589ec76.jpg', 'title': '让安卓手机变得更好用'}\n",
      "成功插入一组数据{'app_title': '优衣库闹钟 UNIQLO WAKE UP', 'icon_cover': 'http://android-artworks.25pp.com/fs08/2017/02/10/8/102_cc5dca5702c7a6c424d2413ac485b0e5_con.png', 'item_cover': 'http://android-imgs.25pp.com/fs08/2017/04/10/8/3157ae33875e63b752db45df05f01e3b.jpg', 'title': '推荐蕴含其中的生活态度和品质'}\n",
      "成功插入一组数据{'app_title': '豆瓣音乐人', 'icon_cover': 'http://android-artworks.25pp.com/fs08/2016/06/08/7/1_c24b91fa803c448e55f4e8084ce629aa_con.png', 'item_cover': 'http://android-imgs.25pp.com/fs08/2017/04/10/6/0503d4f9073fe25949e3ed6e2a7573a4.jpg', 'title': '音乐是一种生活方式'}\n",
      "成功插入一组数据{'app_title': '慢慢看o原蜗牛o', 'icon_cover': 'http://android-artworks.25pp.com/fs08/2016/06/06/8/1_e556332bad73b18698378a5df4cb3c93_con.png', 'item_cover': 'http://android-imgs.25pp.com/fs08/2017/04/10/3/1132d582765be8aa8318d1319d35371d.jpg', 'title': '让看电视变的更有趣'}\n",
      "成功插入一组数据{'app_title': 'Flipboard红板报', 'icon_cover': 'http://android-artworks.25pp.com/fs08/2017/11/08/4/110_be2504c00ab453ab48ad0d45aeb491ce_con.png', 'item_cover': 'http://android-imgs.25pp.com/fs08/2017/04/10/7/ac2672ca5f945e9ec03c4fa644e415d5.jpg', 'title': '着迷于你所看到的一切'}\n",
      "成功插入一组数据{'app_title': 'Coursera', 'icon_cover': 'http://android-artworks.25pp.com/fs08/2016/09/26/7/102_d49113a4ddbe0526fa2ed114777e5031_con.png', 'item_cover': 'http://android-imgs.25pp.com/fs08/2017/04/10/8/0b90ee4fb387a4dd090fefdd2152f13e.jpg', 'title': '满足你的求知欲'}\n",
      "成功插入一组数据{'app_title': 'Plant Nanny 植物保姆', 'icon_cover': 'http://android-artworks.25pp.com/fs08/2017/10/16/2/109_43fad06a06d964d42e0493148a659a31_con.png', 'item_cover': 'http://android-imgs.25pp.com/fs08/2017/04/10/1/60ed06b84f306cf23ae510a0241b0434.jpg', 'title': '和小植物一起维护健康'}\n",
      "成功插入一组数据{'app_title': 'Fotor', 'icon_cover': 'http://android-artworks.25pp.com/fs08/2017/11/14/1/110_9777770b949a6ce74c02934a9886491b_con.png', 'item_cover': 'http://android-imgs.25pp.com/fs08/2017/04/10/11/180286f512d1586e8d29308b3e98d724.jpg', 'title': '只为好照片'}\n",
      "成功插入一组数据{'app_title': '虾米音乐', 'icon_cover': 'http://android-artworks.25pp.com/fs08/2017/11/17/11/110_a5a2f1330e850a524f9c94ecd45d2c51_con.png', 'item_cover': 'http://android-imgs.25pp.com/fs08/2017/04/10/1/fa65432bc4c46ebcc46b2e9b27e7a268.jpg', 'title': '与懂你的音乐在一起'}\n",
      "成功插入一组数据{'app_title': 'Muzzik', 'icon_cover': 'http://android-artworks.25pp.com/fs08/2016/06/07/6/1_1c5cbf34c393e1b542a7f5493df2b6a7_con.png', 'item_cover': 'http://android-imgs.25pp.com/fs08/2017/04/10/5/9f8a1d84085e8d282994a648b16afedc.jpg', 'title': '你的音乐故事'}\n",
      "成功插入一组数据{'app_title': '追光者2', 'icon_cover': 'http://android-artworks.25pp.com/fs08/2017/06/13/5/109_62bfb515140faa8c75f48433d31821c9_con.png', 'item_cover': 'http://android-imgs.25pp.com/fs08/2017/06/01/5/fceeb8d0756af1ac5ca24cee6f12b446.jpg', 'title': '唯美冒险解谜游戏，一起追逐光明的力量'}\n",
      "成功插入一组数据{'app_title': '网易蜗牛读书', 'icon_cover': 'http://android-artworks.25pp.com/fs08/2017/11/03/11/110_3f3f6abd2e05ea111f28df380fdbc936_con.png', 'item_cover': 'http://android-imgs.25pp.com/fs08/2017/05/25/8/9af9f95dec488d8af530080dcea844fc.jpg', 'title': ' 每天免费 1 小时，用更低成本看更多好书'}\n",
      "成功插入一组数据{'app_title': 'Mori手帐', 'icon_cover': 'http://android-artworks.25pp.com/fs08/2017/11/17/3/2_f807a34c25564369ddac61d67b09b784_con.png', 'item_cover': 'http://android-imgs.25pp.com/fs08/2017/05/19/11/dbdb9b6722c646671d5ec8f249ac423b.jpg', 'title': '3 秒钟做出漂亮手账，平淡日子里的美好仪式'}\n",
      "成功插入一组数据{'app_title': '缪斯计划', 'icon_cover': 'http://android-artworks.25pp.com/fs08/2017/09/06/7/109_597af6168d91b6e6df35238cf405811a_con.png', 'item_cover': 'http://android-imgs.25pp.com/fs08/2017/05/19/10/632c2d196459a42efa1f62332b8ee993.jpg', 'title': '像弹钢琴一般，享受指尖的轻盈反馈'}\n",
      "成功插入一组数据{'app_title': '字里行间', 'icon_cover': 'http://android-artworks.25pp.com/fs08/2017/10/09/8/110_f4687b91d9eed686242ce7f7d8c1339f_con.png', 'item_cover': 'http://android-imgs.25pp.com/fs08/2017/05/19/5/f2e466cfb99d4ff54424a90891493211.jpg', 'title': '在字里行间，发现创作的乐趣'}\n",
      "成功插入一组数据{'app_title': '僵尸榨汁机', 'icon_cover': 'http://android-artworks.25pp.com/fs08/2017/05/27/4/109_fdc48f9111c51f8fe1e4064be5b0206a_con.png', 'item_cover': 'http://android-imgs.25pp.com/fs08/2017/05/19/11/4c9918ffec956f22908f4f639f457553.jpg', 'title': '捕获 20 多种僵尸，做成果汁和沙冰'}\n",
      "成功插入一组数据{'app_title': '番茄快点 - 10秒点出一桌菜', 'icon_cover': 'http://android-artworks.25pp.com/fs08/2016/06/08/10/1_989866e7a9d54bd7d30609c8efafc6bf_con.png', 'item_cover': 'http://android-imgs.25pp.com/fs08/2017/04/10/6/7ef5f8f19672513b6d220ed8ee7a6c78.jpg', 'title': '选择困难症的点菜宝'}\n",
      "成功插入一组数据{'app_title': 'Waze', 'icon_cover': 'http://android-artworks.25pp.com/fs08/2017/11/17/2/115_2132dd58e44e65e6f2a92fab47be6b7f_con.png', 'item_cover': 'http://android-imgs.25pp.com/fs08/2017/04/10/9/4f78a54ff2eef2015b4f1e93765c64f3.jpg', 'title': '城市交通感受器'}\n",
      "成功插入一组数据{'app_title': '多看阅读', 'icon_cover': 'http://android-artworks.25pp.com/fs08/2017/10/20/8/110_bd67c01960569c625377d49e0e12b66e_con.png', 'item_cover': 'http://android-imgs.25pp.com/fs08/2017/04/10/4/440b4f3c92ba511693d033a5d250bec1.jpg', 'title': '翻开阅读新一页'}\n",
      "成功插入一组数据{'app_title': '知趣天气', 'icon_cover': 'http://android-artworks.25pp.com/fs08/2017/05/02/4/110_832246980eac005ca87eb8b7aaa9741c_con.png', 'item_cover': 'http://android-imgs.25pp.com/fs08/2017/04/10/8/6c46bfef864ed00afe98f66a8210d8aa.jpg', 'title': '天空刮过剪纸风'}\n",
      "成功插入一组数据{'app_title': '瘦瘦', 'icon_cover': 'http://android-artworks.25pp.com/fs08/2017/11/10/8/110_b7e5a260ed02ecb790e2ce235dba943f_con.png', 'item_cover': 'http://android-imgs.25pp.com/fs08/2017/04/10/9/1a5e6f63cbc11ff76250e18f993bfa80.jpg', 'title': '帮你勒紧裤腰带'}\n",
      "成功插入一组数据{'app_title': 'Fuubo微博', 'icon_cover': 'http://android-artworks.25pp.com/fs08/2016/09/05/11/102_516da3d44d895e95a972d050448119bd_con.png', 'item_cover': 'http://android-imgs.25pp.com/fs08/2017/04/10/6/150242e0e5d2f9e09597753b8c23756b.jpg', 'title': '眼前一亮'}\n",
      "成功插入一组数据{'app_title': '旅行箱', 'icon_cover': 'http://android-artworks.25pp.com/fs08/2017/06/21/6/110_0f1dd5d98706386b968eb114f7ebf487_con.png', 'item_cover': 'http://android-imgs.25pp.com/fs08/2017/04/10/8/a88b02b2351d1a112beb1fce7e784be7.jpg', 'title': '陪你走世界的旅行箱'}\n",
      "成功插入一组数据{'app_title': 'Buzz桌面', 'icon_cover': 'http://android-artworks.25pp.com/fs08/2016/12/30/0/115_38b95df84411a2273406424ea638ecff_con.png', 'item_cover': 'http://android-imgs.25pp.com/fs08/2017/04/10/6/d3330a997f0b2059536fe302c2e5ae33.jpg', 'title': '突破想象力的桌面'}\n",
      "成功插入一组数据{'app_title': '蝉游记', 'icon_cover': 'http://android-artworks.25pp.com/fs08/2016/06/07/4/1_c3a693f4b566979c739e8258e04b333d_con.png', 'item_cover': 'http://android-imgs.25pp.com/fs08/2017/04/10/9/9a1c29423e409e3d0d30115c1ef14343.jpg', 'title': '发现旅行之美'}\n",
      "成功插入一组数据{'app_title': 'Toshl 理财', 'icon_cover': 'http://android-artworks.25pp.com/fs08/2017/02/10/3/102_0263ea48cf3f5aa9023bee0768b88d62_con.png', 'item_cover': 'http://android-imgs.25pp.com/fs08/2017/04/10/6/ecacc59098e3bd500937a03dfac808d9.jpg', 'title': '钱包精灵'}\n",
      "成功插入一组数据{'app_title': 'Jing智能电台', 'icon_cover': 'http://android-artworks.25pp.com/fs08/2016/06/09/9/1_b193c4608954020a5791125c319c7986_con.png', 'item_cover': 'http://android-imgs.25pp.com/fs08/2017/04/10/6/38eded57b8b76a14d04fd7aac2e1d38d.jpg', 'title': '随身音乐 随心点播'}\n",
      "成功插入一组数据{'app_title': '有道词典', 'icon_cover': 'http://android-artworks.25pp.com/fs08/2017/11/01/3/110_c5db8996630adfac66c6277091502a38_con.png', 'item_cover': 'http://android-imgs.25pp.com/fs08/2017/04/10/10/d8d457959bdf8a00ccb7b7d1a804029d.jpg', 'title': '英语学习全计划'}\n",
      "成功插入一组数据{'app_title': '闹钟one', 'icon_cover': 'http://android-artworks.25pp.com/fs08/2016/06/09/0/1_b5fdc47297c4b8bc724a813123662a7c_con.png', 'item_cover': 'http://android-imgs.25pp.com/fs08/2017/04/10/10/6d7eb1821c14531bbfd045a076e83e0a.jpg', 'title': '在卡片中管理时间'}\n",
      "成功插入一组数据{'app_title': '欢喜Fancy', 'icon_cover': 'http://android-artworks.25pp.com/fs08/2017/10/21/1/2_af9d7d3a48e6b28ace7c4cc3737a12b7_con.png', 'item_cover': 'http://android-imgs.25pp.com/fs08/2017/04/10/1/299c091cde98b469fd55d580be370d14.jpg', 'title': '有爱设计，每日欢喜'}\n",
      "成功插入一组数据{'app_title': 'iWeekly', 'icon_cover': 'http://android-artworks.25pp.com/fs08/2017/11/10/7/2_dd0c904627cc36f67da37736eaa81917_con.png', 'item_cover': 'http://android-imgs.25pp.com/fs08/2017/04/10/6/3e8bb5fcd9c0dcc57111d5142e0a87e4.jpg', 'title': '手机杂志的冲击力'}\n",
      "成功插入一组数据{'app_title': '阅读空气', 'icon_cover': 'http://android-artworks.25pp.com/fs08/2016/08/03/9/109_76a386f5805f2ec0a7380a48cbc07f73_con.png', 'item_cover': 'http://android-imgs.25pp.com/fs08/2017/04/10/0/3d0b71a55b1eff2a03fd85e1aa6db2b5.jpg', 'title': '休闲游戏改造人生'}\n",
      "成功插入一组数据{'app_title': 'VPlayer', 'icon_cover': 'http://android-artworks.25pp.com/fs08/2016/06/08/10/1_26247caf798302230626e90bea4931a2_con.png', 'item_cover': 'http://android-imgs.25pp.com/fs08/2017/04/10/1/3a7f5b9f4dfd9b84aecede31aaba61a1.jpg', 'title': '全新的影音娱乐生活'}\n",
      "成功插入一组数据{'app_title': '唱吧', 'icon_cover': 'http://android-artworks.25pp.com/fs08/2017/11/01/4/110_171b583a837a32a24d13ffb4193b31bb_con.png', 'item_cover': 'http://android-imgs.25pp.com/fs08/2017/04/10/8/1b57fade7e5f2c51700ad1c9a383ef46.jpg', 'title': '对着手机演唱一段歌曲'}\n",
      "成功插入一组数据{'app_title': '面包猎人', 'icon_cover': 'http://android-artworks.25pp.com/fs08/2017/05/23/6/110_9747021df9e85212ad479bee50c40327_con.png', 'item_cover': 'http://android-imgs.25pp.com/fs08/2017/04/10/8/3a106cfb4a9775e9bfcccfb9190076e7.jpg', 'title': '探索世界的轨迹'}\n",
      "成功插入一组数据{'app_title': '多趣旅行Pro', 'icon_cover': 'http://android-artworks.25pp.com/fs08/2016/06/07/5/1_452c36e7839655669d5e5eeeaa9035fc_con.png', 'item_cover': 'http://android-imgs.25pp.com/fs08/2017/04/10/2/22142dd46c8d1a067e8a4691e7716eba.jpg', 'title': '为手机而生的旅游手册'}\n",
      "成功插入一组数据{'app_title': '怪兽合唱团', 'icon_cover': 'http://android-artworks.25pp.com/fs08/2017/03/14/2/102_43cc92a63e9dc8fb26568b2bcccb844e_con.png', 'item_cover': 'http://android-imgs.25pp.com/fs08/2017/04/10/9/cc6ca724800556ac9229c0c132e7b681.jpg', 'title': '你是我生命里的一首歌'}\n",
      "成功插入一组数据{'app_title': 'Cooliris', 'icon_cover': 'http://android-artworks.25pp.com/fs08/2016/06/09/8/1_49b5a3a0752f63692fe1566767952ab3_con.png', 'item_cover': 'http://android-imgs.25pp.com/fs08/2017/04/10/9/78cab107beade76381ddc91b097e718b.jpg', 'title': '一手掌管所有的照片'}\n",
      "成功插入一组数据{'app_title': '违章查询助手', 'icon_cover': 'http://android-artworks.25pp.com/fs08/2017/11/03/2/110_f9b3951cce20076cadd878cdc8d773c9_con.png', 'item_cover': 'http://android-imgs.25pp.com/fs08/2017/04/10/9/57e9592176507baa6341a1414bfda5ce.jpg', 'title': '方便你的行车生活'}\n",
      "成功插入一组数据{'app_title': '品酷(标注品牌)', 'icon_cover': 'http://android-artworks.25pp.com/fs08/2016/06/07/7/1_c169db9053cc5bdab125ab04d9d29663_con.png', 'item_cover': 'http://android-imgs.25pp.com/fs08/2017/04/10/1/04373f55b935d0f697fb753237edd4f0.jpg', 'title': '标记你的生活'}\n",
      "成功插入一组数据{'app_title': '急速冲击完美版', 'icon_cover': 'http://android-artworks.25pp.com/fs08/2017/09/22/5/109_97da98b4dafe543e5957199f8d5c2091_con.png', 'item_cover': 'http://android-imgs.25pp.com/fs08/2017/04/10/6/5b172e39460e5c0c74f28280dc5d1406.jpg', 'title': '玩玻璃的球'}\n",
      "成功插入一组数据{'app_title': 'Friday私人助理', 'icon_cover': 'http://android-artworks.25pp.com/fs08/2016/06/08/10/1_2f42ff2eb994ffa99c2394212e3bc5d2_con.png', 'item_cover': 'http://android-imgs.25pp.com/fs08/2017/04/10/8/ad4fc8379e1c2d9eb040ffe8e4acad01.jpg', 'title': '你的手机行为日记'}\n",
      "成功插入一组数据{'app_title': 'hello短信', 'icon_cover': 'http://android-artworks.25pp.com/fs08/2016/06/07/9/1_1e71f6aeef528facaaacfe38690fdfb2_con.png', 'item_cover': 'http://android-imgs.25pp.com/fs08/2017/04/10/6/b4de9bdea8c430c147b669b7b3bfa956.jpg', 'title': '极简短信的新体验'}\n",
      "成功插入一组数据{'app_title': '3D桌面', 'icon_cover': 'http://android-artworks.25pp.com/fs08/2017/03/31/10/2_0b1c0a732c6bc19f12fd447b9bc6ab68_con.png', 'item_cover': 'http://android-imgs.25pp.com/fs08/2017/04/10/3/129384b9218e4e6bd2677d0be864c21a.jpg', 'title': '给眼睛的糖'}\n",
      "成功插入一组数据{'app_title': 'Autodesk Pixlr', 'icon_cover': 'http://android-artworks.25pp.com/fs08/2016/06/07/7/1_02c05f9cafa6437e623bf7d56c93da5e_con.png', 'item_cover': 'http://android-imgs.25pp.com/fs08/2017/04/10/5/b2a5109c911159cd7f24d94506cdbf9a.jpg', 'title': '修图万能工具箱'}\n",
      "成功插入一组数据{'app_title': 'Solar天气', 'icon_cover': 'http://android-artworks.25pp.com/fs08/2016/06/09/8/1_ec3ec242ce088a2f3a38b38b1708250a_con.png', 'item_cover': 'http://android-imgs.25pp.com/fs08/2017/04/10/7/f198f84801abbfb2359f925e0f58b8cd.jpg', 'title': '大胆放肆的设计实验'}\n",
      "成功插入一组数据{'app_title': 'SolMail', 'icon_cover': 'http://android-artworks.25pp.com/fs08/2017/08/11/7/115_a4ffcea2e5664c93d7a3355ab6969b15_con.png', 'item_cover': 'http://android-imgs.25pp.com/fs08/2017/04/10/4/8d1831516d06df1b4ae4d61c72a61315.jpg', 'title': '重新找回邮件生产力'}\n",
      "成功插入一组数据{'app_title': '雅虎天气 Yahoo Weather', 'icon_cover': 'http://android-artworks.25pp.com/fs08/2016/09/05/4/102_6447c520986a36fe1db75cbf94093078_con.png', 'item_cover': 'http://android-imgs.25pp.com/fs08/2017/04/10/3/dd3308e4fdcbe36361cc662e593875cd.jpg', 'title': '老牌应用的新晴天'}\n",
      "成功插入一组数据{'app_title': '财务管理', 'icon_cover': 'http://android-artworks.25pp.com/fs08/2016/06/07/10/1_36b3479b38cbbeb614b99e008815c6e9_con.png', 'item_cover': 'http://android-imgs.25pp.com/fs08/2017/04/10/3/4ed0dd68c1a19740e867b62c5ea2da1f.jpg', 'title': '简洁上手，强大功能'}\n",
      "成功插入一组数据{'app_title': '单词锁屏', 'icon_cover': 'http://android-artworks.25pp.com/fs08/2016/06/08/7/1_bb86737b964dc802439d670850fcae96_con.png', 'item_cover': 'http://android-imgs.25pp.com/fs08/2017/04/10/10/295bfad7c7ac1513b1c87d6bf4f84952.jpg', 'title': '学霸，只因为多看了一眼'}\n",
      "成功插入一组数据{'app_title': '掌阅听书', 'icon_cover': 'http://android-artworks.25pp.com/fs08/2016/06/07/3/1_028d64a496ce695f8323aab501349d09_con.png', 'item_cover': 'http://android-imgs.25pp.com/fs08/2017/04/10/6/7d8d10a0279b07a5f2ba34f692eee824.jpg', 'title': '给知识一个发声机会'}\n",
      "成功插入一组数据{'app_title': 'LINE Brush·连我画笔', 'icon_cover': 'http://android-artworks.25pp.com/fs08/2016/06/07/8/1_e4f386e73e5a57a4dc2b3cb50b84df33_con.png', 'item_cover': 'http://android-imgs.25pp.com/fs08/2017/04/10/6/ab2ffc8138661ada9f9b660b9bd35fc4.jpg', 'title': '见字如晤'}\n",
      "成功插入一组数据{'app_title': '7x7消除', 'icon_cover': 'http://android-artworks.25pp.com/fs08/2016/08/18/8/109_448dd24e302b895ee7be41108cabae5d_con.png', 'item_cover': 'http://android-imgs.25pp.com/fs08/2017/04/10/1/d15a455392e8c6befd0cdc9d9c2469b3.jpg', 'title': '一局消除游戏很大的棋'}\n",
      "成功插入一组数据{'app_title': '谷歌浏览器Google Chrome', 'icon_cover': 'http://android-artworks.25pp.com/fs08/2017/04/19/10/2_f2b4f58de26356d626addf4b83e3a38d_con.png', 'item_cover': 'http://android-imgs.25pp.com/fs08/2017/04/10/5/146b1ed2d9108bf05b4241fe7289d2c4.jpg', 'title': '一款浏览器该有的样子'}\n",
      "成功插入一组数据{'app_title': 'cameran 蜷川实花相机', 'icon_cover': 'http://android-artworks.25pp.com/fs08/2016/06/07/11/1_4ff4bc96253ecadf1b793e03223c38f9_con.png', 'item_cover': 'http://android-imgs.25pp.com/fs08/2017/04/10/11/f9d529b07e46a703ec961a552ca2acf8.jpg', 'title': '一秒钟变身风格摄影家'}\n",
      "成功插入一组数据{'app_title': '音乐雷达', 'icon_cover': 'http://android-artworks.25pp.com/fs08/2016/12/22/3/115_4fe189ab1aa2e503037e15589545a779_con.png', 'item_cover': 'http://android-imgs.25pp.com/fs08/2017/04/10/0/cfee44c6e7ed76cb86b0a80da6efb94a.jpg', 'title': '会听歌辨曲的音乐电台'}\n",
      "成功插入一组数据{'app_title': '星际穿越', 'icon_cover': 'http://android-artworks.25pp.com/fs08/2017/04/22/6/109_f8ccee71737de35a058fea8033f611e4_con.png', 'item_cover': 'http://android-imgs.25pp.com/fs08/2017/04/10/2/4fec911a466d9c6fd22d87747d7bc8a1.jpg', 'title': '切身探索太空的奥秘'}\n",
      "成功插入一组数据{'app_title': '榫卯', 'icon_cover': 'http://android-artworks.25pp.com/fs08/2016/06/06/9/1_a05283da0676ecc8e15911923c63af37_con.png', 'item_cover': 'http://android-imgs.25pp.com/fs08/2017/04/10/2/21b76a41e9c7458eaa77ad1b74ac8162.jpg', 'title': '给木头爱好者的情诗'}\n",
      "成功插入一组数据{'app_title': '最美创意', 'icon_cover': 'http://android-artworks.25pp.com/fs08/2016/06/08/4/1_c2eb7c5618867e791ed2bdf24e745165_con.png', 'item_cover': 'http://android-imgs.25pp.com/fs08/2017/04/10/3/b04aa7370853b3ce9e4ec795d23316d3.jpg', 'title': '和喜欢的创意不期而遇'}\n",
      "成功插入一组数据{'app_title': '滴答清单', 'icon_cover': 'http://android-artworks.25pp.com/fs08/2017/11/07/3/110_955487c3179762549a70ba14ad563356_con.png', 'item_cover': 'http://android-imgs.25pp.com/fs08/2017/04/10/11/5f5a03d52e04200b98b7c7aba5de63e2.jpg', 'title': '让生活变得简单'}\n",
      "成功插入一组数据{'app_title': '好奇心日报', 'icon_cover': 'http://android-artworks.25pp.com/fs08/2017/11/16/8/110_d667bdbcbfdc896bdda8f478dab19caf_con.png', 'item_cover': 'http://android-imgs.25pp.com/fs08/2017/04/10/7/c2fd7e375f900cac19561ba252958749.jpg', 'title': '满足好奇新方式'}\n",
      "成功插入一组数据{'app_title': '贝壳单词', 'icon_cover': 'http://android-artworks.25pp.com/fs08/2016/06/08/10/1_78819bcb3c2367ed0666bd5cfbe5e851_con.png', 'item_cover': 'http://android-imgs.25pp.com/fs08/2017/04/10/7/5156d2d0fc1f544de919757b6956eaae.jpg', 'title': '全无压力地背单词'}\n",
      "成功插入一组数据{'app_title': '机械迷城', 'icon_cover': 'http://android-artworks.25pp.com/fs08/2017/03/13/3/102_44f6ec84f95cccb31f6635d47c0df4f6_con.png', 'item_cover': 'http://android-imgs.25pp.com/fs08/2017/04/10/10/4ea654e116f53de13bfd52bc01567ad1.jpg', 'title': '这款游戏的所有背景，都是设计师用左手画的'}\n",
      "成功插入一组数据{'app_title': '开眼 Eyepetizer', 'icon_cover': 'http://android-artworks.25pp.com/fs08/2017/11/17/9/110_1137996b80d13a63510f128aa040bb6d_con.png', 'item_cover': 'http://android-imgs.25pp.com/fs08/2017/04/10/0/0f8c8f43cc5a656e7778c3a6dfb6093f.jpg', 'title': '从广告到奥斯卡获奖动画 ，每天让你大开眼界'}\n",
      "成功插入一组数据{'app_title': '微软延时摄影 Hyperlapse', 'icon_cover': 'http://android-artworks.25pp.com/fs08/2016/06/07/7/1_5f02500176ab17159c310cf9882b6991_con.png', 'item_cover': 'http://android-imgs.25pp.com/fs08/2017/04/10/3/ce5725933b1ec25c9124508d2d4a72e2.jpg', 'title': '十秒钟看一次完整日出'}\n",
      "成功插入一组数据{'app_title': 'IDEAT理想家', 'icon_cover': 'http://android-artworks.25pp.com/fs08/2016/06/08/2/1_32e63b7032ee9a058bf509bd54bdcf99_con.png', 'item_cover': 'http://android-imgs.25pp.com/fs08/2017/04/10/4/b6884a5101631bd1aec9b2406228c8be.jpg', 'title': '从建筑到时装 它集合了所有有趣的新事物'}\n",
      "成功插入一组数据{'app_title': '玩途自由行', 'icon_cover': 'http://android-artworks.25pp.com/fs08/2016/06/07/8/1_bcef6aba93977b3a1fb9f5f84e3971ef_con.png', 'item_cover': 'http://android-imgs.25pp.com/fs08/2017/04/10/11/de541e397b145a1edf9703421a1fad78.jpg', 'title': '十分钟，搞定你的旅游行程'}\n",
      "成功插入一组数据{'app_title': '电子乐Beatport', 'icon_cover': 'http://android-artworks.25pp.com/fs08/2016/06/07/9/1_852202f3c825c1b6771fd18f3e882253_con.png', 'item_cover': 'http://android-imgs.25pp.com/fs08/2017/04/10/8/f9e777c538a11d8ea4eeb46bed6633c5.jpg', 'title': '除了流行乐，你还可以听点不一样的'}\n",
      "成功插入一组数据{'app_title': '引导火车', 'icon_cover': 'http://android-artworks.25pp.com/fs08/2017/11/07/6/109_c9412708ffa9b74a831956e99d113586_con.png', 'item_cover': 'http://android-imgs.25pp.com/fs08/2017/04/10/0/9ab8c4c235f31233e1813be43755a8f5.jpg', 'title': '忙碌的春运之余，来当一名火车调度员'}\n",
      "成功插入一组数据{'app_title': 'mars', 'icon_cover': 'http://android-artworks.25pp.com/fs08/2017/11/13/6/110_6a740ad28ab7cbb950101a1eef7086e9_con.png', 'item_cover': 'http://android-imgs.25pp.com/fs08/2017/04/10/5/c00e716be45b4e91c6d1d0540b977e53.jpg', 'title': '发现一座城市最好玩的角落'}\n",
      "成功插入一组数据{'app_title': '迷雾穿梭', 'icon_cover': 'http://android-artworks.25pp.com/fs08/2017/09/22/6/109_7ef96d06c626cac08de0710cd87f9e51_con.png', 'item_cover': 'http://android-imgs.25pp.com/fs08/2017/04/10/1/e058d9f06367bc57b46baabe3a9c9bdf.jpg', 'title': '成为一条穿梭在美景中的贪吃蛇'}\n",
      "成功插入一组数据{'app_title': '城市旅游指南Guides', 'icon_cover': 'http://android-artworks.25pp.com/fs08/2017/06/16/5/115_340179aded756dbf5ea44a56269aee40_con.png', 'item_cover': 'http://android-imgs.25pp.com/fs08/2017/04/10/9/82f4a94863e4f5c9fb52883a5d89bebc.jpg', 'title': '把每座城市的攻略装进手机'}\n",
      "成功插入一组数据{'app_title': '机器人历险记Mekorama', 'icon_cover': 'http://android-artworks.25pp.com/fs08/2017/09/25/7/109_6cf902f5d390318f79684db8e376c762_con.png', 'item_cover': 'http://android-imgs.25pp.com/fs08/2017/04/10/0/2509839e7a64ce60167de82614c8ca33.jpg', 'title': '这款解谜游戏，你可以创建自己的关卡'}\n",
      "成功插入一组数据{'app_title': '穷游锦囊', 'icon_cover': 'http://android-artworks.25pp.com/fs08/2017/10/17/8/110_9138db10ab6b2192f01177893af2872a_con.png', 'item_cover': 'http://android-imgs.25pp.com/fs08/2017/04/10/2/a1b7281fc6052ab2bc48f8a03525080b.jpg', 'title': '从冲绳到南极，你需要的所有攻略都在这里'}\n",
      "成功插入一组数据{'app_title': '阿尔托的冒险', 'icon_cover': 'http://android-artworks.25pp.com/fs08/2017/10/16/5/109_8431aa8fc2fdc71d68f4278e6f088dd0_con.png', 'item_cover': 'http://android-imgs.25pp.com/fs08/2017/04/10/8/75be687e550ceee2f717fa0a265100d3.jpg', 'title': '在这款跑酷游戏里体验日出日落'}\n",
      "成功插入一组数据{'app_title': 'Quik', 'icon_cover': 'http://android-artworks.25pp.com/fs08/2017/11/15/7/115_0e6b73136814ae4e8f05cc5979cbf4e9_con.png', 'item_cover': 'http://android-imgs.25pp.com/fs08/2017/04/10/5/b5776c3fa56699ccfdb9cbde1cea9f97.jpg', 'title': '一键生成 24 种风格的视频'}\n",
      "成功插入一组数据{'app_title': '迪士尼天天过马路', 'icon_cover': 'http://android-artworks.25pp.com/fs08/2017/10/27/10/109_e33b2d31843c16d0a0b3c99a839eb675_con.png', 'item_cover': 'http://android-imgs.25pp.com/fs08/2017/04/10/3/e627d1e48045ad8e16d34c34bc694f44.jpg', 'title': '这款像素游戏里有迪士尼 150 个经典角色'}\n",
      "成功插入一组数据{'app_title': 'Snapseed', 'icon_cover': 'http://android-artworks.25pp.com/fs08/2016/09/23/11/102_efbdfbd14ffe6ddab4ff7478e578b058_con.png', 'item_cover': 'http://android-imgs.25pp.com/fs08/2017/04/10/9/589144ea07a460a207c75bbaa031cef0.jpg', 'title': '一拍 易修 亦分享'}\n",
      "成功插入一组数据{'app_title': '全球定酒店 Expedia', 'icon_cover': 'http://android-artworks.25pp.com/fs08/2017/11/16/10/115_61ad7da3b3aec26a3493b858321b8a46_con.png', 'item_cover': 'http://android-imgs.25pp.com/fs08/2017/04/10/10/90fa26da99d200ab3b00299856b11aaa.jpg', 'title': '旅行体验 飞抵手机'}\n",
      "成功插入一组数据{'app_title': '豆瓣阅读', 'icon_cover': 'http://android-artworks.25pp.com/fs08/2017/10/30/4/110_da71b0fc6584562a4670fbcb3d3f0408_con.png', 'item_cover': 'http://android-imgs.25pp.com/fs08/2017/04/10/2/4ce54859a0a262b0024de23b7f15b6d5.jpg', 'title': '手机小书店的灯光 '}\n",
      "成功插入一组数据{'app_title': '笔记Catch Notes', 'icon_cover': 'http://android-artworks.25pp.com/fs08/2016/06/08/7/1_deb67bdff50bb0ce4896840b22411748_con.png', 'item_cover': 'http://android-imgs.25pp.com/fs08/2017/04/10/0/dfce880305dc19e371c248dd08c06bb4.jpg', 'title': '抓住点滴思绪'}\n",
      "成功插入一组数据{'app_title': 'Any.DO', 'icon_cover': 'http://android-artworks.25pp.com/fs08/2017/11/03/0/102_aaaeb51e9c4c97a29465ed3471809287_con.png', 'item_cover': 'http://android-imgs.25pp.com/fs08/2017/04/10/11/f8377e333fe33b79657f8ab6867d675c.jpg', 'title': '聪明的待办事项助手'}\n",
      "成功插入一组数据{'app_title': '看球啦', 'icon_cover': 'http://android-artworks.25pp.com/fs08/2016/06/10/9/102_680fb16566e3b7334bb22dfc16df5bb7_con.png', 'item_cover': 'http://android-imgs.25pp.com/fs08/2017/04/10/7/24cdd5b9c19b758481a155c9b35a6c0c.jpg', 'title': '球迷掌中宝'}\n",
      "成功插入一组数据{'app_title': '纪念碑谷2', 'icon_cover': 'http://android-artworks.25pp.com/fs08/2017/11/07/3/109_0154a44b74fa826984a2139a3e06b816_con.png', 'item_cover': 'http://android-imgs.25pp.com/fs08/2017/11/16/9/a827a836448b0af55b91bc4560648643.jpg', 'title': '在几何艺术迷宫中体验亲情与成长'}\n",
      "成功插入一组数据{'app_title': '我在7年后等着你', 'icon_cover': 'http://android-artworks.25pp.com/fs08/2017/10/01/5/109_80c0477fed879afd25955c454d99c23f_con.png', 'item_cover': 'http://android-imgs.25pp.com/fs08/2017/11/10/5/8a7006e48770c06d40e58b776b8a46eb.jpg', 'title': '每个人都有自己的闪光点和辛酸往事'}\n",
      "成功插入一组数据{'app_title': '猫饼', 'icon_cover': 'http://android-artworks.25pp.com/fs08/2017/11/13/4/110_fe24ef79c72c5ef59d778ebb39837b25_con.png', 'item_cover': 'http://android-imgs.25pp.com/fs08/2017/11/01/10/986283be1614659ebbbd788d075f08b5.jpg', 'title': '用短视频讲述平凡生活的动人故事'}\n",
      "成功插入一组数据{'app_title': '壮汉海上漂流记', 'icon_cover': 'http://android-artworks.25pp.com/fs08/2017/10/26/10/109_756be18cda613b73691c76655ce57d39_con.png', 'item_cover': 'http://android-imgs.25pp.com/fs08/2017/10/26/6/df5d0af48f231e108c710a950932fc96.jpg', 'title': '在冒险中解密北欧海怪传说'}\n",
      "成功插入一组数据{'app_title': '腾讯翻译君', 'icon_cover': 'http://android-artworks.25pp.com/fs08/2017/11/13/6/110_93a677ef75dfcae9497cb93736f85270_con.png', 'item_cover': 'http://android-imgs.25pp.com/fs08/2017/10/21/1/23274f6de7b5d2a3496a01f66ee929cf.jpg', 'title': '不仅可以同声传译，还可以 20 秒制作双语海报'}\n",
      "成功插入一组数据{'app_title': '香蕉打卡', 'icon_cover': 'http://android-artworks.25pp.com/fs08/2017/11/01/10/110_75862f906e30fe2e3b9006448d421bdd_con.png', 'item_cover': 'http://android-imgs.25pp.com/fs08/2017/10/12/1/f3ced7477ccdea84f0eb5e2d90ceca9d.jpg', 'title': '除了打卡跑步，「多吃水果」这类小事也能更有仪式感'}\n",
      "成功插入一组数据{'app_title': '食色', 'icon_cover': 'http://android-artworks.25pp.com/fs08/2016/06/08/0/1_479cb9386d533cc9fe070ec77ce17164_con.png', 'item_cover': 'http://android-imgs.25pp.com/fs08/2017/04/10/1/c19c6d6b973fffca3a1b923a8e268f56.jpg', 'title': '分享味蕾的快乐'}\n",
      "成功插入一组数据{'app_title': '四方Foursquare', 'icon_cover': 'http://android-artworks.25pp.com/fs08/2017/11/16/0/2_8b73ee048a9012ea3c1909cff01a3959_con.png', 'item_cover': 'http://android-imgs.25pp.com/fs08/2017/04/10/5/df09c279743ad89e4619c912302f9119.jpg', 'title': '签到开拓者的新历险'}\n",
      "成功插入一组数据{'app_title': '多邻国', 'icon_cover': 'http://android-artworks.25pp.com/fs08/2016/06/08/1/1_595d7bccbaa7717c728cdd80a185b645_con.png', 'item_cover': 'http://android-imgs.25pp.com/fs08/2017/04/10/8/9c6041622915ff872626adf45ef81c5e.jpg', 'title': '快乐外语每一天'}\n",
      "成功插入一组数据{'app_title': '愤怒的小鸟英雄传', 'icon_cover': 'http://android-artworks.25pp.com/fs08/2017/08/24/9/109_c149bb209d6a367fd8c2ee357f5dc7d2_con.png', 'item_cover': 'http://android-imgs.25pp.com/fs08/2017/04/10/2/5d65ec7f270534ba31c5f86fbb587789.jpg', 'title': '愤怒小鸟的史诗大战'}\n",
      "成功插入一组数据{'app_title': '简单笔记Simplenote', 'icon_cover': 'http://android-artworks.25pp.com/fs08/2017/04/26/10/115_1c3a853aa264e4998718a4d2936b53c0_con.png', 'item_cover': 'http://android-imgs.25pp.com/fs08/2017/04/10/0/f053a3fd8453c6831e698f866b8a0e29.jpg', 'title': '追求简洁之美'}\n",
      "成功插入一组数据{'app_title': '因果！', 'icon_cover': 'http://android-artworks.25pp.com/fs08/2017/05/24/7/109_96b5d9c661f8ff2491ec9798db6af4f5_con.png', 'item_cover': 'http://android-imgs.25pp.com/fs08/2017/04/10/10/1c07a5705276838eb79efbc6dd1378a8.jpg', 'title': '操纵时间，与过去的自己合作'}\n",
      "成功插入一组数据{'app_title': '花田小憩', 'icon_cover': 'http://android-artworks.25pp.com/fs08/2017/11/08/5/110_14fedff3e9f96a8ad1b8f542c3e677f8_con.png', 'item_cover': 'http://android-imgs.25pp.com/fs08/2017/04/10/3/855d44e21b208708e072358a27fdf6ca.jpg', 'title': '用最简单的方式走入花花草草的世界'}\n",
      "成功插入一组数据{'app_title': '激流快艇3', 'icon_cover': 'http://android-artworks.25pp.com/fs08/2017/11/16/4/109_a9287f0b53eeffefab9b7bb38626b1eb_con.png', 'item_cover': 'http://android-imgs.25pp.com/fs08/2017/04/10/10/2d0ae4a202e8048a09da75bc4506137a.jpg', 'title': '城市水道上的极速竞技之旅'}\n",
      "成功插入一组数据{'app_title': '僵尸漫步', 'icon_cover': 'http://android-artworks.25pp.com/fs08/2017/11/15/6/109_8b6cbce5b36ea8a1a7a867f1edede484_con.png', 'item_cover': 'http://android-imgs.25pp.com/fs08/2017/04/10/0/7ed9b946bfcd17cfb8c63fbeaef7cd71.jpg', 'title': '这款魔性的像素游戏，想让你重新学走路'}\n",
      "成功插入一组数据{'app_title': '潮汐', 'icon_cover': 'http://android-artworks.25pp.com/fs08/2017/10/10/0/110_f65dd78d9a7689e4e6e505a788fc0019_con.png', 'item_cover': 'http://android-imgs.25pp.com/fs08/2017/04/10/2/5c8a9fbb9b0fdc8bde380b3db4486ea2.jpg', 'title': '1 秒从办公室变咖啡馆，这个应用让你沉浸工作'}\n",
      "成功插入一组数据{'app_title': 'Aviary', 'icon_cover': 'http://android-artworks.25pp.com/fs08/2016/12/22/9/115_067187b2c9be0311b92ca8e95e481b61_con.png', 'item_cover': 'http://android-imgs.25pp.com/fs08/2017/04/10/9/1e128ab1e6e7fc1afff06862b81b606f.jpg', 'title': '100+ 款实时滤镜，修图工具有它就够'}\n",
      "成功插入一组数据{'app_title': 'Foodie', 'icon_cover': 'http://android-artworks.25pp.com/fs08/2017/10/21/5/2_fbc570b8b8af556d76463c49c08bed0e_con.png', 'item_cover': 'http://android-imgs.25pp.com/fs08/2017/04/10/0/1116cafe983ac5d71b906640d998da25.jpg', 'title': '一款为「吃货」而生的拍照应用'}\n",
      "成功插入一组数据{'app_title': 'Light', 'icon_cover': 'http://android-artworks.25pp.com/fs08/2016/06/08/11/1_d8054327a88c77cb4dbf22d440a60809_con.png', 'item_cover': 'http://android-imgs.25pp.com/fs08/2017/04/10/5/57587d431654c935558c908235aa2ceb.jpg', 'title': '可能是最符合「年轻人」气质的资讯应用'}\n",
      "成功插入一组数据{'app_title': '泼辣修图', 'icon_cover': 'http://android-artworks.25pp.com/fs08/2017/11/02/4/110_a76f83996ca912d84f630059bd07e39b_con.png', 'item_cover': 'http://android-imgs.25pp.com/fs08/2017/04/10/6/c8de1c286b943311dc057303faf1d451.jpg', 'title': '不只是修图工具，它还能让你学会「修图」这门技能'}\n",
      "成功插入一组数据{'app_title': '知乎', 'icon_cover': 'http://android-artworks.25pp.com/fs08/2017/11/15/8/110_dab1bfce6e25dc69251a492c93e77780_con.png', 'item_cover': 'http://android-imgs.25pp.com/fs08/2017/04/10/5/6ef636ade4e50cd08e08499509154ade.jpg', 'title': '由内而外的 Material Design，这才是知乎完全体'}\n",
      "成功插入一组数据{'app_title': '小世界', 'icon_cover': 'http://android-artworks.25pp.com/fs08/2017/01/22/4/102_f964b40053197f4088b45de03d71a7b5_con.png', 'item_cover': 'http://android-imgs.25pp.com/fs08/2017/04/10/3/25de27cc2a31db1779950361aa03ab92.jpg', 'title': '汇集百位生活达人的短视频平台'}\n",
      "成功插入一组数据{'app_title': '单读', 'icon_cover': 'http://android-artworks.25pp.com/fs08/2017/05/08/0/110_49789afdd1ab5c9a0fd6751baa8d4b99_con.png', 'item_cover': 'http://android-imgs.25pp.com/fs08/2017/04/10/3/3ba28a837ddaa1b486a7cedca8638ff6.jpg', 'title': '在这个 App 里，和最好的文学作品相遇'}\n",
      "成功插入一组数据{'app_title': '种子习惯', 'icon_cover': 'http://android-artworks.25pp.com/fs08/2017/03/06/2/110_93b12e6ecbf58b9ced8d5584f33ecb1f_con.png', 'item_cover': 'http://android-imgs.25pp.com/fs08/2017/04/10/4/3e74319f986ca71db0515a62f57cec81.jpg', 'title': '专注个人的提升'}\n",
      "成功插入一组数据{'app_title': '网易云音乐', 'icon_cover': 'http://android-artworks.25pp.com/fs08/2017/11/06/1/110_7e2f544c75f402b4ae3411f480266fa3_con.png', 'item_cover': 'http://android-imgs.25pp.com/fs08/2017/04/10/10/2a93a4eda5c89cad582434caf603f673.jpg', 'title': '音乐有态度'}\n",
      "成功插入一组数据{'app_title': 'same', 'icon_cover': 'http://android-artworks.25pp.com/fs08/2017/08/07/9/110_9fa0ddc717a10487f4af206825a5073e_con.png', 'item_cover': 'http://android-imgs.25pp.com/fs08/2017/04/10/10/14e8e6bc73ffa16d2cff9c2a39de9e1d.jpg', 'title': '这儿有你的同类'}\n",
      "成功插入一组数据{'app_title': '不背单词', 'icon_cover': 'http://android-artworks.25pp.com/fs08/2017/11/06/6/110_b8f1f7e48ae32df807f697e093153a5e_con.png', 'item_cover': 'http://android-imgs.25pp.com/fs08/2017/04/10/2/d00e13ce802113cb62f16cbff554a38d.jpg', 'title': '真实语境学单词'}\n",
      "成功插入一组数据{'app_title': '秒视', 'icon_cover': 'http://android-artworks.25pp.com/fs08/2016/08/17/1/2_8285e99b60b9fa44d8a61709a14747f7_con.png', 'item_cover': 'http://android-imgs.25pp.com/fs08/2017/04/10/9/9f9bf97706129fcdb4dd6caec5895f87.jpg', 'title': '亲密世界一秒见'}\n",
      "成功插入一组数据{'app_title': 'Forest', 'icon_cover': 'http://android-artworks.25pp.com/fs08/2016/12/14/11/102_f2817f8a2b4922327db595828dec5026_con.png', 'item_cover': 'http://android-imgs.25pp.com/fs08/2017/04/10/8/e6f7e50ea0270582b5f9b62dbce24d9b.jpg', 'title': '用专注收获一片森林'}\n",
      "成功插入一组数据{'app_title': '豆瓣', 'icon_cover': 'http://android-artworks.25pp.com/fs08/2017/11/16/2/110_bb2ca1b1eba45f6c264cf471f3164183_con.png', 'item_cover': 'http://android-imgs.25pp.com/fs08/2017/04/10/8/635709fb3bef2f2bb06fa4b7bb4c08b1.jpg', 'title': '与喜欢的生活不期而遇'}\n",
      "成功插入一组数据{'app_title': 'Lab桌面', 'icon_cover': 'http://android-artworks.25pp.com/fs08/2017/11/10/9/2_23f59d8d755f7b0305ec84117af08e50_con.png', 'item_cover': 'http://android-imgs.25pp.com/fs08/2017/04/10/4/9992d693a07f2684f87064678b2a0eff.jpg', 'title': '个性只限于你的想象力'}\n",
      "成功插入一组数据{'app_title': '专业摄影师图片社区 500px', 'icon_cover': 'http://android-artworks.25pp.com/fs08/2017/05/26/7/2_74cf3e8893a4b4657f11f6064d411d7c_con.png', 'item_cover': 'http://android-imgs.25pp.com/fs08/2017/04/10/5/64fa3af094baefeb54121e1bcabd7d5d.jpg', 'title': '每个人最出色的照片家园'}\n",
      "成功插入一组数据{'app_title': '极简汇率', 'icon_cover': 'http://android-artworks.25pp.com/fs08/2017/05/15/3/110_de59a03520912668412ce1099b8c2f41_con.png', 'item_cover': 'http://android-imgs.25pp.com/fs08/2017/04/10/5/63315197e2aebac37acdea080b910d29.jpg', 'title': '美且好用的汇率换算'}\n",
      "成功插入一组数据{'app_title': 'MONO', 'icon_cover': 'http://android-artworks.25pp.com/fs08/2016/12/06/4/110_323a334cd5cddbf8f7d05b9abec4fef1_con.png', 'item_cover': 'http://android-imgs.25pp.com/fs08/2017/04/10/10/cca5931030a4b7095076485889a366c6.jpg', 'title': '用有趣的方式看世界'}\n",
      "成功插入一组数据{'app_title': '彩云天气', 'icon_cover': 'http://android-artworks.25pp.com/fs08/2017/08/28/5/110_794c9bef3ec96e506aa26255c6e31db8_con.png', 'item_cover': 'http://android-imgs.25pp.com/fs08/2017/04/21/1/f445bfb1a774bb949a353c4f4c9857a5.jpg', 'title': '告诉你所在的街道，几分几秒会下雨'}\n",
      "成功插入一组数据{'app_title': 'WALKUP', 'icon_cover': 'http://android-artworks.25pp.com/fs08/2017/09/04/5/110_63e41e3d62a03737fbc62dc48d8743c9_con.png', 'item_cover': 'http://android-imgs.25pp.com/fs08/2017/04/14/3/d9e705ecf198381d8f54a08c608a971e.jpg', 'title': '边走边玩的环游世界之旅'}\n",
      "成功插入一组数据{'app_title': '夸克浏览器', 'icon_cover': 'http://android-artworks.25pp.com/fs08/2017/11/01/9/110_b5ceb373b062b7c802c4ce631062df76_con.png', 'item_cover': 'http://android-imgs.25pp.com/fs08/2017/04/10/10/1f5aeb4c4bac0cff80dd8a215fb26910.jpg', 'title': '不浪费一分一秒，去浏览「纯粹」的美好'}\n",
      "成功插入一组数据{'app_title': '食物库', 'icon_cover': 'http://android-artworks.25pp.com/fs08/2017/06/30/3/110_635d1b03011d3a3111429eec37b3b101_con.png', 'item_cover': 'http://android-imgs.25pp.com/fs08/2017/04/10/8/3217fddfdaa18c001ed387917d91201b.jpg', 'title': '为 30 万种食物打上热量标签'}\n",
      "成功插入一组数据{'app_title': '印象', 'icon_cover': 'http://android-artworks.25pp.com/fs08/2017/09/18/7/110_0185ef65f0c8b7d07d2ee388ad801ca8_con.png', 'item_cover': 'http://android-imgs.25pp.com/fs08/2017/04/10/8/14921ee56c3269c669cfbc23cae7e02c.jpg', 'title': '不只是滤镜工具，它想教你用构图拍出完美作品'}\n",
      "成功插入一组数据{'app_title': 'Retrica(复古相机)', 'icon_cover': 'http://android-artworks.25pp.com/fs08/2016/12/15/0/115_cf24123d6f5332a8a63cb6c303230ec1_con.png', 'item_cover': 'http://android-imgs.25pp.com/fs08/2017/04/10/8/2ae0f997ed9b5ec2532dc5a0f1565920.jpg', 'title': '100+ 款滤镜拍出最美复古风'}\n",
      "成功插入一组数据{'app_title': '好好住', 'icon_cover': 'http://android-artworks.25pp.com/fs08/2017/11/16/7/110_7aaf73d1cc3e21adeff4a5c6043d07e8_con.png', 'item_cover': 'http://android-imgs.25pp.com/fs08/2017/04/10/11/2578d472a984d7d7db946be4b7ca4eb7.jpg', 'title': '让你居住的地方成为艺术品'}\n",
      "成功插入一组数据{'app_title': '崩坏3', 'icon_cover': 'http://android-artworks.25pp.com/fs08/2017/08/24/5/102_8c50c198a9b4db876198b26559b323f9_con.png', 'item_cover': 'http://android-imgs.25pp.com/fs08/2017/04/10/8/4569aa349defc4548baad3dd11e7b1b6.jpg', 'title': '操作 12 种角色形态为世界而战'}\n",
      "成功插入一组数据{'app_title': '疯狂动物园', 'icon_cover': 'http://android-artworks.25pp.com/fs08/2017/09/15/6/102_b462083e91232f3ab33c795132cf0788_con.png', 'item_cover': 'http://android-imgs.25pp.com/fs08/2017/04/10/1/b48d2f6b6d5ed9b2d4d5ead73978f246.jpg', 'title': '和 100 种动物一起狂奔'}\n",
      "成功插入一组数据{'app_title': '查尔斯', 'icon_cover': 'http://android-artworks.25pp.com/fs08/2017/09/22/5/109_ddd2664a17befe3f8375402e8c4a7f61_con.png', 'item_cover': 'http://android-imgs.25pp.com/fs08/2017/04/10/11/8d0c6f14e6646efda5073202ff51ca00.jpg', 'title': '可以带你穿越彩虹弹雨'}\n",
      "成功插入一组数据{'app_title': '日日煮', 'icon_cover': 'http://android-artworks.25pp.com/fs08/2017/11/17/9/110_628fb002d0042a74956a631cad8b812d_con.png', 'item_cover': 'http://android-imgs.25pp.com/fs08/2017/04/10/0/23faef769d9ad1eb34c4bfe5ba0f7575.jpg', 'title': '3 分钟学会一道顶级料理'}\n",
      "成功插入一组数据{'app_title': '氧气', 'icon_cover': 'http://android-artworks.25pp.com/fs08/2016/12/19/2/102_a7c3c7e2ad3a8907a041df9a9155d10d_con.png', 'item_cover': 'http://android-imgs.25pp.com/fs08/2017/04/10/5/0750c8dece42367e00704a2ab0822773.jpg', 'title': '好好穿内衣，才是正经事'}\n",
      "成功插入一组数据{'app_title': '穷游行程助手', 'icon_cover': 'http://android-artworks.25pp.com/fs08/2017/11/15/7/110_a888af820772779a430592d8a7d92725_con.png', 'item_cover': 'http://android-imgs.25pp.com/fs08/2017/04/10/0/16244c81074d46def7aa099485e35fb7.jpg', 'title': '用十一年的积累，帮你推荐最好的旅行路线'}\n",
      "成功插入一组数据{'app_title': 'ENJOY', 'icon_cover': 'http://android-artworks.25pp.com/fs08/2017/11/17/0/110_a269d67bfdc811dcded96202389d2da1_con.png', 'item_cover': 'http://android-imgs.25pp.com/fs08/2017/04/10/8/47449e2b0c90a6943b0e976a04f7f9b2.jpg', 'title': '帮你找到最有故事的餐厅'}\n",
      "成功插入一组数据{'app_title': '即刻', 'icon_cover': 'http://android-artworks.25pp.com/fs08/2017/11/15/8/110_7a299f5004b9abdacadbf67eaf0d92fd_con.png', 'item_cover': 'http://android-imgs.25pp.com/fs08/2017/04/10/8/68358c6bc6344c3f295c82642f48acb0.jpg', 'title': '从特价机票到新片上映，不再错过你感兴趣的信息'}\n",
      "成功插入一组数据{'app_title': '美妙激励', 'icon_cover': 'http://android-artworks.25pp.com/fs08/2017/10/24/11/2_3813a311956294b07cdb09e1fb73d0b7_con.png', 'item_cover': 'http://android-imgs.25pp.com/fs08/2017/04/10/7/2a5625d44564ba147566d185692941b1.jpg', 'title': '5分钟养成一个好习惯'}\n",
      "成功插入一组数据{'app_title': 'Tapet随机壁纸', 'icon_cover': 'http://android-artworks.25pp.com/fs08/2016/12/28/11/115_d252c9a1ddab02740bf8dda63a48ae6a_con.png', 'item_cover': 'http://android-imgs.25pp.com/fs08/2017/04/10/6/80d936d746fda3131dd65f5a0336d1d5.jpg', 'title': '用猫给每一张壁纸取名字'}\n",
      "成功插入一组数据{'app_title': '跳舞的线', 'icon_cover': 'http://android-artworks.25pp.com/fs08/2017/09/29/9/109_80b05bafa13ff4603a1b86006f603113_con.png', 'item_cover': 'http://android-imgs.25pp.com/fs08/2017/09/30/4/22e43ed8936d081de54b064d65506832.jpg', 'title': '音乐和画面美如画，玩法简单却难到虐心'}\n",
      "成功插入一组数据{'app_title': '游谱旅行', 'icon_cover': 'http://android-artworks.25pp.com/fs08/2017/09/06/9/110_ff300135cf2c2af0a03890b6b0a195ef_con.png', 'item_cover': 'http://android-imgs.25pp.com/fs08/2017/09/29/6/2212fd621e656bc4b0256ed65d5495b7.jpg', 'title': '一对一私人定制旅途，在陌生的城市过当地人的生活'}\n",
      "成功插入一组数据{'app_title': '萝卜书摘', 'icon_cover': 'http://android-artworks.25pp.com/fs08/2017/10/26/2/110_4d2e2b1d316da2c13ba7fad4f84791cb_con.png', 'item_cover': 'http://android-imgs.25pp.com/fs08/2017/09/21/2/00dabcb8f674679cbd36aaf882f977f5.jpg', 'title': '5 秒生成精美书摘，让你的朋友圈更有质感'}\n",
      "成功插入一组数据{'app_title': '超级幻影猫2', 'icon_cover': 'http://android-artworks.25pp.com/fs08/2017/09/13/4/109_06f03856dda248907c6a265ba9322b3c_con.png', 'item_cover': 'http://android-imgs.25pp.com/fs08/2017/09/15/1/e099cd9e6e4a1052f3fc166ae6ece605.jpg', 'title': 'App Store 十佳续作致敬马里奥，这只方脸猫再次冒险'}\n",
      "成功插入一组数据{'app_title': '圈子账本记账', 'icon_cover': 'http://android-artworks.25pp.com/fs08/2017/11/13/9/110_cbc2aaa39496da05e2ecbfdd1db653f0_con.png', 'item_cover': 'http://android-imgs.25pp.com/fs08/2017/09/06/6/e352c119135a4592a798e13af55c28b0.jpg', 'title': ' 多人协作 AA 记账，欢乐聚会支出明了'}\n",
      "成功插入一组数据{'app_title': '墨墨背单词', 'icon_cover': 'http://android-artworks.25pp.com/fs08/2017/11/14/1/110_5016dbb3409c7f37814e4a53b95b76ba_con.png', 'item_cover': 'http://android-imgs.25pp.com/fs08/2017/08/31/6/c3837798b21bb811bd281943478505ac.jpg', 'title': '用大数据对抗记忆曲线，背过的单词都牢记'}\n",
      "成功插入一组数据{'app_title': 'AirDroid', 'icon_cover': 'http://android-artworks.25pp.com/fs08/2017/11/14/1/110_06b6d1ee8ceae867954fb88d2d2a26d0_con.png', 'item_cover': 'http://android-imgs.25pp.com/fs08/2017/04/10/2/1e7f4b011c27c5d9d1f36978f2677d41.jpg', 'title': '从此告别数据线'}\n",
      "成功插入一组数据{'app_title': '片刻', 'icon_cover': 'http://android-artworks.25pp.com/fs08/2017/09/12/3/110_fcf84c7865ee6a3e70c93e695fe9f30f_con.png', 'item_cover': 'http://android-imgs.25pp.com/fs08/2017/04/10/2/4c41f2c859b948d839061a19dcab81cb.jpg', 'title': '世界很美而你正好有空'}\n",
      "成功插入一组数据{'app_title': '快牙', 'icon_cover': 'http://android-artworks.25pp.com/fs08/2017/09/30/5/110_c2f993b961541c659b0b67a22b6b7029_con.png', 'item_cover': 'http://android-imgs.25pp.com/fs08/2017/04/10/4/bbe5669539a0b901f7c5ca34b667128e.jpg', 'title': '崭新的传输体验'}\n",
      "成功插入一组数据{'app_title': '一问', 'icon_cover': 'http://android-artworks.25pp.com/fs08/2016/06/07/9/1_f0d8eec14ee09435290156e4ddaa25d7_con.png', 'item_cover': 'http://android-imgs.25pp.com/fs08/2017/04/10/8/cf0654f5ce122c50d9b45ad5145f860a.jpg', 'title': '一问里的创业世界'}\n",
      "成功插入一组数据{'app_title': '专心', 'icon_cover': 'http://android-artworks.25pp.com/fs08/2016/06/06/2/1_5d407b6bfff978e32fc66e713646d02c_con.png', 'item_cover': 'http://android-imgs.25pp.com/fs08/2017/04/10/0/4378a5b3845cb20ec023606171d8d3e1.jpg', 'title': '享受专心时刻'}\n",
      "成功插入一组数据{'app_title': 'VUE', 'icon_cover': 'http://android-artworks.25pp.com/fs08/2017/11/06/7/110_fa9f21f43703bd0fd9dcf202c1042fe5_con.png', 'item_cover': 'http://android-imgs.25pp.com/fs08/2017/04/10/8/028bbe94e8d9542c12572e6945bc796d.jpg', 'title': '6 秒钟用手机拍出一部电影大片'}\n",
      "成功插入一组数据{'app_title': '最美有物', 'icon_cover': 'http://android-artworks.25pp.com/fs08/2017/08/30/4/110_ccbfb896d2f2d81f1365833ce4ce1ab3_con.png', 'item_cover': 'http://android-imgs.25pp.com/fs08/2017/04/10/4/505cdf88149725ee6a3c1c8d366d018f.jpg', 'title': '每一件好设计都值得被欣赏'}\n",
      "成功插入一组数据{'app_title': '极速变色龙', 'icon_cover': 'http://android-artworks.25pp.com/fs08/2017/09/25/3/109_a163ad33fcb609b276babc918a3475bc_con.png', 'item_cover': 'http://android-imgs.25pp.com/fs08/2017/04/10/6/b232209c79da8cb3adb1d871ca981de6.jpg', 'title': '在这款跑酷游戏里，颜色决定你的生死'}\n",
      "成功插入一组数据{'app_title': '妙计旅行', 'icon_cover': 'http://android-artworks.25pp.com/fs08/2016/06/27/4/2_230fc2fbf0c03d1ac635a24fb2a66a1a_con.png', 'item_cover': 'http://android-imgs.25pp.com/fs08/2017/04/10/5/4c553b28c0f7f3ac93b5eb215ffd3dce.jpg', 'title': '30 天的欧洲之旅，3 分钟做好攻略'}\n",
      "成功插入一组数据{'app_title': '为你读诗', 'icon_cover': 'http://android-artworks.25pp.com/fs08/2017/11/17/8/110_78fc2a98afdc275a664a1006091a0b99_con.png', 'item_cover': 'http://android-imgs.25pp.com/fs08/2017/04/10/9/bd8b6e2a9eb8c047954e87c00b78f9db.jpg', 'title': '与 200 万人一起在这里聆听诗歌'}\n",
      "成功插入一组数据{'app_title': 'iA文字编辑', 'icon_cover': 'http://android-artworks.25pp.com/fs08/2017/10/31/5/2_e06cf9ea08b934bee3e7393e96f41004_con.png', 'item_cover': 'http://android-imgs.25pp.com/fs08/2017/04/10/6/d6416c1804606a5f61252fe7ef9714bd.jpg', 'title': '这款应用让你的手机成为写作利器'}\n",
      "成功插入一组数据{'app_title': '星图', 'icon_cover': 'http://android-artworks.25pp.com/fs08/2016/06/09/0/1_179e50a959713d6c4d3e4bce20f49394_con.png', 'item_cover': 'http://android-imgs.25pp.com/fs08/2017/04/10/6/f78db5adcd19779659bd8655678834f7.jpg', 'title': '抬头一望的好奇心'}\n",
      "成功插入一组数据{'app_title': '琥珀天气', 'icon_cover': 'http://android-artworks.25pp.com/fs08/2017/10/19/9/2_3dd8270e7bf903a6ff2cb699cfa64e1e_con.png', 'item_cover': 'http://android-imgs.25pp.com/fs08/2017/04/10/4/73fe4195d0e97b1d7c2f19cb47efd420.jpg', 'title': '吼吼吼吼 Holo 风'}\n",
      "成功插入一组数据{'app_title': 'Airbnb爱彼迎', 'icon_cover': 'http://android-artworks.25pp.com/fs08/2017/11/17/9/110_9a0f22c4faf992dcabc5d0d1e47b669a_con.png', 'item_cover': 'http://android-imgs.25pp.com/fs08/2017/04/10/4/2e82960d6e7aab8b917599165d64aa4a.jpg', 'title': '在旅行中，住宿不仅仅是房间'}\n",
      "成功插入一组数据{'app_title': 'Sol日历', 'icon_cover': 'http://android-artworks.25pp.com/fs08/2016/09/23/6/102_c96745850cc9503e421d5097fe654eeb_con.png', 'item_cover': 'http://android-imgs.25pp.com/fs08/2017/04/10/0/6ce634a494ba1cc92351a28ca9aec01b.jpg', 'title': '桌面日历小清新'}\n",
      "成功插入一组数据{'app_title': '部落冲突Clash-of-Clans', 'icon_cover': 'http://android-artworks.25pp.com/fs08/2017/11/19/3/109_ef1e95c7d2f4db6bd3a171c8349a7ca7_con.png', 'item_cover': 'http://android-imgs.25pp.com/fs08/2017/04/10/6/81ea455e0bfad357d11eae8c18c6dd56.jpg', 'title': '可能是最棒的手机游戏'}\n",
      "成功插入一组数据{'app_title': 'AnimeTaste', 'icon_cover': 'http://android-artworks.25pp.com/fs08/2016/06/07/10/1_6cad8a290fb73eca4ddfda9bc89b9093_con.png', 'item_cover': 'http://android-imgs.25pp.com/fs08/2017/04/10/10/0dcb74d47ddbaa0504b0658032972a91.jpg', 'title': '动画品味风向标'}\n",
      "成功插入一组数据{'app_title': '巧影', 'icon_cover': 'http://android-artworks.25pp.com/fs08/2017/10/19/8/110_d585a943a5d79d29814b921170bf7e1d_con.png', 'item_cover': 'http://android-imgs.25pp.com/fs08/2017/07/13/2/8ee10d3309a101d8fc51586a1d21d97c.jpg', 'title': '剪辑专业视频，新手也能制造精彩'}\n",
      "成功插入一组数据{'app_title': '米皮大冒险', 'icon_cover': 'http://android-artworks.25pp.com/fs08/2017/06/12/1/109_b07dac945aedb7461c5a27f2eb55aa05_con.png', 'item_cover': 'http://android-imgs.25pp.com/fs08/2017/07/06/10/7b147e75eff7f5923d387fcd5cbba89a.jpg', 'title': '一只狗与它的梦境之谜，烧脑又刺激'}\n",
      "成功插入一组数据{'app_title': '一闪', 'icon_cover': 'http://android-artworks.25pp.com/fs08/2017/07/06/2/110_bee7e6b5dc99f749b1d74014e0c561ba_con.png', 'item_cover': 'http://android-imgs.25pp.com/fs08/2017/06/29/7/2f49dc1804bb72f3eb6e93cc98e2a8fa.jpg', 'title': '3 秒微动摄影，拍出「活」的风景'}\n",
      "成功插入一组数据{'app_title': '收趣', 'icon_cover': 'http://android-artworks.25pp.com/fs08/2017/11/02/8/110_4aff79becd181f62f431d37c6aa8bfd9_con.png', 'item_cover': 'http://android-imgs.25pp.com/fs08/2017/06/22/6/76325cbc77e5379fc97cacaf9bd800d9.jpg', 'title': '一键把所有 app 的好内容都收藏到这里'}\n",
      "成功插入一组数据{'app_title': '燃兔', 'icon_cover': 'http://android-artworks.25pp.com/fs08/2017/11/08/7/109_0b53edcfa20afa9e0e08c7c981529892_con.png', 'item_cover': 'http://android-imgs.25pp.com/fs08/2017/06/15/4/05dce5eb191cc0fb7415ee858ae16c9f.jpg', 'title': '你的时间，值得那些有灵魂的游戏'}\n",
      "成功插入一组数据{'app_title': '形色', 'icon_cover': 'http://android-artworks.25pp.com/fs08/2017/09/28/4/110_a31bb2bdcc4282d70bb4ce5a3c31e61d_con.png', 'item_cover': 'http://android-imgs.25pp.com/fs08/2017/06/08/3/bde605e2da55989a0f7e265ebe9b6060.jpg', 'title': '这款拍照识花神器，为你讲述 4000 种浪漫花语'}\n",
      "成功插入一组数据{'app_title': 'VSCO Cam手机摄影', 'icon_cover': 'http://android-artworks.25pp.com/fs08/2016/12/08/10/115_0d64058689ab3ebb909b82adf079c41a_con.png', 'item_cover': 'http://android-imgs.25pp.com/fs08/2017/04/10/10/c6bae3729d1ce20ad90bd0b6df2e5e31.jpg', 'title': '5 位摄影师，教你用手机拍出专业级照片'}\n",
      "成功插入一组数据{'app_title': 'Zine', 'icon_cover': 'http://android-artworks.25pp.com/fs08/2017/08/31/5/110_309e14f6f752f51f08218c7b77a40a7e_con.png', 'item_cover': 'http://android-imgs.25pp.com/fs08/2017/04/10/8/1d0a604d7cd08519941632ceb7e239d2.jpg', 'title': '手机上也能写出排版优雅的文字'}\n",
      "成功插入一组数据{'app_title': '懒人周末', 'icon_cover': 'http://android-artworks.25pp.com/fs08/2017/11/01/11/110_f28c0fc7b587d434073131b1ae9e07cb_con.png', 'item_cover': 'http://android-imgs.25pp.com/fs08/2017/04/10/10/af37950629d34ef0aa11b2afa53b0adb.jpg', 'title': '每个周末都是惊喜'}\n",
      "成功插入一组数据{'app_title': '黄油相机', 'icon_cover': 'http://android-artworks.25pp.com/fs08/2017/11/08/3/110_4b1a7f159d28860647febb81e2135406_con.png', 'item_cover': 'http://android-imgs.25pp.com/fs08/2017/04/10/4/e13f1936598d6093775e3a39635e089b.jpg', 'title': '给照片加点料儿'}\n",
      "成功插入一组数据{'app_title': '每日故宫', 'icon_cover': 'http://android-artworks.25pp.com/fs08/2016/09/01/7/1_fe97e827bfa2f3080595aa4345dc0736_con.png', 'item_cover': 'http://android-imgs.25pp.com/fs08/2017/04/10/3/95a65d2f4cb16b030264ac90f870ff16.jpg', 'title': '365 天看尽故宫珍藏'}\n",
      "成功插入一组数据{'app_title': '最美时光', 'icon_cover': 'http://android-artworks.25pp.com/fs08/2017/05/24/2/110_1a1225c7b28397fd602f116ce311521b_con.png', 'item_cover': 'http://android-imgs.25pp.com/fs08/2017/04/10/6/0997caedafe88af612ad2d8fa3caa7a2.jpg', 'title': '记住那些重要的日子'}\n",
      "成功插入一组数据{'app_title': '荔枝FM', 'icon_cover': 'http://android-artworks.25pp.com/fs08/2017/11/17/0/110_dbd9dd3d168bd9890f82061b513fb6f3_con.png', 'item_cover': 'http://android-imgs.25pp.com/fs08/2017/04/10/5/e22fe4745aac7bec9edb22e167ba399e.jpg', 'title': '大众播客，随时收听'}\n",
      "成功插入一组数据{'app_title': 'Tidy相册-图库整理', 'icon_cover': 'http://android-artworks.25pp.com/fs08/2016/06/07/11/1_8abbf7171ca1f00dba7b5fe69ae3c360_con.png', 'item_cover': 'http://android-imgs.25pp.com/fs08/2017/04/10/5/f6e30f86b138d8a72bfad3c2fed5b03c.jpg', 'title': '美好回忆，轻松收藏'}\n",
      "成功插入一组数据{'app_title': 'Flappy Bird', 'icon_cover': 'http://android-artworks.25pp.com/fs08/2017/07/10/2/109_5b7dcd484c0e871884581c1ae885d2e8_con.png', 'item_cover': 'http://android-imgs.25pp.com/fs08/2017/04/10/6/a56b4878b2acb6c953cfac78b956a218.jpg', 'title': '潮起潮落无厘头'}\n",
      "成功插入一组数据{'app_title': '拇指阅读', 'icon_cover': 'http://android-artworks.25pp.com/fs08/2016/06/07/2/1_1f6bf11f904b39621dceb0df073ffa19_con.png', 'item_cover': 'http://android-imgs.25pp.com/fs08/2017/04/10/2/9cc60d0944faa6e57b4bacdc0558c5d2.jpg', 'title': '社会化图书推荐引擎'}\n",
      "成功插入一组数据{'app_title': '轻邮', 'icon_cover': 'http://android-artworks.25pp.com/fs08/2016/06/09/1/1_e5ae2e6bfd11e13626c0b24cfd16a764_con.png', 'item_cover': 'http://android-imgs.25pp.com/fs08/2017/04/10/0/cbbce214f05e48a6923e44b4c823caae.jpg', 'title': '解除邮件之重'}\n",
      "成功插入一组数据{'app_title': '奇妙清单-任务管理', 'icon_cover': 'http://android-artworks.25pp.com/fs08/2016/12/21/11/115_1829c1d1e763086f67770847173b6cda_con.png', 'item_cover': 'http://android-imgs.25pp.com/fs08/2017/04/10/8/ad3c5f6fbb17c61fb0b0f91dfa630f5d.jpg', 'title': 'To-do 红海中的赢家'}\n",
      "成功插入一组数据{'app_title': 'Ovo timer 倒计时器', 'icon_cover': 'http://android-artworks.25pp.com/fs08/2016/06/07/2/1_d11957204714bc9cf8d401f89dd51b9a_con.png', 'item_cover': 'http://android-imgs.25pp.com/fs08/2017/04/10/4/1c799e0d92ce8b3826bcd4f4d21c2553.jpg', 'title': '拧发条计时器的趣味'}\n",
      "成功插入一组数据{'app_title': '豆瓣电影', 'icon_cover': 'http://android-artworks.25pp.com/fs08/2017/11/01/4/110_d4b2b6731a05d7c68a90c39a64132ca4_con.png', 'item_cover': 'http://android-imgs.25pp.com/fs08/2017/04/10/10/3d4650f955cd574f48a393339bb9a142.jpg', 'title': '筹划你的爆米花时间'}\n",
      "成功插入一组数据{'app_title': '爱范儿', 'icon_cover': 'http://android-artworks.25pp.com/fs08/2017/11/09/9/2_937d15ae962493af691d05c10cef314b_con.png', 'item_cover': 'http://android-imgs.25pp.com/fs08/2017/04/10/11/f2f820de37868efdd87bb407a8eed281.jpg', 'title': '科技资讯收入掌中'}\n",
      "成功插入一组数据{'app_title': '快现', 'icon_cover': 'http://android-artworks.25pp.com/fs08/2016/06/07/7/1_e0fe4759d289170212e31dc3f4210fb7_con.png', 'item_cover': 'http://android-imgs.25pp.com/fs08/2017/04/10/10/3b75ee23c23bdde1e6f2a46117b8a049.jpg', 'title': '三分钟手绘界面'}\n",
      "成功插入一组数据{'app_title': '咪咕灵犀', 'icon_cover': 'http://android-artworks.25pp.com/fs08/2017/11/01/6/110_68d024cdf13d3a3384e9233faa511f01_con.png', 'item_cover': 'http://android-imgs.25pp.com/fs08/2017/04/10/8/03f6d6a3dd316a5a478bfa4cf7a27ef1.jpg', 'title': '语音一点通'}\n",
      "成功插入一组数据{'app_title': '穷游', 'icon_cover': 'http://android-artworks.25pp.com/fs08/2017/11/14/9/110_c7e7d468390fc4d8eecab4334f491d11_con.png', 'item_cover': 'http://android-imgs.25pp.com/fs08/2017/04/10/1/5695cd030d0b10354fb8c6e17eca2be8.jpg', 'title': '一大拨旅行攻略来袭'}\n",
      "成功插入一组数据{'app_title': '微可拍', 'icon_cover': 'http://android-artworks.25pp.com/fs08/2016/06/09/0/1_67fb9c1a52ed6637c1a0bf8d47da12eb_con.png', 'item_cover': 'http://android-imgs.25pp.com/fs08/2017/04/10/2/2f2af2d03e20076b68829cb3215464e1.jpg', 'title': '感受精致影像'}\n",
      "成功插入一组数据{'app_title': '美乐时光', 'icon_cover': 'http://android-artworks.25pp.com/fs08/2016/06/07/11/1_e1006f272472e70639483f9eec466574_con.png', 'item_cover': 'http://android-imgs.25pp.com/fs08/2017/04/10/8/45fbf508a260ab5f7a77778beb88c3f4.jpg', 'title': '对的时间 对的音乐'}\n",
      "成功插入一组数据{'app_title': 'Uface面部素描', 'icon_cover': 'http://android-artworks.25pp.com/fs08/2016/06/07/3/1_ab008536693c75cdd98156512cf73573_con.png', 'item_cover': 'http://android-imgs.25pp.com/fs08/2017/04/10/10/89b20376c05225bedc9d6abc237c70d4.jpg', 'title': '面容·独一无二'}\n",
      "成功插入一组数据{'app_title': 'Flava™ - 日常记录', 'icon_cover': 'http://android-artworks.25pp.com/fs08/2017/05/11/4/2_3e3606e217fbee881b3207ad62b63d1b_con.png', 'item_cover': 'http://android-imgs.25pp.com/fs08/2017/04/10/8/1b80b8c6e8fef42b7a534a2b4f361edf.jpg', 'title': '记录珍贵瞬间'}\n",
      "成功插入一组数据{'app_title': '牛仔大决斗 Ready Steady Bang', 'icon_cover': 'http://android-artworks.25pp.com/fs08/2017/09/25/9/109_be0ed2a977637074ec78b7e822090fb8_con.png', 'item_cover': 'http://android-imgs.25pp.com/fs08/2017/04/10/10/b25e191e069377005dc0262fb4f2f2b0.jpg', 'title': '快枪决胜'}\n",
      "成功插入一组数据{'app_title': '谷歌拼音', 'icon_cover': 'http://android-artworks.25pp.com/fs08/2016/07/25/2/2_ed746ac3d5d58aca3191aabc64a37b8d_con.png', 'item_cover': 'http://android-imgs.25pp.com/fs08/2017/04/10/0/cdd4ac1d937a4a7fb06abd88cb6ebb04.jpg', 'title': '字随指动'}\n",
      "成功插入一组数据{'app_title': '课程格子', 'icon_cover': 'http://android-artworks.25pp.com/fs08/2017/10/25/4/110_cf48558bdd49147e0d795800cfb88856_con.png', 'item_cover': 'http://android-imgs.25pp.com/fs08/2017/04/10/8/9a14a6a0b1e319ae6c1c9339624465b2.jpg', 'title': '让你的手机和你一起开学 '}\n",
      "成功插入一组数据{'app_title': '过日子', 'icon_cover': 'http://android-artworks.25pp.com/fs08/2017/09/29/3/110_2f22bcd5d8ffd0c21df033d28e289fa1_con.png', 'item_cover': 'http://android-imgs.25pp.com/fs08/2017/04/10/2/dae5bd1c3cb8fa65db629154bfc078a5.jpg', 'title': '接地气的小清新'}\n",
      "成功插入一组数据{'app_title': '百度音乐', 'icon_cover': 'http://android-artworks.25pp.com/fs08/2017/09/08/3/110_4aff7cf1a7f9be969d1e69b15b11405a_con.png', 'item_cover': 'http://android-imgs.25pp.com/fs08/2017/04/10/10/1d8ba65a02cc5f0a0399eb63ecd6e117.jpg', 'title': '一站式音乐应用 '}\n",
      "成功插入一组数据{'app_title': '正点日历', 'icon_cover': 'http://android-artworks.25pp.com/fs08/2017/03/03/1/110_e61907cb7902c06a40d439d1474b42b7_con.png', 'item_cover': 'http://android-imgs.25pp.com/fs08/2017/04/10/4/6397d96399ba8ebb203ee8f6ce32aed0.jpg', 'title': '把每日生活放到口袋里 '}\n",
      "成功插入一组数据{'app_title': 'Minu计时器', 'icon_cover': 'http://android-artworks.25pp.com/fs08/2016/06/08/6/1_4555b9b68bc2d274599416c99bf3b914_con.png', 'item_cover': 'http://android-imgs.25pp.com/fs08/2017/04/10/1/af32baf8ee7d90f61e79ac6ff31aac36.jpg', 'title': '让时间流逝变得优雅起来 '}\n",
      "成功插入一组数据{'app_title': '商业周刊中文版', 'icon_cover': 'http://android-artworks.25pp.com/fs08/2017/10/26/2/110_5faf1653a5a19b1e45d932b37c078727_con.png', 'item_cover': 'http://android-imgs.25pp.com/fs08/2017/04/10/0/adc203a745676519483009c49f23cf3b.jpg', 'title': '手机阅读探索者'}\n",
      "成功插入一组数据{'app_title': '滴滴出行', 'icon_cover': 'http://android-artworks.25pp.com/fs08/2017/11/17/5/110_41344bd49a4903fb954d256376e2bdc8_con.png', 'item_cover': 'http://android-imgs.25pp.com/fs08/2017/04/10/7/560a17a6229e5bdc6145e94510802682.jpg', 'title': '城市出租服务台'}\n",
      "成功插入一组数据{'app_title': '英语流利说', 'icon_cover': 'http://android-artworks.25pp.com/fs08/2017/11/09/1/110_69eac7efac86ee661a1d5235dd3eb511_con.png', 'item_cover': 'http://android-imgs.25pp.com/fs08/2017/04/10/8/6d0f59e548711ad53d7953ef08640c63.jpg', 'title': '哑巴英语 Goodbye'}\n",
      "成功插入一组数据{'app_title': '颜色赛跑 Color Run', 'icon_cover': 'http://android-artworks.25pp.com/fs08/2016/06/08/4/1_456e1d6f82e91bb3ccf2bd303856c956_con.png', 'item_cover': 'http://android-imgs.25pp.com/fs08/2017/04/10/2/d9e27e8ad22a088de53f9ecee204b504.jpg', 'title': '变色龙版街舞跑酷'}\n",
      "成功插入一组数据{'app_title': 'Next桌面', 'icon_cover': 'http://android-artworks.25pp.com/fs08/2016/06/07/5/1_88dec9f30f891a995a15b1dbe1e459d5_con.png', 'item_cover': 'http://android-imgs.25pp.com/fs08/2017/04/10/7/8f3f4864cec0c104962628d12d50f977.jpg', 'title': 'Next 桌面 炫目定制'}\n",
      "成功插入一组数据{'app_title': 'Between', 'icon_cover': 'http://android-artworks.25pp.com/fs08/2017/07/21/8/115_5dc51059492ccda2f3d883b86369963c_con.png', 'item_cover': 'http://android-imgs.25pp.com/fs08/2017/04/10/0/e49c9feb8446eba500518e9e23df84ea.jpg', 'title': '情侣间的那点事儿'}\n",
      "成功插入一组数据{'app_title': '阅FM - 你的随身阅读电台', 'icon_cover': 'http://android-artworks.25pp.com/fs08/2016/11/30/5/102_301aa5a58ac6e20145f476944bf4381b_con.png', 'item_cover': 'http://android-imgs.25pp.com/fs08/2017/04/10/2/7a759d63e381127aa38d469c6e597f1c.jpg', 'title': '一本你永远也翻不完的书'}\n",
      "成功插入一组数据{'app_title': 'tawkon手机辐射监测器', 'icon_cover': 'http://android-artworks.25pp.com/fs08/2016/06/08/2/1_c3526894df49c42af49406f3513c7ff8_con.png', 'item_cover': 'http://android-imgs.25pp.com/fs08/2017/04/10/9/e7501c9b8dbeeda33d90294d078e9d96.jpg', 'title': '你的手机辐射测量计'}\n",
      "成功插入一组数据{'app_title': '布卡漫画', 'icon_cover': 'http://android-artworks.25pp.com/fs08/2017/10/18/7/110_d0d203d349ed1d12f949a1d1454a8dab_con.png', 'item_cover': 'http://android-imgs.25pp.com/fs08/2017/04/10/8/bd8c1f947e48266516a1d35c3913d6c9.jpg', 'title': '一经上手 爱不释手'}\n",
      "成功插入一组数据{'app_title': '蜻蜓FM', 'icon_cover': 'http://android-artworks.25pp.com/fs08/2017/11/13/9/110_822a9db474ebe37a4af2a7f9325115bb_con.png', 'item_cover': 'http://android-imgs.25pp.com/fs08/2017/04/10/9/fe6a558b9f2a6d6359a809247e745f5d.jpg', 'title': '倾听你的声音'}\n",
      "1.6050877571105957\n"
     ]
    }
   ],
   "source": [
    "urls = ['http://www.wandoujia.com/award?page={}'.format(num) for num in range(1, 46)]\n",
    "import asyncio\n",
    "import aiohttp\n",
    "from bs4 import BeautifulSoup\n",
    "import time\n",
    "def method_3():\n",
    "    async def get_url(url):\n",
    "        async with aiohttp.ClientSession() as session:  # await关键字将暂停协程函数的执行，等待异步IO返回结果。\n",
    "            async with session.get(url) as html:\n",
    "                response = await html.text(encoding=\"utf-8\")  # await关键字将暂停协程函数的执行，等待异步IO返回结果。\n",
    "                return response\n",
    "\n",
    "    async def parser(url):\n",
    "        html = await get_url(url)\n",
    "        soup = BeautifulSoup(html, 'lxml')\n",
    "        title = soup.find_all(class_='title')\n",
    "        app_title = soup.find_all(class_='app-title')\n",
    "        item_cover = soup.find_all(class_='item-cover')\n",
    "        icon_cover = soup.select('div.list-wrap > ul > li > div.icon > img')\n",
    "        for title_i, app_title_i, item_cover_i, icon_cover_i in zip(title, app_title, item_cover, icon_cover):\n",
    "            content = {\n",
    "                'title': title_i.get_text(),\n",
    "                'app_title': app_title_i.get_text(),\n",
    "                'item_cover': item_cover_i['data-original'],\n",
    "                'icon_cover': icon_cover_i['data-original']\n",
    "            }\n",
    "            #col.insert(content)\n",
    "            print('成功插入一组数据' + str(content))\n",
    "\n",
    "    start = time.time()\n",
    "    loop = asyncio.get_event_loop()\n",
    "    tasks = [parser(url) for url in urls]\n",
    "    loop.run_until_complete(asyncio.gather(*tasks))\n",
    "    print(time.time() - start)\n",
    "\n",
    "method_3()"
   ]
  },
  {
   "cell_type": "markdown",
   "metadata": {},
   "source": [
    "发现aiohttp没有重启内核的需要，提炼的简单框架如下：  \n",
    "这个框架还是需要使用数据库"
   ]
  },
  {
   "cell_type": "code",
   "execution_count": 13,
   "metadata": {
    "collapsed": true
   },
   "outputs": [
    {
     "name": "stdout",
     "output_type": "stream",
     "text": [
      "成功插入一组数据{'app_title': '巧影', 'icon_cover': 'http://android-artworks.25pp.com/fs08/2017/10/19/8/110_d585a943a5d79d29814b921170bf7e1d_con.png', 'item_cover': 'http://android-imgs.25pp.com/fs08/2017/07/13/2/8ee10d3309a101d8fc51586a1d21d97c.jpg', 'title': '剪辑专业视频，新手也能制造精彩'}\n",
      "成功插入一组数据{'app_title': '米皮大冒险', 'icon_cover': 'http://android-artworks.25pp.com/fs08/2017/06/12/1/109_b07dac945aedb7461c5a27f2eb55aa05_con.png', 'item_cover': 'http://android-imgs.25pp.com/fs08/2017/07/06/10/7b147e75eff7f5923d387fcd5cbba89a.jpg', 'title': '一只狗与它的梦境之谜，烧脑又刺激'}\n",
      "成功插入一组数据{'app_title': '一闪', 'icon_cover': 'http://android-artworks.25pp.com/fs08/2017/07/06/2/110_bee7e6b5dc99f749b1d74014e0c561ba_con.png', 'item_cover': 'http://android-imgs.25pp.com/fs08/2017/06/29/7/2f49dc1804bb72f3eb6e93cc98e2a8fa.jpg', 'title': '3 秒微动摄影，拍出「活」的风景'}\n",
      "成功插入一组数据{'app_title': '收趣', 'icon_cover': 'http://android-artworks.25pp.com/fs08/2017/11/02/8/110_4aff79becd181f62f431d37c6aa8bfd9_con.png', 'item_cover': 'http://android-imgs.25pp.com/fs08/2017/06/22/6/76325cbc77e5379fc97cacaf9bd800d9.jpg', 'title': '一键把所有 app 的好内容都收藏到这里'}\n",
      "成功插入一组数据{'app_title': '燃兔', 'icon_cover': 'http://android-artworks.25pp.com/fs08/2017/11/08/7/109_0b53edcfa20afa9e0e08c7c981529892_con.png', 'item_cover': 'http://android-imgs.25pp.com/fs08/2017/06/15/4/05dce5eb191cc0fb7415ee858ae16c9f.jpg', 'title': '你的时间，值得那些有灵魂的游戏'}\n",
      "成功插入一组数据{'app_title': '形色', 'icon_cover': 'http://android-artworks.25pp.com/fs08/2017/09/28/4/110_a31bb2bdcc4282d70bb4ce5a3c31e61d_con.png', 'item_cover': 'http://android-imgs.25pp.com/fs08/2017/06/08/3/bde605e2da55989a0f7e265ebe9b6060.jpg', 'title': '这款拍照识花神器，为你讲述 4000 种浪漫花语'}\n",
      "成功插入一组数据{'app_title': '跳舞的线', 'icon_cover': 'http://android-artworks.25pp.com/fs08/2017/09/29/9/109_80b05bafa13ff4603a1b86006f603113_con.png', 'item_cover': 'http://android-imgs.25pp.com/fs08/2017/09/30/4/22e43ed8936d081de54b064d65506832.jpg', 'title': '音乐和画面美如画，玩法简单却难到虐心'}\n",
      "成功插入一组数据{'app_title': '游谱旅行', 'icon_cover': 'http://android-artworks.25pp.com/fs08/2017/09/06/9/110_ff300135cf2c2af0a03890b6b0a195ef_con.png', 'item_cover': 'http://android-imgs.25pp.com/fs08/2017/09/29/6/2212fd621e656bc4b0256ed65d5495b7.jpg', 'title': '一对一私人定制旅途，在陌生的城市过当地人的生活'}\n",
      "成功插入一组数据{'app_title': '萝卜书摘', 'icon_cover': 'http://android-artworks.25pp.com/fs08/2017/10/26/2/110_4d2e2b1d316da2c13ba7fad4f84791cb_con.png', 'item_cover': 'http://android-imgs.25pp.com/fs08/2017/09/21/2/00dabcb8f674679cbd36aaf882f977f5.jpg', 'title': '5 秒生成精美书摘，让你的朋友圈更有质感'}\n",
      "成功插入一组数据{'app_title': '超级幻影猫2', 'icon_cover': 'http://android-artworks.25pp.com/fs08/2017/09/13/4/109_06f03856dda248907c6a265ba9322b3c_con.png', 'item_cover': 'http://android-imgs.25pp.com/fs08/2017/09/15/1/e099cd9e6e4a1052f3fc166ae6ece605.jpg', 'title': 'App Store 十佳续作致敬马里奥，这只方脸猫再次冒险'}\n",
      "成功插入一组数据{'app_title': '圈子账本记账', 'icon_cover': 'http://android-artworks.25pp.com/fs08/2017/11/13/9/110_cbc2aaa39496da05e2ecbfdd1db653f0_con.png', 'item_cover': 'http://android-imgs.25pp.com/fs08/2017/09/06/6/e352c119135a4592a798e13af55c28b0.jpg', 'title': ' 多人协作 AA 记账，欢乐聚会支出明了'}\n",
      "成功插入一组数据{'app_title': '墨墨背单词', 'icon_cover': 'http://android-artworks.25pp.com/fs08/2017/11/14/1/110_5016dbb3409c7f37814e4a53b95b76ba_con.png', 'item_cover': 'http://android-imgs.25pp.com/fs08/2017/08/31/6/c3837798b21bb811bd281943478505ac.jpg', 'title': '用大数据对抗记忆曲线，背过的单词都牢记'}\n",
      "成功插入一组数据{'app_title': 'V电影', 'icon_cover': 'http://android-artworks.25pp.com/fs08/2017/10/30/9/110_342079ff551ead62a70dc7f8bb5e3ed5_con.png', 'item_cover': 'http://android-imgs.25pp.com/fs08/2017/08/24/10/089978be5a22cfb0813f02c366cadda9.jpg', 'title': '从优质短片到幕后创作，每天 5 分钟收获灵感 '}\n",
      "成功插入一组数据{'app_title': '培根逃亡', 'icon_cover': 'http://android-artworks.25pp.com/fs08/2017/07/13/5/1_fb2a0cbf80f7e01465ec6b807838090a_con.png', 'item_cover': 'http://android-imgs.25pp.com/fs08/2017/08/17/7/285a7e2cbb5aff08c5ebdac79d1bb32d.jpg', 'title': '除了主角，可以操控所有机关的跑酷游戏，挑战你的脑回路'}\n",
      "成功插入一组数据{'app_title': '不思议迷宫', 'icon_cover': 'http://android-artworks.25pp.com/fs08/2017/11/07/0/109_93f15137f8bb9551ab067303ca95b170_con.png', 'item_cover': 'http://android-imgs.25pp.com/fs08/2017/08/09/7/316f69b1084999f55a2b19b5002f66f2.jpg', 'title': '在随机生成的未知世界里, 享受探索的乐趣'}\n",
      "成功插入一组数据{'app_title': '折扇', 'icon_cover': 'http://android-artworks.25pp.com/fs08/2017/08/29/2/110_a0dc950d65fca4cf26a47aa7cb77dbe3_con.png', 'item_cover': 'http://android-imgs.25pp.com/fs08/2017/08/03/4/4f5d5974ca484efd6ddb2a7678a8e5a7.jpg', 'title': '在游戏中习得制扇工艺，在把玩中了解折叠之美'}\n",
      "成功插入一组数据{'app_title': '绝望3：黑暗地球', 'icon_cover': 'http://android-artworks.25pp.com/fs08/2017/09/22/3/109_54d74659cc316d3227727368b83cb8a2_con.png', 'item_cover': 'http://android-imgs.25pp.com/fs08/2017/07/26/8/0931542a3297eb9af382ed25e54ec969.jpg', 'title': '这款游戏的冒险家，胆小又呆萌'}\n",
      "成功插入一组数据{'app_title': '片场', 'icon_cover': 'http://android-artworks.25pp.com/fs08/2017/11/15/1/110_d21a7c0a00cfdc8fbfea64ce3a06eba2_con.png', 'item_cover': 'http://android-imgs.25pp.com/fs08/2017/07/19/2/e4ecde3a020e817020d9dad10d8b0720.jpg', 'title': '在 4689 个取景地中体验电影故事'}\n",
      "成功插入一组数据{'app_title': '彩云天气', 'icon_cover': 'http://android-artworks.25pp.com/fs08/2017/08/28/5/110_794c9bef3ec96e506aa26255c6e31db8_con.png', 'item_cover': 'http://android-imgs.25pp.com/fs08/2017/04/21/1/f445bfb1a774bb949a353c4f4c9857a5.jpg', 'title': '告诉你所在的街道，几分几秒会下雨'}\n",
      "成功插入一组数据{'app_title': 'WALKUP', 'icon_cover': 'http://android-artworks.25pp.com/fs08/2017/09/04/5/110_63e41e3d62a03737fbc62dc48d8743c9_con.png', 'item_cover': 'http://android-imgs.25pp.com/fs08/2017/04/14/3/d9e705ecf198381d8f54a08c608a971e.jpg', 'title': '边走边玩的环游世界之旅'}\n",
      "成功插入一组数据{'app_title': '夸克浏览器', 'icon_cover': 'http://android-artworks.25pp.com/fs08/2017/11/01/9/110_b5ceb373b062b7c802c4ce631062df76_con.png', 'item_cover': 'http://android-imgs.25pp.com/fs08/2017/04/10/10/1f5aeb4c4bac0cff80dd8a215fb26910.jpg', 'title': '不浪费一分一秒，去浏览「纯粹」的美好'}\n",
      "成功插入一组数据{'app_title': '食物库', 'icon_cover': 'http://android-artworks.25pp.com/fs08/2017/06/30/3/110_635d1b03011d3a3111429eec37b3b101_con.png', 'item_cover': 'http://android-imgs.25pp.com/fs08/2017/04/10/8/3217fddfdaa18c001ed387917d91201b.jpg', 'title': '为 30 万种食物打上热量标签'}\n",
      "成功插入一组数据{'app_title': '印象', 'icon_cover': 'http://android-artworks.25pp.com/fs08/2017/09/18/7/110_0185ef65f0c8b7d07d2ee388ad801ca8_con.png', 'item_cover': 'http://android-imgs.25pp.com/fs08/2017/04/10/8/14921ee56c3269c669cfbc23cae7e02c.jpg', 'title': '不只是滤镜工具，它想教你用构图拍出完美作品'}\n",
      "成功插入一组数据{'app_title': 'AirDroid', 'icon_cover': 'http://android-artworks.25pp.com/fs08/2017/11/14/1/110_06b6d1ee8ceae867954fb88d2d2a26d0_con.png', 'item_cover': 'http://android-imgs.25pp.com/fs08/2017/04/10/2/1e7f4b011c27c5d9d1f36978f2677d41.jpg', 'title': '从此告别数据线'}\n",
      "成功插入一组数据{'app_title': '片刻', 'icon_cover': 'http://android-artworks.25pp.com/fs08/2017/09/12/3/110_fcf84c7865ee6a3e70c93e695fe9f30f_con.png', 'item_cover': 'http://android-imgs.25pp.com/fs08/2017/04/10/2/4c41f2c859b948d839061a19dcab81cb.jpg', 'title': '世界很美而你正好有空'}\n",
      "成功插入一组数据{'app_title': '快牙', 'icon_cover': 'http://android-artworks.25pp.com/fs08/2017/09/30/5/110_c2f993b961541c659b0b67a22b6b7029_con.png', 'item_cover': 'http://android-imgs.25pp.com/fs08/2017/04/10/4/bbe5669539a0b901f7c5ca34b667128e.jpg', 'title': '崭新的传输体验'}\n",
      "成功插入一组数据{'app_title': '一问', 'icon_cover': 'http://android-artworks.25pp.com/fs08/2016/06/07/9/1_f0d8eec14ee09435290156e4ddaa25d7_con.png', 'item_cover': 'http://android-imgs.25pp.com/fs08/2017/04/10/8/cf0654f5ce122c50d9b45ad5145f860a.jpg', 'title': '一问里的创业世界'}\n",
      "成功插入一组数据{'app_title': '专心', 'icon_cover': 'http://android-artworks.25pp.com/fs08/2016/06/06/2/1_5d407b6bfff978e32fc66e713646d02c_con.png', 'item_cover': 'http://android-imgs.25pp.com/fs08/2017/04/10/0/4378a5b3845cb20ec023606171d8d3e1.jpg', 'title': '享受专心时刻'}\n",
      "成功插入一组数据{'app_title': '纪念碑谷2', 'icon_cover': 'http://android-artworks.25pp.com/fs08/2017/11/07/3/109_0154a44b74fa826984a2139a3e06b816_con.png', 'item_cover': 'http://android-imgs.25pp.com/fs08/2017/11/16/9/a827a836448b0af55b91bc4560648643.jpg', 'title': '在几何艺术迷宫中体验亲情与成长'}\n",
      "成功插入一组数据{'app_title': '我在7年后等着你', 'icon_cover': 'http://android-artworks.25pp.com/fs08/2017/10/01/5/109_80c0477fed879afd25955c454d99c23f_con.png', 'item_cover': 'http://android-imgs.25pp.com/fs08/2017/11/10/5/8a7006e48770c06d40e58b776b8a46eb.jpg', 'title': '每个人都有自己的闪光点和辛酸往事'}\n",
      "成功插入一组数据{'app_title': '猫饼', 'icon_cover': 'http://android-artworks.25pp.com/fs08/2017/11/13/4/110_fe24ef79c72c5ef59d778ebb39837b25_con.png', 'item_cover': 'http://android-imgs.25pp.com/fs08/2017/11/01/10/986283be1614659ebbbd788d075f08b5.jpg', 'title': '用短视频讲述平凡生活的动人故事'}\n",
      "成功插入一组数据{'app_title': '壮汉海上漂流记', 'icon_cover': 'http://android-artworks.25pp.com/fs08/2017/10/26/10/109_756be18cda613b73691c76655ce57d39_con.png', 'item_cover': 'http://android-imgs.25pp.com/fs08/2017/10/26/6/df5d0af48f231e108c710a950932fc96.jpg', 'title': '在冒险中解密北欧海怪传说'}\n",
      "成功插入一组数据{'app_title': '腾讯翻译君', 'icon_cover': 'http://android-artworks.25pp.com/fs08/2017/11/13/6/110_93a677ef75dfcae9497cb93736f85270_con.png', 'item_cover': 'http://android-imgs.25pp.com/fs08/2017/10/21/1/23274f6de7b5d2a3496a01f66ee929cf.jpg', 'title': '不仅可以同声传译，还可以 20 秒制作双语海报'}\n",
      "成功插入一组数据{'app_title': '香蕉打卡', 'icon_cover': 'http://android-artworks.25pp.com/fs08/2017/11/01/10/110_75862f906e30fe2e3b9006448d421bdd_con.png', 'item_cover': 'http://android-imgs.25pp.com/fs08/2017/10/12/1/f3ced7477ccdea84f0eb5e2d90ceca9d.jpg', 'title': '除了打卡跑步，「多吃水果」这类小事也能更有仪式感'}\n",
      "成功插入一组数据{'app_title': '种子习惯', 'icon_cover': 'http://android-artworks.25pp.com/fs08/2017/03/06/2/110_93b12e6ecbf58b9ced8d5584f33ecb1f_con.png', 'item_cover': 'http://android-imgs.25pp.com/fs08/2017/04/10/4/3e74319f986ca71db0515a62f57cec81.jpg', 'title': '专注个人的提升'}\n",
      "成功插入一组数据{'app_title': '网易云音乐', 'icon_cover': 'http://android-artworks.25pp.com/fs08/2017/11/06/1/110_7e2f544c75f402b4ae3411f480266fa3_con.png', 'item_cover': 'http://android-imgs.25pp.com/fs08/2017/04/10/10/2a93a4eda5c89cad582434caf603f673.jpg', 'title': '音乐有态度'}\n",
      "成功插入一组数据{'app_title': 'same', 'icon_cover': 'http://android-artworks.25pp.com/fs08/2017/08/07/9/110_9fa0ddc717a10487f4af206825a5073e_con.png', 'item_cover': 'http://android-imgs.25pp.com/fs08/2017/04/10/10/14e8e6bc73ffa16d2cff9c2a39de9e1d.jpg', 'title': '这儿有你的同类'}\n",
      "成功插入一组数据{'app_title': '不背单词', 'icon_cover': 'http://android-artworks.25pp.com/fs08/2017/11/06/6/110_b8f1f7e48ae32df807f697e093153a5e_con.png', 'item_cover': 'http://android-imgs.25pp.com/fs08/2017/04/10/2/d00e13ce802113cb62f16cbff554a38d.jpg', 'title': '真实语境学单词'}\n",
      "成功插入一组数据{'app_title': '秒视', 'icon_cover': 'http://android-artworks.25pp.com/fs08/2016/08/17/1/2_8285e99b60b9fa44d8a61709a14747f7_con.png', 'item_cover': 'http://android-imgs.25pp.com/fs08/2017/04/10/9/9f9bf97706129fcdb4dd6caec5895f87.jpg', 'title': '亲密世界一秒见'}\n",
      "成功插入一组数据{'app_title': 'Forest', 'icon_cover': 'http://android-artworks.25pp.com/fs08/2016/12/14/11/102_f2817f8a2b4922327db595828dec5026_con.png', 'item_cover': 'http://android-imgs.25pp.com/fs08/2017/04/10/8/e6f7e50ea0270582b5f9b62dbce24d9b.jpg', 'title': '用专注收获一片森林'}\n",
      "成功插入一组数据{'app_title': '商业周刊中文版', 'icon_cover': 'http://android-artworks.25pp.com/fs08/2017/10/26/2/110_5faf1653a5a19b1e45d932b37c078727_con.png', 'item_cover': 'http://android-imgs.25pp.com/fs08/2017/04/10/0/adc203a745676519483009c49f23cf3b.jpg', 'title': '手机阅读探索者'}\n",
      "成功插入一组数据{'app_title': '滴滴出行', 'icon_cover': 'http://android-artworks.25pp.com/fs08/2017/11/17/5/110_41344bd49a4903fb954d256376e2bdc8_con.png', 'item_cover': 'http://android-imgs.25pp.com/fs08/2017/04/10/7/560a17a6229e5bdc6145e94510802682.jpg', 'title': '城市出租服务台'}\n",
      "成功插入一组数据{'app_title': '英语流利说', 'icon_cover': 'http://android-artworks.25pp.com/fs08/2017/11/09/1/110_69eac7efac86ee661a1d5235dd3eb511_con.png', 'item_cover': 'http://android-imgs.25pp.com/fs08/2017/04/10/8/6d0f59e548711ad53d7953ef08640c63.jpg', 'title': '哑巴英语 Goodbye'}\n",
      "成功插入一组数据{'app_title': '颜色赛跑 Color Run', 'icon_cover': 'http://android-artworks.25pp.com/fs08/2016/06/08/4/1_456e1d6f82e91bb3ccf2bd303856c956_con.png', 'item_cover': 'http://android-imgs.25pp.com/fs08/2017/04/10/2/d9e27e8ad22a088de53f9ecee204b504.jpg', 'title': '变色龙版街舞跑酷'}\n",
      "成功插入一组数据{'app_title': 'Next桌面', 'icon_cover': 'http://android-artworks.25pp.com/fs08/2016/06/07/5/1_88dec9f30f891a995a15b1dbe1e459d5_con.png', 'item_cover': 'http://android-imgs.25pp.com/fs08/2017/04/10/7/8f3f4864cec0c104962628d12d50f977.jpg', 'title': 'Next 桌面 炫目定制'}\n",
      "成功插入一组数据{'app_title': '品酷(标注品牌)', 'icon_cover': 'http://android-artworks.25pp.com/fs08/2016/06/07/7/1_c169db9053cc5bdab125ab04d9d29663_con.png', 'item_cover': 'http://android-imgs.25pp.com/fs08/2017/04/10/1/04373f55b935d0f697fb753237edd4f0.jpg', 'title': '标记你的生活'}\n",
      "成功插入一组数据{'app_title': '急速冲击完美版', 'icon_cover': 'http://android-artworks.25pp.com/fs08/2017/09/22/5/109_97da98b4dafe543e5957199f8d5c2091_con.png', 'item_cover': 'http://android-imgs.25pp.com/fs08/2017/04/10/6/5b172e39460e5c0c74f28280dc5d1406.jpg', 'title': '玩玻璃的球'}\n",
      "成功插入一组数据{'app_title': 'Friday私人助理', 'icon_cover': 'http://android-artworks.25pp.com/fs08/2016/06/08/10/1_2f42ff2eb994ffa99c2394212e3bc5d2_con.png', 'item_cover': 'http://android-imgs.25pp.com/fs08/2017/04/10/8/ad4fc8379e1c2d9eb040ffe8e4acad01.jpg', 'title': '你的手机行为日记'}\n",
      "成功插入一组数据{'app_title': 'hello短信', 'icon_cover': 'http://android-artworks.25pp.com/fs08/2016/06/07/9/1_1e71f6aeef528facaaacfe38690fdfb2_con.png', 'item_cover': 'http://android-imgs.25pp.com/fs08/2017/04/10/6/b4de9bdea8c430c147b669b7b3bfa956.jpg', 'title': '极简短信的新体验'}\n",
      "成功插入一组数据{'app_title': '3D桌面', 'icon_cover': 'http://android-artworks.25pp.com/fs08/2017/03/31/10/2_0b1c0a732c6bc19f12fd447b9bc6ab68_con.png', 'item_cover': 'http://android-imgs.25pp.com/fs08/2017/04/10/3/129384b9218e4e6bd2677d0be864c21a.jpg', 'title': '给眼睛的糖'}\n",
      "成功插入一组数据{'app_title': 'Autodesk Pixlr', 'icon_cover': 'http://android-artworks.25pp.com/fs08/2016/06/07/7/1_02c05f9cafa6437e623bf7d56c93da5e_con.png', 'item_cover': 'http://android-imgs.25pp.com/fs08/2017/04/10/5/b2a5109c911159cd7f24d94506cdbf9a.jpg', 'title': '修图万能工具箱'}\n",
      "成功插入一组数据{'app_title': 'Anyview阅读器', 'icon_cover': 'http://android-artworks.25pp.com/fs08/2017/01/06/8/106_cd462dfcb30dc3336cdfd0e5ad13fcf4_con.png', 'item_cover': 'http://android-imgs.25pp.com/fs08/2017/04/10/0/6347f7d3a120304a2014ce9dab4221fb.jpg', 'title': '老牌阅读器的 Android 新征程 '}\n",
      "成功插入一组数据{'app_title': '小米桌面（主题壁纸锁屏）', 'icon_cover': 'http://android-artworks.25pp.com/fs08/2016/06/07/4/1_e68da416952088725a9bc14673241cfe_con.png', 'item_cover': 'http://android-imgs.25pp.com/fs08/2017/04/10/0/028ee2d7610d120746f7315f5589ec76.jpg', 'title': '让安卓手机变得更好用'}\n",
      "成功插入一组数据{'app_title': '优衣库闹钟 UNIQLO WAKE UP', 'icon_cover': 'http://android-artworks.25pp.com/fs08/2017/02/10/8/102_cc5dca5702c7a6c424d2413ac485b0e5_con.png', 'item_cover': 'http://android-imgs.25pp.com/fs08/2017/04/10/8/3157ae33875e63b752db45df05f01e3b.jpg', 'title': '推荐蕴含其中的生活态度和品质'}\n",
      "成功插入一组数据{'app_title': '豆瓣音乐人', 'icon_cover': 'http://android-artworks.25pp.com/fs08/2016/06/08/7/1_c24b91fa803c448e55f4e8084ce629aa_con.png', 'item_cover': 'http://android-imgs.25pp.com/fs08/2017/04/10/6/0503d4f9073fe25949e3ed6e2a7573a4.jpg', 'title': '音乐是一种生活方式'}\n",
      "成功插入一组数据{'app_title': '慢慢看o原蜗牛o', 'icon_cover': 'http://android-artworks.25pp.com/fs08/2016/06/06/8/1_e556332bad73b18698378a5df4cb3c93_con.png', 'item_cover': 'http://android-imgs.25pp.com/fs08/2017/04/10/3/1132d582765be8aa8318d1319d35371d.jpg', 'title': '让看电视变的更有趣'}\n",
      "成功插入一组数据{'app_title': 'Flipboard红板报', 'icon_cover': 'http://android-artworks.25pp.com/fs08/2017/11/08/4/110_be2504c00ab453ab48ad0d45aeb491ce_con.png', 'item_cover': 'http://android-imgs.25pp.com/fs08/2017/04/10/7/ac2672ca5f945e9ec03c4fa644e415d5.jpg', 'title': '着迷于你所看到的一切'}\n",
      "成功插入一组数据{'app_title': '机械迷城', 'icon_cover': 'http://android-artworks.25pp.com/fs08/2017/03/13/3/102_44f6ec84f95cccb31f6635d47c0df4f6_con.png', 'item_cover': 'http://android-imgs.25pp.com/fs08/2017/04/10/10/4ea654e116f53de13bfd52bc01567ad1.jpg', 'title': '这款游戏的所有背景，都是设计师用左手画的'}\n",
      "成功插入一组数据{'app_title': '开眼 Eyepetizer', 'icon_cover': 'http://android-artworks.25pp.com/fs08/2017/11/17/9/110_1137996b80d13a63510f128aa040bb6d_con.png', 'item_cover': 'http://android-imgs.25pp.com/fs08/2017/04/10/0/0f8c8f43cc5a656e7778c3a6dfb6093f.jpg', 'title': '从广告到奥斯卡获奖动画 ，每天让你大开眼界'}\n",
      "成功插入一组数据{'app_title': '微软延时摄影 Hyperlapse', 'icon_cover': 'http://android-artworks.25pp.com/fs08/2016/06/07/7/1_5f02500176ab17159c310cf9882b6991_con.png', 'item_cover': 'http://android-imgs.25pp.com/fs08/2017/04/10/3/ce5725933b1ec25c9124508d2d4a72e2.jpg', 'title': '十秒钟看一次完整日出'}\n",
      "成功插入一组数据{'app_title': 'IDEAT理想家', 'icon_cover': 'http://android-artworks.25pp.com/fs08/2016/06/08/2/1_32e63b7032ee9a058bf509bd54bdcf99_con.png', 'item_cover': 'http://android-imgs.25pp.com/fs08/2017/04/10/4/b6884a5101631bd1aec9b2406228c8be.jpg', 'title': '从建筑到时装 它集合了所有有趣的新事物'}\n",
      "成功插入一组数据{'app_title': '玩途自由行', 'icon_cover': 'http://android-artworks.25pp.com/fs08/2016/06/07/8/1_bcef6aba93977b3a1fb9f5f84e3971ef_con.png', 'item_cover': 'http://android-imgs.25pp.com/fs08/2017/04/10/11/de541e397b145a1edf9703421a1fad78.jpg', 'title': '十分钟，搞定你的旅游行程'}\n",
      "成功插入一组数据{'app_title': '电子乐Beatport', 'icon_cover': 'http://android-artworks.25pp.com/fs08/2016/06/07/9/1_852202f3c825c1b6771fd18f3e882253_con.png', 'item_cover': 'http://android-imgs.25pp.com/fs08/2017/04/10/8/f9e777c538a11d8ea4eeb46bed6633c5.jpg', 'title': '除了流行乐，你还可以听点不一样的'}\n",
      "成功插入一组数据{'app_title': '怪兽合唱团', 'icon_cover': 'http://android-artworks.25pp.com/fs08/2017/03/14/2/102_43cc92a63e9dc8fb26568b2bcccb844e_con.png', 'item_cover': 'http://android-imgs.25pp.com/fs08/2017/04/10/9/cc6ca724800556ac9229c0c132e7b681.jpg', 'title': '你是我生命里的一首歌'}\n",
      "成功插入一组数据{'app_title': 'Cooliris', 'icon_cover': 'http://android-artworks.25pp.com/fs08/2016/06/09/8/1_49b5a3a0752f63692fe1566767952ab3_con.png', 'item_cover': 'http://android-imgs.25pp.com/fs08/2017/04/10/9/78cab107beade76381ddc91b097e718b.jpg', 'title': '一手掌管所有的照片'}\n",
      "成功插入一组数据{'app_title': '违章查询助手', 'icon_cover': 'http://android-artworks.25pp.com/fs08/2017/11/03/2/110_f9b3951cce20076cadd878cdc8d773c9_con.png', 'item_cover': 'http://android-imgs.25pp.com/fs08/2017/04/10/9/57e9592176507baa6341a1414bfda5ce.jpg', 'title': '方便你的行车生活'}\n",
      "成功插入一组数据{'app_title': 'Between', 'icon_cover': 'http://android-artworks.25pp.com/fs08/2017/07/21/8/115_5dc51059492ccda2f3d883b86369963c_con.png', 'item_cover': 'http://android-imgs.25pp.com/fs08/2017/04/10/0/e49c9feb8446eba500518e9e23df84ea.jpg', 'title': '情侣间的那点事儿'}\n",
      "成功插入一组数据{'app_title': '阅FM - 你的随身阅读电台', 'icon_cover': 'http://android-artworks.25pp.com/fs08/2016/11/30/5/102_301aa5a58ac6e20145f476944bf4381b_con.png', 'item_cover': 'http://android-imgs.25pp.com/fs08/2017/04/10/2/7a759d63e381127aa38d469c6e597f1c.jpg', 'title': '一本你永远也翻不完的书'}\n",
      "成功插入一组数据{'app_title': 'tawkon手机辐射监测器', 'icon_cover': 'http://android-artworks.25pp.com/fs08/2016/06/08/2/1_c3526894df49c42af49406f3513c7ff8_con.png', 'item_cover': 'http://android-imgs.25pp.com/fs08/2017/04/10/9/e7501c9b8dbeeda33d90294d078e9d96.jpg', 'title': '你的手机辐射测量计'}\n",
      "成功插入一组数据{'app_title': '布卡漫画', 'icon_cover': 'http://android-artworks.25pp.com/fs08/2017/10/18/7/110_d0d203d349ed1d12f949a1d1454a8dab_con.png', 'item_cover': 'http://android-imgs.25pp.com/fs08/2017/04/10/8/bd8c1f947e48266516a1d35c3913d6c9.jpg', 'title': '一经上手 爱不释手'}\n",
      "成功插入一组数据{'app_title': '蜻蜓FM', 'icon_cover': 'http://android-artworks.25pp.com/fs08/2017/11/13/9/110_822a9db474ebe37a4af2a7f9325115bb_con.png', 'item_cover': 'http://android-imgs.25pp.com/fs08/2017/04/10/9/fe6a558b9f2a6d6359a809247e745f5d.jpg', 'title': '倾听你的声音'}\n",
      "成功插入一组数据{'app_title': '荔枝FM', 'icon_cover': 'http://android-artworks.25pp.com/fs08/2017/11/17/0/110_dbd9dd3d168bd9890f82061b513fb6f3_con.png', 'item_cover': 'http://android-imgs.25pp.com/fs08/2017/04/10/5/e22fe4745aac7bec9edb22e167ba399e.jpg', 'title': '大众播客，随时收听'}\n",
      "成功插入一组数据{'app_title': 'Tidy相册-图库整理', 'icon_cover': 'http://android-artworks.25pp.com/fs08/2016/06/07/11/1_8abbf7171ca1f00dba7b5fe69ae3c360_con.png', 'item_cover': 'http://android-imgs.25pp.com/fs08/2017/04/10/5/f6e30f86b138d8a72bfad3c2fed5b03c.jpg', 'title': '美好回忆，轻松收藏'}\n",
      "成功插入一组数据{'app_title': 'Flappy Bird', 'icon_cover': 'http://android-artworks.25pp.com/fs08/2017/07/10/2/109_5b7dcd484c0e871884581c1ae885d2e8_con.png', 'item_cover': 'http://android-imgs.25pp.com/fs08/2017/04/10/6/a56b4878b2acb6c953cfac78b956a218.jpg', 'title': '潮起潮落无厘头'}\n",
      "成功插入一组数据{'app_title': '拇指阅读', 'icon_cover': 'http://android-artworks.25pp.com/fs08/2016/06/07/2/1_1f6bf11f904b39621dceb0df073ffa19_con.png', 'item_cover': 'http://android-imgs.25pp.com/fs08/2017/04/10/2/9cc60d0944faa6e57b4bacdc0558c5d2.jpg', 'title': '社会化图书推荐引擎'}\n",
      "成功插入一组数据{'app_title': '轻邮', 'icon_cover': 'http://android-artworks.25pp.com/fs08/2016/06/09/1/1_e5ae2e6bfd11e13626c0b24cfd16a764_con.png', 'item_cover': 'http://android-imgs.25pp.com/fs08/2017/04/10/0/cbbce214f05e48a6923e44b4c823caae.jpg', 'title': '解除邮件之重'}\n",
      "成功插入一组数据{'app_title': '奇妙清单-任务管理', 'icon_cover': 'http://android-artworks.25pp.com/fs08/2016/12/21/11/115_1829c1d1e763086f67770847173b6cda_con.png', 'item_cover': 'http://android-imgs.25pp.com/fs08/2017/04/10/8/ad3c5f6fbb17c61fb0b0f91dfa630f5d.jpg', 'title': 'To-do 红海中的赢家'}\n",
      "成功插入一组数据{'app_title': '引导火车', 'icon_cover': 'http://android-artworks.25pp.com/fs08/2017/11/07/6/109_c9412708ffa9b74a831956e99d113586_con.png', 'item_cover': 'http://android-imgs.25pp.com/fs08/2017/04/10/0/9ab8c4c235f31233e1813be43755a8f5.jpg', 'title': '忙碌的春运之余，来当一名火车调度员'}\n",
      "成功插入一组数据{'app_title': 'mars', 'icon_cover': 'http://android-artworks.25pp.com/fs08/2017/11/13/6/110_6a740ad28ab7cbb950101a1eef7086e9_con.png', 'item_cover': 'http://android-imgs.25pp.com/fs08/2017/04/10/5/c00e716be45b4e91c6d1d0540b977e53.jpg', 'title': '发现一座城市最好玩的角落'}\n",
      "成功插入一组数据{'app_title': '迷雾穿梭', 'icon_cover': 'http://android-artworks.25pp.com/fs08/2017/09/22/6/109_7ef96d06c626cac08de0710cd87f9e51_con.png', 'item_cover': 'http://android-imgs.25pp.com/fs08/2017/04/10/1/e058d9f06367bc57b46baabe3a9c9bdf.jpg', 'title': '成为一条穿梭在美景中的贪吃蛇'}\n",
      "成功插入一组数据{'app_title': '城市旅游指南Guides', 'icon_cover': 'http://android-artworks.25pp.com/fs08/2017/06/16/5/115_340179aded756dbf5ea44a56269aee40_con.png', 'item_cover': 'http://android-imgs.25pp.com/fs08/2017/04/10/9/82f4a94863e4f5c9fb52883a5d89bebc.jpg', 'title': '把每座城市的攻略装进手机'}\n",
      "成功插入一组数据{'app_title': '因果！', 'icon_cover': 'http://android-artworks.25pp.com/fs08/2017/05/24/7/109_96b5d9c661f8ff2491ec9798db6af4f5_con.png', 'item_cover': 'http://android-imgs.25pp.com/fs08/2017/04/10/10/1c07a5705276838eb79efbc6dd1378a8.jpg', 'title': '操纵时间，与过去的自己合作'}\n",
      "成功插入一组数据{'app_title': '花田小憩', 'icon_cover': 'http://android-artworks.25pp.com/fs08/2017/11/08/5/110_14fedff3e9f96a8ad1b8f542c3e677f8_con.png', 'item_cover': 'http://android-imgs.25pp.com/fs08/2017/04/10/3/855d44e21b208708e072358a27fdf6ca.jpg', 'title': '用最简单的方式走入花花草草的世界'}\n",
      "成功插入一组数据{'app_title': '激流快艇3', 'icon_cover': 'http://android-artworks.25pp.com/fs08/2017/11/16/4/109_a9287f0b53eeffefab9b7bb38626b1eb_con.png', 'item_cover': 'http://android-imgs.25pp.com/fs08/2017/04/10/10/2d0ae4a202e8048a09da75bc4506137a.jpg', 'title': '城市水道上的极速竞技之旅'}\n",
      "成功插入一组数据{'app_title': '僵尸漫步', 'icon_cover': 'http://android-artworks.25pp.com/fs08/2017/11/15/6/109_8b6cbce5b36ea8a1a7a867f1edede484_con.png', 'item_cover': 'http://android-imgs.25pp.com/fs08/2017/04/10/0/7ed9b946bfcd17cfb8c63fbeaef7cd71.jpg', 'title': '这款魔性的像素游戏，想让你重新学走路'}\n",
      "成功插入一组数据{'app_title': '潮汐', 'icon_cover': 'http://android-artworks.25pp.com/fs08/2017/10/10/0/110_f65dd78d9a7689e4e6e505a788fc0019_con.png', 'item_cover': 'http://android-imgs.25pp.com/fs08/2017/04/10/2/5c8a9fbb9b0fdc8bde380b3db4486ea2.jpg', 'title': '1 秒从办公室变咖啡馆，这个应用让你沉浸工作'}\n",
      "成功插入一组数据{'app_title': 'Aviary', 'icon_cover': 'http://android-artworks.25pp.com/fs08/2016/12/22/9/115_067187b2c9be0311b92ca8e95e481b61_con.png', 'item_cover': 'http://android-imgs.25pp.com/fs08/2017/04/10/9/1e128ab1e6e7fc1afff06862b81b606f.jpg', 'title': '100+ 款实时滤镜，修图工具有它就够'}\n",
      "成功插入一组数据{'app_title': 'Toshl 理财', 'icon_cover': 'http://android-artworks.25pp.com/fs08/2017/02/10/3/102_0263ea48cf3f5aa9023bee0768b88d62_con.png', 'item_cover': 'http://android-imgs.25pp.com/fs08/2017/04/10/6/ecacc59098e3bd500937a03dfac808d9.jpg', 'title': '钱包精灵'}\n",
      "成功插入一组数据{'app_title': 'Jing智能电台', 'icon_cover': 'http://android-artworks.25pp.com/fs08/2016/06/09/9/1_b193c4608954020a5791125c319c7986_con.png', 'item_cover': 'http://android-imgs.25pp.com/fs08/2017/04/10/6/38eded57b8b76a14d04fd7aac2e1d38d.jpg', 'title': '随身音乐 随心点播'}\n",
      "成功插入一组数据{'app_title': '有道词典', 'icon_cover': 'http://android-artworks.25pp.com/fs08/2017/11/01/3/110_c5db8996630adfac66c6277091502a38_con.png', 'item_cover': 'http://android-imgs.25pp.com/fs08/2017/04/10/10/d8d457959bdf8a00ccb7b7d1a804029d.jpg', 'title': '英语学习全计划'}\n",
      "成功插入一组数据{'app_title': '闹钟one', 'icon_cover': 'http://android-artworks.25pp.com/fs08/2016/06/09/0/1_b5fdc47297c4b8bc724a813123662a7c_con.png', 'item_cover': 'http://android-imgs.25pp.com/fs08/2017/04/10/10/6d7eb1821c14531bbfd045a076e83e0a.jpg', 'title': '在卡片中管理时间'}\n",
      "成功插入一组数据{'app_title': '欢喜Fancy', 'icon_cover': 'http://android-artworks.25pp.com/fs08/2017/10/21/1/2_af9d7d3a48e6b28ace7c4cc3737a12b7_con.png', 'item_cover': 'http://android-imgs.25pp.com/fs08/2017/04/10/1/299c091cde98b469fd55d580be370d14.jpg', 'title': '有爱设计，每日欢喜'}\n",
      "成功插入一组数据{'app_title': '哔哩哔哩', 'icon_cover': 'http://android-artworks.25pp.com/fs08/2017/11/03/11/110_88c538ef16a0722afe3c4983ef2954b9_con.png', 'item_cover': 'http://android-imgs.25pp.com/fs08/2017/04/10/9/3859e1dd51755a8d8f2f8d780202ff01.jpg', 'title': '关于哔哩哔哩，你不知道的三件事'}\n",
      "成功插入一组数据{'app_title': '厨房故事', 'icon_cover': 'http://android-artworks.25pp.com/fs08/2017/10/27/7/2_ceb53c9095c69a6f8fc7d11a5e354cdf_con.png', 'item_cover': 'http://android-imgs.25pp.com/fs08/2017/04/10/10/ad6e6491b944243a587adbd99330cbca.jpg', 'title': '不做饭，这些漂亮的食物也值得看'}\n",
      "成功插入一组数据{'app_title': 'Medium', 'icon_cover': 'http://android-artworks.25pp.com/fs08/2017/11/18/0/2_ebee11ac825073a301f0a212aaa152ae_con.png', 'item_cover': 'http://android-imgs.25pp.com/fs08/2017/04/10/3/ebd14bef5657600343efe7d7ee34b9cf.jpg', 'title': '在手机上，重现看杂志的优雅体验'}\n",
      "成功插入一组数据{'app_title': 'Layout 组合照片', 'icon_cover': 'http://android-artworks.25pp.com/fs08/2016/10/24/11/102_86ac5ee15767f0afe22dbbbaab8b4896_con.png', 'item_cover': 'http://android-imgs.25pp.com/fs08/2017/04/10/7/c001c83f9b61e0f3d1fbb68bfa482d56.jpg', 'title': '来自 Instagram 的最简单的拼图应用'}\n",
      "成功插入一组数据{'app_title': '轻芒阅读', 'icon_cover': 'http://android-artworks.25pp.com/fs08/2017/03/03/10/110_dfd9fe625141e7d1411dfcf588b7e336_con.png', 'item_cover': 'http://android-imgs.25pp.com/fs08/2017/04/10/10/a033bbca2936479ec578b46e7bd7a567.jpg', 'title': '一分钟刷完所有应用的头条'}\n",
      "成功插入一组数据{'app_title': 'Nova桌面', 'icon_cover': 'http://android-artworks.25pp.com/fs08/2016/06/09/0/1_ae6e6a07ddd97c1076bb57733d838ed0_con.png', 'item_cover': 'http://android-imgs.25pp.com/fs08/2017/04/10/6/80f338372813f7c796adc08133e7e068.jpg', 'title': '一键开启 Android 原生桌面'}\n",
      "成功插入一组数据{'app_title': 'Foodie', 'icon_cover': 'http://android-artworks.25pp.com/fs08/2017/10/21/5/2_fbc570b8b8af556d76463c49c08bed0e_con.png', 'item_cover': 'http://android-imgs.25pp.com/fs08/2017/04/10/0/1116cafe983ac5d71b906640d998da25.jpg', 'title': '一款为「吃货」而生的拍照应用'}\n",
      "成功插入一组数据{'app_title': 'Light', 'icon_cover': 'http://android-artworks.25pp.com/fs08/2016/06/08/11/1_d8054327a88c77cb4dbf22d440a60809_con.png', 'item_cover': 'http://android-imgs.25pp.com/fs08/2017/04/10/5/57587d431654c935558c908235aa2ceb.jpg', 'title': '可能是最符合「年轻人」气质的资讯应用'}\n",
      "成功插入一组数据{'app_title': '泼辣修图', 'icon_cover': 'http://android-artworks.25pp.com/fs08/2017/11/02/4/110_a76f83996ca912d84f630059bd07e39b_con.png', 'item_cover': 'http://android-imgs.25pp.com/fs08/2017/04/10/6/c8de1c286b943311dc057303faf1d451.jpg', 'title': '不只是修图工具，它还能让你学会「修图」这门技能'}\n",
      "成功插入一组数据{'app_title': '知乎', 'icon_cover': 'http://android-artworks.25pp.com/fs08/2017/11/15/8/110_dab1bfce6e25dc69251a492c93e77780_con.png', 'item_cover': 'http://android-imgs.25pp.com/fs08/2017/04/10/5/6ef636ade4e50cd08e08499509154ade.jpg', 'title': '由内而外的 Material Design，这才是知乎完全体'}\n",
      "成功插入一组数据{'app_title': '小世界', 'icon_cover': 'http://android-artworks.25pp.com/fs08/2017/01/22/4/102_f964b40053197f4088b45de03d71a7b5_con.png', 'item_cover': 'http://android-imgs.25pp.com/fs08/2017/04/10/3/25de27cc2a31db1779950361aa03ab92.jpg', 'title': '汇集百位生活达人的短视频平台'}\n",
      "成功插入一组数据{'app_title': '单读', 'icon_cover': 'http://android-artworks.25pp.com/fs08/2017/05/08/0/110_49789afdd1ab5c9a0fd6751baa8d4b99_con.png', 'item_cover': 'http://android-imgs.25pp.com/fs08/2017/04/10/3/3ba28a837ddaa1b486a7cedca8638ff6.jpg', 'title': '在这个 App 里，和最好的文学作品相遇'}\n",
      "成功插入一组数据{'app_title': 'Solar天气', 'icon_cover': 'http://android-artworks.25pp.com/fs08/2016/06/09/8/1_ec3ec242ce088a2f3a38b38b1708250a_con.png', 'item_cover': 'http://android-imgs.25pp.com/fs08/2017/04/10/7/f198f84801abbfb2359f925e0f58b8cd.jpg', 'title': '大胆放肆的设计实验'}\n",
      "成功插入一组数据{'app_title': 'SolMail', 'icon_cover': 'http://android-artworks.25pp.com/fs08/2017/08/11/7/115_a4ffcea2e5664c93d7a3355ab6969b15_con.png', 'item_cover': 'http://android-imgs.25pp.com/fs08/2017/04/10/4/8d1831516d06df1b4ae4d61c72a61315.jpg', 'title': '重新找回邮件生产力'}\n",
      "成功插入一组数据{'app_title': '雅虎天气 Yahoo Weather', 'icon_cover': 'http://android-artworks.25pp.com/fs08/2016/09/05/4/102_6447c520986a36fe1db75cbf94093078_con.png', 'item_cover': 'http://android-imgs.25pp.com/fs08/2017/04/10/3/dd3308e4fdcbe36361cc662e593875cd.jpg', 'title': '老牌应用的新晴天'}\n",
      "成功插入一组数据{'app_title': '财务管理', 'icon_cover': 'http://android-artworks.25pp.com/fs08/2016/06/07/10/1_36b3479b38cbbeb614b99e008815c6e9_con.png', 'item_cover': 'http://android-imgs.25pp.com/fs08/2017/04/10/3/4ed0dd68c1a19740e867b62c5ea2da1f.jpg', 'title': '简洁上手，强大功能'}\n",
      "成功插入一组数据{'app_title': '单词锁屏', 'icon_cover': 'http://android-artworks.25pp.com/fs08/2016/06/08/7/1_bb86737b964dc802439d670850fcae96_con.png', 'item_cover': 'http://android-imgs.25pp.com/fs08/2017/04/10/10/295bfad7c7ac1513b1c87d6bf4f84952.jpg', 'title': '学霸，只因为多看了一眼'}\n",
      "成功插入一组数据{'app_title': '掌阅听书', 'icon_cover': 'http://android-artworks.25pp.com/fs08/2016/06/07/3/1_028d64a496ce695f8323aab501349d09_con.png', 'item_cover': 'http://android-imgs.25pp.com/fs08/2017/04/10/6/7d8d10a0279b07a5f2ba34f692eee824.jpg', 'title': '给知识一个发声机会'}\n",
      "成功插入一组数据{'app_title': '旅行箱', 'icon_cover': 'http://android-artworks.25pp.com/fs08/2017/06/21/6/110_0f1dd5d98706386b968eb114f7ebf487_con.png', 'item_cover': 'http://android-imgs.25pp.com/fs08/2017/04/10/8/a88b02b2351d1a112beb1fce7e784be7.jpg', 'title': '陪你走世界的旅行箱'}\n",
      "成功插入一组数据{'app_title': 'Buzz桌面', 'icon_cover': 'http://android-artworks.25pp.com/fs08/2016/12/30/0/115_38b95df84411a2273406424ea638ecff_con.png', 'item_cover': 'http://android-imgs.25pp.com/fs08/2017/04/10/6/d3330a997f0b2059536fe302c2e5ae33.jpg', 'title': '突破想象力的桌面'}\n",
      "成功插入一组数据{'app_title': '蝉游记', 'icon_cover': 'http://android-artworks.25pp.com/fs08/2016/06/07/4/1_c3a693f4b566979c739e8258e04b333d_con.png', 'item_cover': 'http://android-imgs.25pp.com/fs08/2017/04/10/9/9a1c29423e409e3d0d30115c1ef14343.jpg', 'title': '发现旅行之美'}\n",
      "成功插入一组数据{'app_title': '氧气', 'icon_cover': 'http://android-artworks.25pp.com/fs08/2016/12/19/2/102_a7c3c7e2ad3a8907a041df9a9155d10d_con.png', 'item_cover': 'http://android-imgs.25pp.com/fs08/2017/04/10/5/0750c8dece42367e00704a2ab0822773.jpg', 'title': '好好穿内衣，才是正经事'}\n",
      "成功插入一组数据{'app_title': '穷游行程助手', 'icon_cover': 'http://android-artworks.25pp.com/fs08/2017/11/15/7/110_a888af820772779a430592d8a7d92725_con.png', 'item_cover': 'http://android-imgs.25pp.com/fs08/2017/04/10/0/16244c81074d46def7aa099485e35fb7.jpg', 'title': '用十一年的积累，帮你推荐最好的旅行路线'}\n",
      "成功插入一组数据{'app_title': 'ENJOY', 'icon_cover': 'http://android-artworks.25pp.com/fs08/2017/11/17/0/110_a269d67bfdc811dcded96202389d2da1_con.png', 'item_cover': 'http://android-imgs.25pp.com/fs08/2017/04/10/8/47449e2b0c90a6943b0e976a04f7f9b2.jpg', 'title': '帮你找到最有故事的餐厅'}\n",
      "成功插入一组数据{'app_title': '即刻', 'icon_cover': 'http://android-artworks.25pp.com/fs08/2017/11/15/8/110_7a299f5004b9abdacadbf67eaf0d92fd_con.png', 'item_cover': 'http://android-imgs.25pp.com/fs08/2017/04/10/8/68358c6bc6344c3f295c82642f48acb0.jpg', 'title': '从特价机票到新片上映，不再错过你感兴趣的信息'}\n",
      "成功插入一组数据{'app_title': '美妙激励', 'icon_cover': 'http://android-artworks.25pp.com/fs08/2017/10/24/11/2_3813a311956294b07cdb09e1fb73d0b7_con.png', 'item_cover': 'http://android-imgs.25pp.com/fs08/2017/04/10/7/2a5625d44564ba147566d185692941b1.jpg', 'title': '5分钟养成一个好习惯'}\n",
      "成功插入一组数据{'app_title': 'Tapet随机壁纸', 'icon_cover': 'http://android-artworks.25pp.com/fs08/2016/12/28/11/115_d252c9a1ddab02740bf8dda63a48ae6a_con.png', 'item_cover': 'http://android-imgs.25pp.com/fs08/2017/04/10/6/80d936d746fda3131dd65f5a0336d1d5.jpg', 'title': '用猫给每一张壁纸取名字'}\n",
      "成功插入一组数据{'app_title': 'Coursera', 'icon_cover': 'http://android-artworks.25pp.com/fs08/2016/09/26/7/102_d49113a4ddbe0526fa2ed114777e5031_con.png', 'item_cover': 'http://android-imgs.25pp.com/fs08/2017/04/10/8/0b90ee4fb387a4dd090fefdd2152f13e.jpg', 'title': '满足你的求知欲'}\n",
      "成功插入一组数据{'app_title': 'Plant Nanny 植物保姆', 'icon_cover': 'http://android-artworks.25pp.com/fs08/2017/10/16/2/109_43fad06a06d964d42e0493148a659a31_con.png', 'item_cover': 'http://android-imgs.25pp.com/fs08/2017/04/10/1/60ed06b84f306cf23ae510a0241b0434.jpg', 'title': '和小植物一起维护健康'}\n",
      "成功插入一组数据{'app_title': 'Fotor', 'icon_cover': 'http://android-artworks.25pp.com/fs08/2017/11/14/1/110_9777770b949a6ce74c02934a9886491b_con.png', 'item_cover': 'http://android-imgs.25pp.com/fs08/2017/04/10/11/180286f512d1586e8d29308b3e98d724.jpg', 'title': '只为好照片'}\n",
      "成功插入一组数据{'app_title': '虾米音乐', 'icon_cover': 'http://android-artworks.25pp.com/fs08/2017/11/17/11/110_a5a2f1330e850a524f9c94ecd45d2c51_con.png', 'item_cover': 'http://android-imgs.25pp.com/fs08/2017/04/10/1/fa65432bc4c46ebcc46b2e9b27e7a268.jpg', 'title': '与懂你的音乐在一起'}\n",
      "成功插入一组数据{'app_title': 'Muzzik', 'icon_cover': 'http://android-artworks.25pp.com/fs08/2016/06/07/6/1_1c5cbf34c393e1b542a7f5493df2b6a7_con.png', 'item_cover': 'http://android-imgs.25pp.com/fs08/2017/04/10/5/9f8a1d84085e8d282994a648b16afedc.jpg', 'title': '你的音乐故事'}\n",
      "成功插入一组数据{'app_title': '方片收集', 'icon_cover': 'http://android-artworks.25pp.com/fs08/2017/08/21/8/106_661f3c69d0b5c0603ca36204e0103d1c_con.png', 'item_cover': 'http://android-imgs.25pp.com/fs08/2017/04/10/3/6277ad85dcdc03fd8a590a014cead7ee.jpg', 'title': '你离灵感，只差 0.13 秒'}\n",
      "成功插入一组数据{'app_title': '∞ 再环', 'icon_cover': 'http://android-artworks.25pp.com/fs08/2017/11/06/3/109_f45956a9d5339a3b200ccea49c0d1b17_con.png', 'item_cover': 'http://android-imgs.25pp.com/fs08/2017/04/10/10/423bb1ed8eebfdf0a3a5585a399d3c36.jpg', 'title': '这款无限关卡的游戏，通关画面都能设成壁纸'}\n",
      "成功插入一组数据{'app_title': 'SKRWT', 'icon_cover': 'http://android-artworks.25pp.com/fs08/2016/09/03/4/102_00359b7e948469d8e4685aebf8ac3f40_con.png', 'item_cover': 'http://android-imgs.25pp.com/fs08/2017/04/10/5/d07dcfe2ec9244e1c02eaad851e2dfc3.jpg', 'title': '用这款修图软件还原真实世界'}\n",
      "成功插入一组数据{'app_title': '点亮灯塔', 'icon_cover': 'http://android-artworks.25pp.com/fs08/2017/11/01/5/115_b2f58b67ae53ef35cc15519f37603a3f_con.png', 'item_cover': 'http://android-imgs.25pp.com/fs08/2017/07/14/11/7076f66d2a786147a7deefb0f26480e5.jpg', 'title': '像个物理学家一样思考光的轨迹'}\n",
      "成功插入一组数据{'app_title': 'VUE', 'icon_cover': 'http://android-artworks.25pp.com/fs08/2017/11/06/7/110_fa9f21f43703bd0fd9dcf202c1042fe5_con.png', 'item_cover': 'http://android-imgs.25pp.com/fs08/2017/04/10/8/028bbe94e8d9542c12572e6945bc796d.jpg', 'title': '6 秒钟用手机拍出一部电影大片'}\n",
      "成功插入一组数据{'app_title': '最美有物', 'icon_cover': 'http://android-artworks.25pp.com/fs08/2017/08/30/4/110_ccbfb896d2f2d81f1365833ce4ce1ab3_con.png', 'item_cover': 'http://android-imgs.25pp.com/fs08/2017/04/10/4/505cdf88149725ee6a3c1c8d366d018f.jpg', 'title': '每一件好设计都值得被欣赏'}\n",
      "成功插入一组数据{'app_title': '极速变色龙', 'icon_cover': 'http://android-artworks.25pp.com/fs08/2017/09/25/3/109_a163ad33fcb609b276babc918a3475bc_con.png', 'item_cover': 'http://android-imgs.25pp.com/fs08/2017/04/10/6/b232209c79da8cb3adb1d871ca981de6.jpg', 'title': '在这款跑酷游戏里，颜色决定你的生死'}\n",
      "成功插入一组数据{'app_title': '妙计旅行', 'icon_cover': 'http://android-artworks.25pp.com/fs08/2016/06/27/4/2_230fc2fbf0c03d1ac635a24fb2a66a1a_con.png', 'item_cover': 'http://android-imgs.25pp.com/fs08/2017/04/10/5/4c553b28c0f7f3ac93b5eb215ffd3dce.jpg', 'title': '30 天的欧洲之旅，3 分钟做好攻略'}\n",
      "成功插入一组数据{'app_title': '为你读诗', 'icon_cover': 'http://android-artworks.25pp.com/fs08/2017/11/17/8/110_78fc2a98afdc275a664a1006091a0b99_con.png', 'item_cover': 'http://android-imgs.25pp.com/fs08/2017/04/10/9/bd8b6e2a9eb8c047954e87c00b78f9db.jpg', 'title': '与 200 万人一起在这里聆听诗歌'}\n",
      "成功插入一组数据{'app_title': 'iA文字编辑', 'icon_cover': 'http://android-artworks.25pp.com/fs08/2017/10/31/5/2_e06cf9ea08b934bee3e7393e96f41004_con.png', 'item_cover': 'http://android-imgs.25pp.com/fs08/2017/04/10/6/d6416c1804606a5f61252fe7ef9714bd.jpg', 'title': '这款应用让你的手机成为写作利器'}\n",
      "成功插入一组数据{'app_title': '破碎大陆2', 'icon_cover': 'http://android-artworks.25pp.com/fs08/2017/10/11/4/109_35ab57a552a59f718bb8ecf8e30fe49b_con.png', 'item_cover': 'http://android-imgs.25pp.com/fs08/2017/04/10/6/1c77c1e65626727e0f4e38ea35c96966.jpg', 'title': '带着 1000 个生物在末日里逃生'}\n",
      "成功插入一组数据{'app_title': '一席', 'icon_cover': 'http://android-artworks.25pp.com/fs08/2017/11/02/6/110_4a0006bcf26a33d78da662b7750eea7f_con.png', 'item_cover': 'http://android-imgs.25pp.com/fs08/2017/04/10/7/2c69601c4831a12ea537bef1d0643995.jpg', 'title': '这里有 400 个值得聆听的人生故事'}\n",
      "成功插入一组数据{'app_title': '深海水族馆', 'icon_cover': 'http://android-artworks.25pp.com/fs08/2017/10/25/10/109_47fe7e9f000e3684eab4f9910f13e608_con.png', 'item_cover': 'http://android-imgs.25pp.com/fs08/2017/04/10/5/f9e9534e09c760ce62a26160265cd6d2.png', 'title': '带你潜入美丽的海洋深处'}\n",
      "成功插入一组数据{'app_title': '织梦寻空Zenge', 'icon_cover': 'http://android-artworks.25pp.com/fs08/2017/02/02/2/109_dfacc03a0bc1ab5ff668ffd9d30127e6_con.png', 'item_cover': 'http://android-imgs.25pp.com/fs08/2017/04/10/2/4a72a3395eb7746a1ec1c34810090c15.jpg', 'title': '在手机上体验华容道和七巧板'}\n",
      "成功插入一组数据{'app_title': 'Prisma相机', 'icon_cover': 'http://android-artworks.25pp.com/fs08/2016/12/22/8/115_0fbd62abdc33f4a222d67887bd1e2d32_con.png', 'item_cover': 'http://android-imgs.25pp.com/fs08/2017/04/10/5/bdb1ff239faccb2965e2deb1732f4581.jpg', 'title': '在这款应用里，你也可以成为毕加索'}\n",
      "成功插入一组数据{'app_title': 'iWeekly', 'icon_cover': 'http://android-artworks.25pp.com/fs08/2017/11/10/7/2_dd0c904627cc36f67da37736eaa81917_con.png', 'item_cover': 'http://android-imgs.25pp.com/fs08/2017/04/10/6/3e8bb5fcd9c0dcc57111d5142e0a87e4.jpg', 'title': '手机杂志的冲击力'}\n",
      "成功插入一组数据{'app_title': '阅读空气', 'icon_cover': 'http://android-artworks.25pp.com/fs08/2016/08/03/9/109_76a386f5805f2ec0a7380a48cbc07f73_con.png', 'item_cover': 'http://android-imgs.25pp.com/fs08/2017/04/10/0/3d0b71a55b1eff2a03fd85e1aa6db2b5.jpg', 'title': '休闲游戏改造人生'}\n",
      "成功插入一组数据{'app_title': 'VPlayer', 'icon_cover': 'http://android-artworks.25pp.com/fs08/2016/06/08/10/1_26247caf798302230626e90bea4931a2_con.png', 'item_cover': 'http://android-imgs.25pp.com/fs08/2017/04/10/1/3a7f5b9f4dfd9b84aecede31aaba61a1.jpg', 'title': '全新的影音娱乐生活'}\n",
      "成功插入一组数据{'app_title': '唱吧', 'icon_cover': 'http://android-artworks.25pp.com/fs08/2017/11/01/4/110_171b583a837a32a24d13ffb4193b31bb_con.png', 'item_cover': 'http://android-imgs.25pp.com/fs08/2017/04/10/8/1b57fade7e5f2c51700ad1c9a383ef46.jpg', 'title': '对着手机演唱一段歌曲'}\n",
      "成功插入一组数据{'app_title': '面包猎人', 'icon_cover': 'http://android-artworks.25pp.com/fs08/2017/05/23/6/110_9747021df9e85212ad479bee50c40327_con.png', 'item_cover': 'http://android-imgs.25pp.com/fs08/2017/04/10/8/3a106cfb4a9775e9bfcccfb9190076e7.jpg', 'title': '探索世界的轨迹'}\n",
      "成功插入一组数据{'app_title': '多趣旅行Pro', 'icon_cover': 'http://android-artworks.25pp.com/fs08/2016/06/07/5/1_452c36e7839655669d5e5eeeaa9035fc_con.png', 'item_cover': 'http://android-imgs.25pp.com/fs08/2017/04/10/2/22142dd46c8d1a067e8a4691e7716eba.jpg', 'title': '为手机而生的旅游手册'}\n",
      "成功插入一组数据{'app_title': '豆瓣', 'icon_cover': 'http://android-artworks.25pp.com/fs08/2017/11/16/2/110_bb2ca1b1eba45f6c264cf471f3164183_con.png', 'item_cover': 'http://android-imgs.25pp.com/fs08/2017/04/10/8/635709fb3bef2f2bb06fa4b7bb4c08b1.jpg', 'title': '与喜欢的生活不期而遇'}\n",
      "成功插入一组数据{'app_title': 'Lab桌面', 'icon_cover': 'http://android-artworks.25pp.com/fs08/2017/11/10/9/2_23f59d8d755f7b0305ec84117af08e50_con.png', 'item_cover': 'http://android-imgs.25pp.com/fs08/2017/04/10/4/9992d693a07f2684f87064678b2a0eff.jpg', 'title': '个性只限于你的想象力'}\n",
      "成功插入一组数据{'app_title': '专业摄影师图片社区 500px', 'icon_cover': 'http://android-artworks.25pp.com/fs08/2017/05/26/7/2_74cf3e8893a4b4657f11f6064d411d7c_con.png', 'item_cover': 'http://android-imgs.25pp.com/fs08/2017/04/10/5/64fa3af094baefeb54121e1bcabd7d5d.jpg', 'title': '每个人最出色的照片家园'}\n",
      "成功插入一组数据{'app_title': '极简汇率', 'icon_cover': 'http://android-artworks.25pp.com/fs08/2017/05/15/3/110_de59a03520912668412ce1099b8c2f41_con.png', 'item_cover': 'http://android-imgs.25pp.com/fs08/2017/04/10/5/63315197e2aebac37acdea080b910d29.jpg', 'title': '美且好用的汇率换算'}\n",
      "成功插入一组数据{'app_title': 'MONO', 'icon_cover': 'http://android-artworks.25pp.com/fs08/2016/12/06/4/110_323a334cd5cddbf8f7d05b9abec4fef1_con.png', 'item_cover': 'http://android-imgs.25pp.com/fs08/2017/04/10/10/cca5931030a4b7095076485889a366c6.jpg', 'title': '用有趣的方式看世界'}\n",
      "成功插入一组数据{'app_title': '增高弹簧', 'icon_cover': 'http://android-artworks.25pp.com/fs08/2016/09/13/8/102_e7edf1bded29d799673a8d2fd0e48976_con.png', 'item_cover': 'http://android-imgs.25pp.com/fs08/2017/04/10/4/71af254e60713c4ca71bfefd69aff1c2.jpg', 'title': '小短腿也有春天'}\n",
      "成功插入一组数据{'app_title': '随便走', 'icon_cover': 'http://android-artworks.25pp.com/fs08/2017/10/23/2/110_fa3b54e6b104937a9ea2bb32bee4a4ab_con.png', 'item_cover': 'http://android-imgs.25pp.com/fs08/2017/04/10/10/99bb54bb644f18f4201cb898e70744ef.jpg', 'title': '拒绝地图，总有方向'}\n",
      "成功插入一组数据{'app_title': '索尼克全明星赛车：变形  Sonic Racing Transformed', 'icon_cover': 'http://android-artworks.25pp.com/fs08/2017/03/17/6/109_590977e70eca33f681a14a7d48d4b0e2_con.png', 'item_cover': 'http://android-imgs.25pp.com/fs08/2017/04/10/10/b404cbb031783ed82f3dc40ffc407680.jpg', 'title': '赛车变形记'}\n",
      "成功插入一组数据{'app_title': '动动', 'icon_cover': 'http://android-artworks.25pp.com/fs08/2017/02/17/1/110_26f1408197a66022fad561bb4da7ba7a_con.png', 'item_cover': 'http://android-imgs.25pp.com/fs08/2017/04/10/3/7941f75a59076af9526b906436d1f907.jpg', 'title': '健康管理的贴心助手'}\n",
      "成功插入一组数据{'app_title': '星际穿越', 'icon_cover': 'http://android-artworks.25pp.com/fs08/2017/04/22/6/109_f8ccee71737de35a058fea8033f611e4_con.png', 'item_cover': 'http://android-imgs.25pp.com/fs08/2017/04/10/2/4fec911a466d9c6fd22d87747d7bc8a1.jpg', 'title': '切身探索太空的奥秘'}\n",
      "成功插入一组数据{'app_title': '榫卯', 'icon_cover': 'http://android-artworks.25pp.com/fs08/2016/06/06/9/1_a05283da0676ecc8e15911923c63af37_con.png', 'item_cover': 'http://android-imgs.25pp.com/fs08/2017/04/10/2/21b76a41e9c7458eaa77ad1b74ac8162.jpg', 'title': '给木头爱好者的情诗'}\n",
      "成功插入一组数据{'app_title': '最美创意', 'icon_cover': 'http://android-artworks.25pp.com/fs08/2016/06/08/4/1_c2eb7c5618867e791ed2bdf24e745165_con.png', 'item_cover': 'http://android-imgs.25pp.com/fs08/2017/04/10/3/b04aa7370853b3ce9e4ec795d23316d3.jpg', 'title': '和喜欢的创意不期而遇'}\n",
      "成功插入一组数据{'app_title': '滴答清单', 'icon_cover': 'http://android-artworks.25pp.com/fs08/2017/11/07/3/110_955487c3179762549a70ba14ad563356_con.png', 'item_cover': 'http://android-imgs.25pp.com/fs08/2017/04/10/11/5f5a03d52e04200b98b7c7aba5de63e2.jpg', 'title': '让生活变得简单'}\n",
      "成功插入一组数据{'app_title': '好奇心日报', 'icon_cover': 'http://android-artworks.25pp.com/fs08/2017/11/16/8/110_d667bdbcbfdc896bdda8f478dab19caf_con.png', 'item_cover': 'http://android-imgs.25pp.com/fs08/2017/04/10/7/c2fd7e375f900cac19561ba252958749.jpg', 'title': '满足好奇新方式'}\n",
      "成功插入一组数据{'app_title': '贝壳单词', 'icon_cover': 'http://android-artworks.25pp.com/fs08/2016/06/08/10/1_78819bcb3c2367ed0666bd5cfbe5e851_con.png', 'item_cover': 'http://android-imgs.25pp.com/fs08/2017/04/10/7/5156d2d0fc1f544de919757b6956eaae.jpg', 'title': '全无压力地背单词'}\n",
      "成功插入一组数据{'app_title': '机器人历险记Mekorama', 'icon_cover': 'http://android-artworks.25pp.com/fs08/2017/09/25/7/109_6cf902f5d390318f79684db8e376c762_con.png', 'item_cover': 'http://android-imgs.25pp.com/fs08/2017/04/10/0/2509839e7a64ce60167de82614c8ca33.jpg', 'title': '这款解谜游戏，你可以创建自己的关卡'}\n",
      "成功插入一组数据{'app_title': '穷游锦囊', 'icon_cover': 'http://android-artworks.25pp.com/fs08/2017/10/17/8/110_9138db10ab6b2192f01177893af2872a_con.png', 'item_cover': 'http://android-imgs.25pp.com/fs08/2017/04/10/2/a1b7281fc6052ab2bc48f8a03525080b.jpg', 'title': '从冲绳到南极，你需要的所有攻略都在这里'}\n",
      "成功插入一组数据{'app_title': '阿尔托的冒险', 'icon_cover': 'http://android-artworks.25pp.com/fs08/2017/10/16/5/109_8431aa8fc2fdc71d68f4278e6f088dd0_con.png', 'item_cover': 'http://android-imgs.25pp.com/fs08/2017/04/10/8/75be687e550ceee2f717fa0a265100d3.jpg', 'title': '在这款跑酷游戏里体验日出日落'}\n",
      "成功插入一组数据{'app_title': 'Quik', 'icon_cover': 'http://android-artworks.25pp.com/fs08/2017/11/15/7/115_0e6b73136814ae4e8f05cc5979cbf4e9_con.png', 'item_cover': 'http://android-imgs.25pp.com/fs08/2017/04/10/5/b5776c3fa56699ccfdb9cbde1cea9f97.jpg', 'title': '一键生成 24 种风格的视频'}\n",
      "成功插入一组数据{'app_title': '迪士尼天天过马路', 'icon_cover': 'http://android-artworks.25pp.com/fs08/2017/10/27/10/109_e33b2d31843c16d0a0b3c99a839eb675_con.png', 'item_cover': 'http://android-imgs.25pp.com/fs08/2017/04/10/3/e627d1e48045ad8e16d34c34bc694f44.jpg', 'title': '这款像素游戏里有迪士尼 150 个经典角色'}\n",
      "成功插入一组数据{'app_title': '饭本', 'icon_cover': 'http://android-artworks.25pp.com/fs08/2016/06/07/11/1_765629a1ad2cb2adcb9c850044c2962a_con.png', 'item_cover': 'http://android-imgs.25pp.com/fs08/2017/04/10/0/b306fbc458d4abddb051c60d200a2ffb.jpg', 'title': '吃货的进阶人生'}\n",
      "成功插入一组数据{'app_title': 'Dots', 'icon_cover': 'http://android-artworks.25pp.com/fs08/2017/09/11/0/109_0ee85840268b0341e28ffe9ac1b742ad_con.png', 'item_cover': 'http://android-imgs.25pp.com/fs08/2017/04/10/2/03979e12f80950ddb86dc89cd0544e70.jpg', 'title': '点点连连看'}\n",
      "成功插入一组数据{'app_title': '丁香医生', 'icon_cover': 'http://android-artworks.25pp.com/fs08/2017/11/14/0/110_b9659db598e400351c3bf2083fadf972_con.png', 'item_cover': 'http://android-imgs.25pp.com/fs08/2017/04/10/10/d7e71b6ae29a79eff9ac9ef7ea730100.jpg', 'title': '家庭药箱的新成员'}\n",
      "成功插入一组数据{'app_title': 'Noom Walk', 'icon_cover': 'http://android-artworks.25pp.com/fs08/2016/06/15/5/2_c58f75abb9df9a010e8425199119d840_con.png', 'item_cover': 'http://android-imgs.25pp.com/fs08/2017/04/10/8/2a0926740be7d46ea7b60c5fc4afbc93.jpg', 'title': '没事走两步'}\n",
      "成功插入一组数据{'app_title': '焕彩闹钟', 'icon_cover': 'http://android-artworks.25pp.com/fs08/2017/10/21/9/2_61834d9ac3b6ec354e129d7608bae3a8_con.png', 'item_cover': 'http://android-imgs.25pp.com/fs08/2017/04/10/0/3d8e2a2741ba87816c644e1fd93fbb01.jpg', 'title': '华彩时间'}\n",
      "成功插入一组数据{'app_title': 'Civo', 'icon_cover': 'http://android-artworks.25pp.com/fs08/2016/06/09/1/1_081efff1c25f99f78f3dd58ec1c29722_con.png', 'item_cover': 'http://android-imgs.25pp.com/fs08/2017/04/10/6/17b63b2546508f27e744896a6c8e922e.jpg', 'title': '世界与你相会'}\n",
      "成功插入一组数据{'app_title': '笨拙的忍者', 'icon_cover': 'http://android-artworks.25pp.com/fs08/2017/10/24/4/109_f2e6d6a4f507c5ad4353a6fce748251f_con.png', 'item_cover': 'http://android-imgs.25pp.com/fs08/2017/04/10/7/680fe397555a7063042069622b91e528.jpg', 'title': '如生的虚拟朋友'}\n",
      "成功插入一组数据{'app_title': '落网', 'icon_cover': 'http://android-artworks.25pp.com/fs08/2017/11/01/7/110_2eb827c3816911ea19ba10205f68e8b0_con.png', 'item_cover': 'http://android-imgs.25pp.com/fs08/2017/04/10/10/bd35fc7695f0f0b00620a4d2999f7d9c.jpg', 'title': '独立的独立音乐记录者'}\n",
      "成功插入一组数据{'app_title': '钓鱼发烧友', 'icon_cover': 'http://android-artworks.25pp.com/fs08/2017/10/17/5/109_c5bb1c5250891e6221be7c37895f8769_con.png', 'item_cover': 'http://android-imgs.25pp.com/fs08/2017/04/10/8/ff2885c541a244903291e0ab36f3dbcb.jpg', 'title': '人生总有那么条大鱼'}\n",
      "成功插入一组数据{'app_title': '全天候计步器', 'icon_cover': 'http://android-artworks.25pp.com/fs08/2016/06/21/11/102_bc771bb4a5602d371e761cdf93ec1be5_con.png', 'item_cover': 'http://android-imgs.25pp.com/fs08/2017/04/10/8/be372c1d57b1e172f012b33f6948d3c8.jpg', 'title': '从行走中认识自己'}\n",
      "成功插入一组数据{'app_title': '最美壁纸', 'icon_cover': 'http://android-artworks.25pp.com/fs08/2017/04/25/11/110_93153fa64c76c1eeda1b0758ba14e273_con.png', 'item_cover': 'http://android-imgs.25pp.com/fs08/2017/04/10/7/1b55d106d441e0d0501d9a4b6f92b2ea.jpg', 'title': '每天的优雅邂逅'}\n",
      "成功插入一组数据{'app_title': '星图', 'icon_cover': 'http://android-artworks.25pp.com/fs08/2016/06/09/0/1_179e50a959713d6c4d3e4bce20f49394_con.png', 'item_cover': 'http://android-imgs.25pp.com/fs08/2017/04/10/6/f78db5adcd19779659bd8655678834f7.jpg', 'title': '抬头一望的好奇心'}\n",
      "成功插入一组数据{'app_title': '琥珀天气', 'icon_cover': 'http://android-artworks.25pp.com/fs08/2017/10/19/9/2_3dd8270e7bf903a6ff2cb699cfa64e1e_con.png', 'item_cover': 'http://android-imgs.25pp.com/fs08/2017/04/10/4/73fe4195d0e97b1d7c2f19cb47efd420.jpg', 'title': '吼吼吼吼 Holo 风'}\n",
      "成功插入一组数据{'app_title': 'Airbnb爱彼迎', 'icon_cover': 'http://android-artworks.25pp.com/fs08/2017/11/17/9/110_9a0f22c4faf992dcabc5d0d1e47b669a_con.png', 'item_cover': 'http://android-imgs.25pp.com/fs08/2017/04/10/4/2e82960d6e7aab8b917599165d64aa4a.jpg', 'title': '在旅行中，住宿不仅仅是房间'}\n",
      "成功插入一组数据{'app_title': 'Sol日历', 'icon_cover': 'http://android-artworks.25pp.com/fs08/2016/09/23/6/102_c96745850cc9503e421d5097fe654eeb_con.png', 'item_cover': 'http://android-imgs.25pp.com/fs08/2017/04/10/0/6ce634a494ba1cc92351a28ca9aec01b.jpg', 'title': '桌面日历小清新'}\n",
      "成功插入一组数据{'app_title': '部落冲突Clash-of-Clans', 'icon_cover': 'http://android-artworks.25pp.com/fs08/2017/11/19/3/109_ef1e95c7d2f4db6bd3a171c8349a7ca7_con.png', 'item_cover': 'http://android-imgs.25pp.com/fs08/2017/04/10/6/81ea455e0bfad357d11eae8c18c6dd56.jpg', 'title': '可能是最棒的手机游戏'}\n",
      "成功插入一组数据{'app_title': 'AnimeTaste', 'icon_cover': 'http://android-artworks.25pp.com/fs08/2016/06/07/10/1_6cad8a290fb73eca4ddfda9bc89b9093_con.png', 'item_cover': 'http://android-imgs.25pp.com/fs08/2017/04/10/10/0dcb74d47ddbaa0504b0658032972a91.jpg', 'title': '动画品味风向标'}\n",
      "成功插入一组数据{'app_title': 'Snapseed', 'icon_cover': 'http://android-artworks.25pp.com/fs08/2016/09/23/11/102_efbdfbd14ffe6ddab4ff7478e578b058_con.png', 'item_cover': 'http://android-imgs.25pp.com/fs08/2017/04/10/9/589144ea07a460a207c75bbaa031cef0.jpg', 'title': '一拍 易修 亦分享'}\n",
      "成功插入一组数据{'app_title': '全球定酒店 Expedia', 'icon_cover': 'http://android-artworks.25pp.com/fs08/2017/11/16/10/115_61ad7da3b3aec26a3493b858321b8a46_con.png', 'item_cover': 'http://android-imgs.25pp.com/fs08/2017/04/10/10/90fa26da99d200ab3b00299856b11aaa.jpg', 'title': '旅行体验 飞抵手机'}\n",
      "成功插入一组数据{'app_title': '豆瓣阅读', 'icon_cover': 'http://android-artworks.25pp.com/fs08/2017/10/30/4/110_da71b0fc6584562a4670fbcb3d3f0408_con.png', 'item_cover': 'http://android-imgs.25pp.com/fs08/2017/04/10/2/4ce54859a0a262b0024de23b7f15b6d5.jpg', 'title': '手机小书店的灯光 '}\n",
      "成功插入一组数据{'app_title': '笔记Catch Notes', 'icon_cover': 'http://android-artworks.25pp.com/fs08/2016/06/08/7/1_deb67bdff50bb0ce4896840b22411748_con.png', 'item_cover': 'http://android-imgs.25pp.com/fs08/2017/04/10/0/dfce880305dc19e371c248dd08c06bb4.jpg', 'title': '抓住点滴思绪'}\n",
      "成功插入一组数据{'app_title': 'Any.DO', 'icon_cover': 'http://android-artworks.25pp.com/fs08/2017/11/03/0/102_aaaeb51e9c4c97a29465ed3471809287_con.png', 'item_cover': 'http://android-imgs.25pp.com/fs08/2017/04/10/11/f8377e333fe33b79657f8ab6867d675c.jpg', 'title': '聪明的待办事项助手'}\n",
      "成功插入一组数据{'app_title': '看球啦', 'icon_cover': 'http://android-artworks.25pp.com/fs08/2016/06/10/9/102_680fb16566e3b7334bb22dfc16df5bb7_con.png', 'item_cover': 'http://android-imgs.25pp.com/fs08/2017/04/10/7/24cdd5b9c19b758481a155c9b35a6c0c.jpg', 'title': '球迷掌中宝'}\n",
      "成功插入一组数据{'app_title': 'LINE Brush·连我画笔', 'icon_cover': 'http://android-artworks.25pp.com/fs08/2016/06/07/8/1_e4f386e73e5a57a4dc2b3cb50b84df33_con.png', 'item_cover': 'http://android-imgs.25pp.com/fs08/2017/04/10/6/ab2ffc8138661ada9f9b660b9bd35fc4.jpg', 'title': '见字如晤'}\n",
      "成功插入一组数据{'app_title': '7x7消除', 'icon_cover': 'http://android-artworks.25pp.com/fs08/2016/08/18/8/109_448dd24e302b895ee7be41108cabae5d_con.png', 'item_cover': 'http://android-imgs.25pp.com/fs08/2017/04/10/1/d15a455392e8c6befd0cdc9d9c2469b3.jpg', 'title': '一局消除游戏很大的棋'}\n",
      "成功插入一组数据{'app_title': '谷歌浏览器Google Chrome', 'icon_cover': 'http://android-artworks.25pp.com/fs08/2017/04/19/10/2_f2b4f58de26356d626addf4b83e3a38d_con.png', 'item_cover': 'http://android-imgs.25pp.com/fs08/2017/04/10/5/146b1ed2d9108bf05b4241fe7289d2c4.jpg', 'title': '一款浏览器该有的样子'}\n",
      "成功插入一组数据{'app_title': 'cameran 蜷川实花相机', 'icon_cover': 'http://android-artworks.25pp.com/fs08/2016/06/07/11/1_4ff4bc96253ecadf1b793e03223c38f9_con.png', 'item_cover': 'http://android-imgs.25pp.com/fs08/2017/04/10/11/f9d529b07e46a703ec961a552ca2acf8.jpg', 'title': '一秒钟变身风格摄影家'}\n",
      "成功插入一组数据{'app_title': '音乐雷达', 'icon_cover': 'http://android-artworks.25pp.com/fs08/2016/12/22/3/115_4fe189ab1aa2e503037e15589545a779_con.png', 'item_cover': 'http://android-imgs.25pp.com/fs08/2017/04/10/0/cfee44c6e7ed76cb86b0a80da6efb94a.jpg', 'title': '会听歌辨曲的音乐电台'}\n",
      "成功插入一组数据{'app_title': '番茄快点 - 10秒点出一桌菜', 'icon_cover': 'http://android-artworks.25pp.com/fs08/2016/06/08/10/1_989866e7a9d54bd7d30609c8efafc6bf_con.png', 'item_cover': 'http://android-imgs.25pp.com/fs08/2017/04/10/6/7ef5f8f19672513b6d220ed8ee7a6c78.jpg', 'title': '选择困难症的点菜宝'}\n",
      "成功插入一组数据{'app_title': 'Waze', 'icon_cover': 'http://android-artworks.25pp.com/fs08/2017/11/17/2/115_2132dd58e44e65e6f2a92fab47be6b7f_con.png', 'item_cover': 'http://android-imgs.25pp.com/fs08/2017/04/10/9/4f78a54ff2eef2015b4f1e93765c64f3.jpg', 'title': '城市交通感受器'}\n",
      "成功插入一组数据{'app_title': '多看阅读', 'icon_cover': 'http://android-artworks.25pp.com/fs08/2017/10/20/8/110_bd67c01960569c625377d49e0e12b66e_con.png', 'item_cover': 'http://android-imgs.25pp.com/fs08/2017/04/10/4/440b4f3c92ba511693d033a5d250bec1.jpg', 'title': '翻开阅读新一页'}\n",
      "成功插入一组数据{'app_title': '知趣天气', 'icon_cover': 'http://android-artworks.25pp.com/fs08/2017/05/02/4/110_832246980eac005ca87eb8b7aaa9741c_con.png', 'item_cover': 'http://android-imgs.25pp.com/fs08/2017/04/10/8/6c46bfef864ed00afe98f66a8210d8aa.jpg', 'title': '天空刮过剪纸风'}\n",
      "成功插入一组数据{'app_title': '瘦瘦', 'icon_cover': 'http://android-artworks.25pp.com/fs08/2017/11/10/8/110_b7e5a260ed02ecb790e2ce235dba943f_con.png', 'item_cover': 'http://android-imgs.25pp.com/fs08/2017/04/10/9/1a5e6f63cbc11ff76250e18f993bfa80.jpg', 'title': '帮你勒紧裤腰带'}\n",
      "成功插入一组数据{'app_title': 'Fuubo微博', 'icon_cover': 'http://android-artworks.25pp.com/fs08/2016/09/05/11/102_516da3d44d895e95a972d050448119bd_con.png', 'item_cover': 'http://android-imgs.25pp.com/fs08/2017/04/10/6/150242e0e5d2f9e09597753b8c23756b.jpg', 'title': '眼前一亮'}\n",
      "成功插入一组数据{'app_title': '微可拍', 'icon_cover': 'http://android-artworks.25pp.com/fs08/2016/06/09/0/1_67fb9c1a52ed6637c1a0bf8d47da12eb_con.png', 'item_cover': 'http://android-imgs.25pp.com/fs08/2017/04/10/2/2f2af2d03e20076b68829cb3215464e1.jpg', 'title': '感受精致影像'}\n",
      "成功插入一组数据{'app_title': '美乐时光', 'icon_cover': 'http://android-artworks.25pp.com/fs08/2016/06/07/11/1_e1006f272472e70639483f9eec466574_con.png', 'item_cover': 'http://android-imgs.25pp.com/fs08/2017/04/10/8/45fbf508a260ab5f7a77778beb88c3f4.jpg', 'title': '对的时间 对的音乐'}\n",
      "成功插入一组数据{'app_title': 'Uface面部素描', 'icon_cover': 'http://android-artworks.25pp.com/fs08/2016/06/07/3/1_ab008536693c75cdd98156512cf73573_con.png', 'item_cover': 'http://android-imgs.25pp.com/fs08/2017/04/10/10/89b20376c05225bedc9d6abc237c70d4.jpg', 'title': '面容·独一无二'}\n",
      "成功插入一组数据{'app_title': 'Flava™ - 日常记录', 'icon_cover': 'http://android-artworks.25pp.com/fs08/2017/05/11/4/2_3e3606e217fbee881b3207ad62b63d1b_con.png', 'item_cover': 'http://android-imgs.25pp.com/fs08/2017/04/10/8/1b80b8c6e8fef42b7a534a2b4f361edf.jpg', 'title': '记录珍贵瞬间'}\n",
      "成功插入一组数据{'app_title': '牛仔大决斗 Ready Steady Bang', 'icon_cover': 'http://android-artworks.25pp.com/fs08/2017/09/25/9/109_be0ed2a977637074ec78b7e822090fb8_con.png', 'item_cover': 'http://android-imgs.25pp.com/fs08/2017/04/10/10/b25e191e069377005dc0262fb4f2f2b0.jpg', 'title': '快枪决胜'}\n",
      "成功插入一组数据{'app_title': '谷歌拼音', 'icon_cover': 'http://android-artworks.25pp.com/fs08/2016/07/25/2/2_ed746ac3d5d58aca3191aabc64a37b8d_con.png', 'item_cover': 'http://android-imgs.25pp.com/fs08/2017/04/10/0/cdd4ac1d937a4a7fb06abd88cb6ebb04.jpg', 'title': '字随指动'}\n",
      "成功插入一组数据{'app_title': 'Ovo timer 倒计时器', 'icon_cover': 'http://android-artworks.25pp.com/fs08/2016/06/07/2/1_d11957204714bc9cf8d401f89dd51b9a_con.png', 'item_cover': 'http://android-imgs.25pp.com/fs08/2017/04/10/4/1c799e0d92ce8b3826bcd4f4d21c2553.jpg', 'title': '拧发条计时器的趣味'}\n",
      "成功插入一组数据{'app_title': '豆瓣电影', 'icon_cover': 'http://android-artworks.25pp.com/fs08/2017/11/01/4/110_d4b2b6731a05d7c68a90c39a64132ca4_con.png', 'item_cover': 'http://android-imgs.25pp.com/fs08/2017/04/10/10/3d4650f955cd574f48a393339bb9a142.jpg', 'title': '筹划你的爆米花时间'}\n",
      "成功插入一组数据{'app_title': '爱范儿', 'icon_cover': 'http://android-artworks.25pp.com/fs08/2017/11/09/9/2_937d15ae962493af691d05c10cef314b_con.png', 'item_cover': 'http://android-imgs.25pp.com/fs08/2017/04/10/11/f2f820de37868efdd87bb407a8eed281.jpg', 'title': '科技资讯收入掌中'}\n",
      "成功插入一组数据{'app_title': '快现', 'icon_cover': 'http://android-artworks.25pp.com/fs08/2016/06/07/7/1_e0fe4759d289170212e31dc3f4210fb7_con.png', 'item_cover': 'http://android-imgs.25pp.com/fs08/2017/04/10/10/3b75ee23c23bdde1e6f2a46117b8a049.jpg', 'title': '三分钟手绘界面'}\n",
      "成功插入一组数据{'app_title': '咪咕灵犀', 'icon_cover': 'http://android-artworks.25pp.com/fs08/2017/11/01/6/110_68d024cdf13d3a3384e9233faa511f01_con.png', 'item_cover': 'http://android-imgs.25pp.com/fs08/2017/04/10/8/03f6d6a3dd316a5a478bfa4cf7a27ef1.jpg', 'title': '语音一点通'}\n",
      "成功插入一组数据{'app_title': '穷游', 'icon_cover': 'http://android-artworks.25pp.com/fs08/2017/11/14/9/110_c7e7d468390fc4d8eecab4334f491d11_con.png', 'item_cover': 'http://android-imgs.25pp.com/fs08/2017/04/10/1/5695cd030d0b10354fb8c6e17eca2be8.jpg', 'title': '一大拨旅行攻略来袭'}\n",
      "成功插入一组数据{'app_title': '追光者2', 'icon_cover': 'http://android-artworks.25pp.com/fs08/2017/06/13/5/109_62bfb515140faa8c75f48433d31821c9_con.png', 'item_cover': 'http://android-imgs.25pp.com/fs08/2017/06/01/5/fceeb8d0756af1ac5ca24cee6f12b446.jpg', 'title': '唯美冒险解谜游戏，一起追逐光明的力量'}\n",
      "成功插入一组数据{'app_title': '网易蜗牛读书', 'icon_cover': 'http://android-artworks.25pp.com/fs08/2017/11/03/11/110_3f3f6abd2e05ea111f28df380fdbc936_con.png', 'item_cover': 'http://android-imgs.25pp.com/fs08/2017/05/25/8/9af9f95dec488d8af530080dcea844fc.jpg', 'title': ' 每天免费 1 小时，用更低成本看更多好书'}\n",
      "成功插入一组数据{'app_title': 'Mori手帐', 'icon_cover': 'http://android-artworks.25pp.com/fs08/2017/11/17/3/2_f807a34c25564369ddac61d67b09b784_con.png', 'item_cover': 'http://android-imgs.25pp.com/fs08/2017/05/19/11/dbdb9b6722c646671d5ec8f249ac423b.jpg', 'title': '3 秒钟做出漂亮手账，平淡日子里的美好仪式'}\n",
      "成功插入一组数据{'app_title': '缪斯计划', 'icon_cover': 'http://android-artworks.25pp.com/fs08/2017/09/06/7/109_597af6168d91b6e6df35238cf405811a_con.png', 'item_cover': 'http://android-imgs.25pp.com/fs08/2017/05/19/10/632c2d196459a42efa1f62332b8ee993.jpg', 'title': '像弹钢琴一般，享受指尖的轻盈反馈'}\n",
      "成功插入一组数据{'app_title': '字里行间', 'icon_cover': 'http://android-artworks.25pp.com/fs08/2017/10/09/8/110_f4687b91d9eed686242ce7f7d8c1339f_con.png', 'item_cover': 'http://android-imgs.25pp.com/fs08/2017/05/19/5/f2e466cfb99d4ff54424a90891493211.jpg', 'title': '在字里行间，发现创作的乐趣'}\n",
      "成功插入一组数据{'app_title': '僵尸榨汁机', 'icon_cover': 'http://android-artworks.25pp.com/fs08/2017/05/27/4/109_fdc48f9111c51f8fe1e4064be5b0206a_con.png', 'item_cover': 'http://android-imgs.25pp.com/fs08/2017/05/19/11/4c9918ffec956f22908f4f639f457553.jpg', 'title': '捕获 20 多种僵尸，做成果汁和沙冰'}\n",
      "成功插入一组数据{'app_title': '课程格子', 'icon_cover': 'http://android-artworks.25pp.com/fs08/2017/10/25/4/110_cf48558bdd49147e0d795800cfb88856_con.png', 'item_cover': 'http://android-imgs.25pp.com/fs08/2017/04/10/8/9a14a6a0b1e319ae6c1c9339624465b2.jpg', 'title': '让你的手机和你一起开学 '}\n",
      "成功插入一组数据{'app_title': '过日子', 'icon_cover': 'http://android-artworks.25pp.com/fs08/2017/09/29/3/110_2f22bcd5d8ffd0c21df033d28e289fa1_con.png', 'item_cover': 'http://android-imgs.25pp.com/fs08/2017/04/10/2/dae5bd1c3cb8fa65db629154bfc078a5.jpg', 'title': '接地气的小清新'}\n",
      "成功插入一组数据{'app_title': '百度音乐', 'icon_cover': 'http://android-artworks.25pp.com/fs08/2017/09/08/3/110_4aff7cf1a7f9be969d1e69b15b11405a_con.png', 'item_cover': 'http://android-imgs.25pp.com/fs08/2017/04/10/10/1d8ba65a02cc5f0a0399eb63ecd6e117.jpg', 'title': '一站式音乐应用 '}\n",
      "成功插入一组数据{'app_title': '正点日历', 'icon_cover': 'http://android-artworks.25pp.com/fs08/2017/03/03/1/110_e61907cb7902c06a40d439d1474b42b7_con.png', 'item_cover': 'http://android-imgs.25pp.com/fs08/2017/04/10/4/6397d96399ba8ebb203ee8f6ce32aed0.jpg', 'title': '把每日生活放到口袋里 '}\n",
      "成功插入一组数据{'app_title': 'Minu计时器', 'icon_cover': 'http://android-artworks.25pp.com/fs08/2016/06/08/6/1_4555b9b68bc2d274599416c99bf3b914_con.png', 'item_cover': 'http://android-imgs.25pp.com/fs08/2017/04/10/1/af32baf8ee7d90f61e79ac6ff31aac36.jpg', 'title': '让时间流逝变得优雅起来 '}\n",
      "成功插入一组数据{'app_title': 'Retrica(复古相机)', 'icon_cover': 'http://android-artworks.25pp.com/fs08/2016/12/15/0/115_cf24123d6f5332a8a63cb6c303230ec1_con.png', 'item_cover': 'http://android-imgs.25pp.com/fs08/2017/04/10/8/2ae0f997ed9b5ec2532dc5a0f1565920.jpg', 'title': '100+ 款滤镜拍出最美复古风'}\n",
      "成功插入一组数据{'app_title': '好好住', 'icon_cover': 'http://android-artworks.25pp.com/fs08/2017/11/16/7/110_7aaf73d1cc3e21adeff4a5c6043d07e8_con.png', 'item_cover': 'http://android-imgs.25pp.com/fs08/2017/04/10/11/2578d472a984d7d7db946be4b7ca4eb7.jpg', 'title': '让你居住的地方成为艺术品'}\n",
      "成功插入一组数据{'app_title': '崩坏3', 'icon_cover': 'http://android-artworks.25pp.com/fs08/2017/08/24/5/102_8c50c198a9b4db876198b26559b323f9_con.png', 'item_cover': 'http://android-imgs.25pp.com/fs08/2017/04/10/8/4569aa349defc4548baad3dd11e7b1b6.jpg', 'title': '操作 12 种角色形态为世界而战'}\n",
      "成功插入一组数据{'app_title': '疯狂动物园', 'icon_cover': 'http://android-artworks.25pp.com/fs08/2017/09/15/6/102_b462083e91232f3ab33c795132cf0788_con.png', 'item_cover': 'http://android-imgs.25pp.com/fs08/2017/04/10/1/b48d2f6b6d5ed9b2d4d5ead73978f246.jpg', 'title': '和 100 种动物一起狂奔'}\n",
      "成功插入一组数据{'app_title': '查尔斯', 'icon_cover': 'http://android-artworks.25pp.com/fs08/2017/09/22/5/109_ddd2664a17befe3f8375402e8c4a7f61_con.png', 'item_cover': 'http://android-imgs.25pp.com/fs08/2017/04/10/11/8d0c6f14e6646efda5073202ff51ca00.jpg', 'title': '可以带你穿越彩虹弹雨'}\n",
      "成功插入一组数据{'app_title': '日日煮', 'icon_cover': 'http://android-artworks.25pp.com/fs08/2017/11/17/9/110_628fb002d0042a74956a631cad8b812d_con.png', 'item_cover': 'http://android-imgs.25pp.com/fs08/2017/04/10/0/23faef769d9ad1eb34c4bfe5ba0f7575.jpg', 'title': '3 分钟学会一道顶级料理'}\n",
      "成功插入一组数据{'app_title': '日历Sunrise', 'icon_cover': 'http://android-artworks.25pp.com/fs08/2016/06/08/8/1_57cbc0ae6bb8ba36ba4267b9ee2f3ddc_con.png', 'item_cover': 'http://android-imgs.25pp.com/fs08/2017/04/10/0/8f60c41afe610862ff392efd02d02f34.jpg', 'title': '俏皮灵动的社交日历'}\n",
      "成功插入一组数据{'app_title': 'nice', 'icon_cover': 'http://android-artworks.25pp.com/fs08/2017/11/09/7/110_1c63d3e9396b87267a10d536d25818c1_con.png', 'item_cover': 'http://android-imgs.25pp.com/fs08/2017/04/10/10/1aaaaedc5a4149295b9f92a6d331ea28.jpg', 'title': '晒给懂你的人'}\n",
      "成功插入一组数据{'app_title': '神折纸', 'icon_cover': 'http://android-artworks.25pp.com/fs08/2017/09/22/6/109_6fefe1d1860ee6fdf561525bfbdb6980_con.png', 'item_cover': 'http://android-imgs.25pp.com/fs08/2017/04/10/5/7e8cd35a7036ecb6033cd8a1a766e618.jpg', 'title': '静静体味纸的魅力'}\n",
      "成功插入一组数据{'app_title': '番茄土豆', 'icon_cover': 'http://android-artworks.25pp.com/fs08/2017/04/10/7/110_0cb84b55eeda016a2407bd7bd04798c3_con.png', 'item_cover': 'http://android-imgs.25pp.com/fs08/2017/04/10/7/dcf8a71f466654831dcddb60fd7b2014.jpg', 'title': '完成了不起的工作'}\n",
      "成功插入一组数据{'app_title': 'SolGroup', 'icon_cover': 'http://android-artworks.25pp.com/fs08/2016/06/09/7/1_324eea99c68e8a19b9d76ab0c9146bfd_con.png', 'item_cover': 'http://android-imgs.25pp.com/fs08/2017/04/10/10/8c99f5a9a11bc38fb6bff22370116202.jpg', 'title': '小圈子里的组团新方案'}\n",
      "成功插入一组数据{'app_title': 'VSCO Cam手机摄影', 'icon_cover': 'http://android-artworks.25pp.com/fs08/2016/12/08/10/115_0d64058689ab3ebb909b82adf079c41a_con.png', 'item_cover': 'http://android-imgs.25pp.com/fs08/2017/04/10/10/c6bae3729d1ce20ad90bd0b6df2e5e31.jpg', 'title': '5 位摄影师，教你用手机拍出专业级照片'}\n",
      "成功插入一组数据{'app_title': 'Zine', 'icon_cover': 'http://android-artworks.25pp.com/fs08/2017/08/31/5/110_309e14f6f752f51f08218c7b77a40a7e_con.png', 'item_cover': 'http://android-imgs.25pp.com/fs08/2017/04/10/8/1d0a604d7cd08519941632ceb7e239d2.jpg', 'title': '手机上也能写出排版优雅的文字'}\n",
      "成功插入一组数据{'app_title': '懒人周末', 'icon_cover': 'http://android-artworks.25pp.com/fs08/2017/11/01/11/110_f28c0fc7b587d434073131b1ae9e07cb_con.png', 'item_cover': 'http://android-imgs.25pp.com/fs08/2017/04/10/10/af37950629d34ef0aa11b2afa53b0adb.jpg', 'title': '每个周末都是惊喜'}\n",
      "成功插入一组数据{'app_title': '黄油相机', 'icon_cover': 'http://android-artworks.25pp.com/fs08/2017/11/08/3/110_4b1a7f159d28860647febb81e2135406_con.png', 'item_cover': 'http://android-imgs.25pp.com/fs08/2017/04/10/4/e13f1936598d6093775e3a39635e089b.jpg', 'title': '给照片加点料儿'}\n",
      "成功插入一组数据{'app_title': '每日故宫', 'icon_cover': 'http://android-artworks.25pp.com/fs08/2016/09/01/7/1_fe97e827bfa2f3080595aa4345dc0736_con.png', 'item_cover': 'http://android-imgs.25pp.com/fs08/2017/04/10/3/95a65d2f4cb16b030264ac90f870ff16.jpg', 'title': '365 天看尽故宫珍藏'}\n",
      "成功插入一组数据{'app_title': '最美时光', 'icon_cover': 'http://android-artworks.25pp.com/fs08/2017/05/24/2/110_1a1225c7b28397fd602f116ce311521b_con.png', 'item_cover': 'http://android-imgs.25pp.com/fs08/2017/04/10/6/0997caedafe88af612ad2d8fa3caa7a2.jpg', 'title': '记住那些重要的日子'}\n",
      "成功插入一组数据{'app_title': '食色', 'icon_cover': 'http://android-artworks.25pp.com/fs08/2016/06/08/0/1_479cb9386d533cc9fe070ec77ce17164_con.png', 'item_cover': 'http://android-imgs.25pp.com/fs08/2017/04/10/1/c19c6d6b973fffca3a1b923a8e268f56.jpg', 'title': '分享味蕾的快乐'}\n",
      "成功插入一组数据{'app_title': '四方Foursquare', 'icon_cover': 'http://android-artworks.25pp.com/fs08/2017/11/16/0/2_8b73ee048a9012ea3c1909cff01a3959_con.png', 'item_cover': 'http://android-imgs.25pp.com/fs08/2017/04/10/5/df09c279743ad89e4619c912302f9119.jpg', 'title': '签到开拓者的新历险'}\n",
      "成功插入一组数据{'app_title': '多邻国', 'icon_cover': 'http://android-artworks.25pp.com/fs08/2016/06/08/1/1_595d7bccbaa7717c728cdd80a185b645_con.png', 'item_cover': 'http://android-imgs.25pp.com/fs08/2017/04/10/8/9c6041622915ff872626adf45ef81c5e.jpg', 'title': '快乐外语每一天'}\n",
      "成功插入一组数据{'app_title': '愤怒的小鸟英雄传', 'icon_cover': 'http://android-artworks.25pp.com/fs08/2017/08/24/9/109_c149bb209d6a367fd8c2ee357f5dc7d2_con.png', 'item_cover': 'http://android-imgs.25pp.com/fs08/2017/04/10/2/5d65ec7f270534ba31c5f86fbb587789.jpg', 'title': '愤怒小鸟的史诗大战'}\n",
      "成功插入一组数据{'app_title': '简单笔记Simplenote', 'icon_cover': 'http://android-artworks.25pp.com/fs08/2017/04/26/10/115_1c3a853aa264e4998718a4d2936b53c0_con.png', 'item_cover': 'http://android-imgs.25pp.com/fs08/2017/04/10/0/f053a3fd8453c6831e698f866b8a0e29.jpg', 'title': '追求简洁之美'}\n",
      "16.709288597106934\n"
     ]
    }
   ],
   "source": [
    "import asyncio\n",
    "import aiohttp\n",
    "from bs4 import BeautifulSoup\n",
    "import time\n",
    "\n",
    "# 需要爬取的网址列表\n",
    "urls = ['http://www.wandoujia.com/award?page={}'.format(num) for num in range(1, 46)]\n",
    "\n",
    "async def get_url(url):\n",
    "    async with aiohttp.ClientSession() as session:  # await关键字将暂停协程函数的执行，等待异步IO返回结果。\n",
    "        async with session.get(url) as html:\n",
    "            response = await html.text(encoding=\"utf-8\")  # await关键字将暂停协程函数的执行，等待异步IO返回结果。\n",
    "            return response\n",
    "\n",
    "async def parser(url):\n",
    "    html = await get_url(url)\n",
    "    soup = BeautifulSoup(html, 'lxml')\n",
    "    title = soup.find_all(class_='title')\n",
    "    app_title = soup.find_all(class_='app-title')\n",
    "    item_cover = soup.find_all(class_='item-cover')\n",
    "    icon_cover = soup.select('div.list-wrap > ul > li > div.icon > img')\n",
    "    for title_i, app_title_i, item_cover_i, icon_cover_i in zip(title, app_title, item_cover, icon_cover):\n",
    "        content = {\n",
    "            'title': title_i.get_text(),\n",
    "            'app_title': app_title_i.get_text(),\n",
    "            'item_cover': item_cover_i['data-original'],\n",
    "            'icon_cover': icon_cover_i['data-original']\n",
    "        }\n",
    "        #col.insert(content)\n",
    "        print('成功插入一组数据' + str(content))\n",
    "\n",
    "start = time.time()\n",
    "loop = asyncio.get_event_loop()\n",
    "tasks = [parser(url) for url in urls]\n",
    "loop.run_until_complete(asyncio.gather(*tasks))\n",
    "print(time.time() - start)\n",
    "\n"
   ]
  },
  {
   "cell_type": "markdown",
   "metadata": {},
   "source": [
    "让我尝试改造成不需要数据库的"
   ]
  },
  {
   "cell_type": "code",
   "execution_count": 14,
   "metadata": {
    "collapsed": false
   },
   "outputs": [
    {
     "name": "stdout",
     "output_type": "stream",
     "text": [
      "成功插入一组数据{'app_title': 'V电影', 'icon_cover': 'http://android-artworks.25pp.com/fs08/2017/10/30/9/110_342079ff551ead62a70dc7f8bb5e3ed5_con.png', 'item_cover': 'http://android-imgs.25pp.com/fs08/2017/08/24/10/089978be5a22cfb0813f02c366cadda9.jpg', 'title': '从优质短片到幕后创作，每天 5 分钟收获灵感 '}\n",
      "成功插入一组数据{'app_title': '培根逃亡', 'icon_cover': 'http://android-artworks.25pp.com/fs08/2017/07/13/5/1_fb2a0cbf80f7e01465ec6b807838090a_con.png', 'item_cover': 'http://android-imgs.25pp.com/fs08/2017/08/17/7/285a7e2cbb5aff08c5ebdac79d1bb32d.jpg', 'title': '除了主角，可以操控所有机关的跑酷游戏，挑战你的脑回路'}\n",
      "成功插入一组数据{'app_title': '不思议迷宫', 'icon_cover': 'http://android-artworks.25pp.com/fs08/2017/11/07/0/109_93f15137f8bb9551ab067303ca95b170_con.png', 'item_cover': 'http://android-imgs.25pp.com/fs08/2017/08/09/7/316f69b1084999f55a2b19b5002f66f2.jpg', 'title': '在随机生成的未知世界里, 享受探索的乐趣'}\n",
      "成功插入一组数据{'app_title': '折扇', 'icon_cover': 'http://android-artworks.25pp.com/fs08/2017/08/29/2/110_a0dc950d65fca4cf26a47aa7cb77dbe3_con.png', 'item_cover': 'http://android-imgs.25pp.com/fs08/2017/08/03/4/4f5d5974ca484efd6ddb2a7678a8e5a7.jpg', 'title': '在游戏中习得制扇工艺，在把玩中了解折叠之美'}\n",
      "成功插入一组数据{'app_title': '绝望3：黑暗地球', 'icon_cover': 'http://android-artworks.25pp.com/fs08/2017/09/22/3/109_54d74659cc316d3227727368b83cb8a2_con.png', 'item_cover': 'http://android-imgs.25pp.com/fs08/2017/07/26/8/0931542a3297eb9af382ed25e54ec969.jpg', 'title': '这款游戏的冒险家，胆小又呆萌'}\n",
      "成功插入一组数据{'app_title': '片场', 'icon_cover': 'http://android-artworks.25pp.com/fs08/2017/11/15/1/110_d21a7c0a00cfdc8fbfea64ce3a06eba2_con.png', 'item_cover': 'http://android-imgs.25pp.com/fs08/2017/07/19/2/e4ecde3a020e817020d9dad10d8b0720.jpg', 'title': '在 4689 个取景地中体验电影故事'}\n",
      "成功插入一组数据{'app_title': '番茄快点 - 10秒点出一桌菜', 'icon_cover': 'http://android-artworks.25pp.com/fs08/2016/06/08/10/1_989866e7a9d54bd7d30609c8efafc6bf_con.png', 'item_cover': 'http://android-imgs.25pp.com/fs08/2017/04/10/6/7ef5f8f19672513b6d220ed8ee7a6c78.jpg', 'title': '选择困难症的点菜宝'}\n",
      "成功插入一组数据{'app_title': 'Waze', 'icon_cover': 'http://android-artworks.25pp.com/fs08/2017/11/17/2/115_2132dd58e44e65e6f2a92fab47be6b7f_con.png', 'item_cover': 'http://android-imgs.25pp.com/fs08/2017/04/10/9/4f78a54ff2eef2015b4f1e93765c64f3.jpg', 'title': '城市交通感受器'}\n",
      "成功插入一组数据{'app_title': '多看阅读', 'icon_cover': 'http://android-artworks.25pp.com/fs08/2017/10/20/8/110_bd67c01960569c625377d49e0e12b66e_con.png', 'item_cover': 'http://android-imgs.25pp.com/fs08/2017/04/10/4/440b4f3c92ba511693d033a5d250bec1.jpg', 'title': '翻开阅读新一页'}\n",
      "成功插入一组数据{'app_title': '知趣天气', 'icon_cover': 'http://android-artworks.25pp.com/fs08/2017/05/02/4/110_832246980eac005ca87eb8b7aaa9741c_con.png', 'item_cover': 'http://android-imgs.25pp.com/fs08/2017/04/10/8/6c46bfef864ed00afe98f66a8210d8aa.jpg', 'title': '天空刮过剪纸风'}\n",
      "成功插入一组数据{'app_title': '瘦瘦', 'icon_cover': 'http://android-artworks.25pp.com/fs08/2017/11/10/8/110_b7e5a260ed02ecb790e2ce235dba943f_con.png', 'item_cover': 'http://android-imgs.25pp.com/fs08/2017/04/10/9/1a5e6f63cbc11ff76250e18f993bfa80.jpg', 'title': '帮你勒紧裤腰带'}\n",
      "成功插入一组数据{'app_title': 'Fuubo微博', 'icon_cover': 'http://android-artworks.25pp.com/fs08/2016/09/05/11/102_516da3d44d895e95a972d050448119bd_con.png', 'item_cover': 'http://android-imgs.25pp.com/fs08/2017/04/10/6/150242e0e5d2f9e09597753b8c23756b.jpg', 'title': '眼前一亮'}\n",
      "成功插入一组数据{'app_title': 'VSCO Cam手机摄影', 'icon_cover': 'http://android-artworks.25pp.com/fs08/2016/12/08/10/115_0d64058689ab3ebb909b82adf079c41a_con.png', 'item_cover': 'http://android-imgs.25pp.com/fs08/2017/04/10/10/c6bae3729d1ce20ad90bd0b6df2e5e31.jpg', 'title': '5 位摄影师，教你用手机拍出专业级照片'}\n",
      "成功插入一组数据{'app_title': 'Zine', 'icon_cover': 'http://android-artworks.25pp.com/fs08/2017/08/31/5/110_309e14f6f752f51f08218c7b77a40a7e_con.png', 'item_cover': 'http://android-imgs.25pp.com/fs08/2017/04/10/8/1d0a604d7cd08519941632ceb7e239d2.jpg', 'title': '手机上也能写出排版优雅的文字'}\n",
      "成功插入一组数据{'app_title': '懒人周末', 'icon_cover': 'http://android-artworks.25pp.com/fs08/2017/11/01/11/110_f28c0fc7b587d434073131b1ae9e07cb_con.png', 'item_cover': 'http://android-imgs.25pp.com/fs08/2017/04/10/10/af37950629d34ef0aa11b2afa53b0adb.jpg', 'title': '每个周末都是惊喜'}\n",
      "成功插入一组数据{'app_title': '黄油相机', 'icon_cover': 'http://android-artworks.25pp.com/fs08/2017/11/08/3/110_4b1a7f159d28860647febb81e2135406_con.png', 'item_cover': 'http://android-imgs.25pp.com/fs08/2017/04/10/4/e13f1936598d6093775e3a39635e089b.jpg', 'title': '给照片加点料儿'}\n",
      "成功插入一组数据{'app_title': '每日故宫', 'icon_cover': 'http://android-artworks.25pp.com/fs08/2016/09/01/7/1_fe97e827bfa2f3080595aa4345dc0736_con.png', 'item_cover': 'http://android-imgs.25pp.com/fs08/2017/04/10/3/95a65d2f4cb16b030264ac90f870ff16.jpg', 'title': '365 天看尽故宫珍藏'}\n",
      "成功插入一组数据{'app_title': '最美时光', 'icon_cover': 'http://android-artworks.25pp.com/fs08/2017/05/24/2/110_1a1225c7b28397fd602f116ce311521b_con.png', 'item_cover': 'http://android-imgs.25pp.com/fs08/2017/04/10/6/0997caedafe88af612ad2d8fa3caa7a2.jpg', 'title': '记住那些重要的日子'}\n",
      "成功插入一组数据{'app_title': '纪念碑谷2', 'icon_cover': 'http://android-artworks.25pp.com/fs08/2017/11/07/3/109_0154a44b74fa826984a2139a3e06b816_con.png', 'item_cover': 'http://android-imgs.25pp.com/fs08/2017/11/16/9/a827a836448b0af55b91bc4560648643.jpg', 'title': '在几何艺术迷宫中体验亲情与成长'}\n",
      "成功插入一组数据{'app_title': '我在7年后等着你', 'icon_cover': 'http://android-artworks.25pp.com/fs08/2017/10/01/5/109_80c0477fed879afd25955c454d99c23f_con.png', 'item_cover': 'http://android-imgs.25pp.com/fs08/2017/11/10/5/8a7006e48770c06d40e58b776b8a46eb.jpg', 'title': '每个人都有自己的闪光点和辛酸往事'}\n",
      "成功插入一组数据{'app_title': '猫饼', 'icon_cover': 'http://android-artworks.25pp.com/fs08/2017/11/13/4/110_fe24ef79c72c5ef59d778ebb39837b25_con.png', 'item_cover': 'http://android-imgs.25pp.com/fs08/2017/11/01/10/986283be1614659ebbbd788d075f08b5.jpg', 'title': '用短视频讲述平凡生活的动人故事'}\n",
      "成功插入一组数据{'app_title': '壮汉海上漂流记', 'icon_cover': 'http://android-artworks.25pp.com/fs08/2017/10/26/10/109_756be18cda613b73691c76655ce57d39_con.png', 'item_cover': 'http://android-imgs.25pp.com/fs08/2017/10/26/6/df5d0af48f231e108c710a950932fc96.jpg', 'title': '在冒险中解密北欧海怪传说'}\n",
      "成功插入一组数据{'app_title': '腾讯翻译君', 'icon_cover': 'http://android-artworks.25pp.com/fs08/2017/11/13/6/110_93a677ef75dfcae9497cb93736f85270_con.png', 'item_cover': 'http://android-imgs.25pp.com/fs08/2017/10/21/1/23274f6de7b5d2a3496a01f66ee929cf.jpg', 'title': '不仅可以同声传译，还可以 20 秒制作双语海报'}\n",
      "成功插入一组数据{'app_title': '香蕉打卡', 'icon_cover': 'http://android-artworks.25pp.com/fs08/2017/11/01/10/110_75862f906e30fe2e3b9006448d421bdd_con.png', 'item_cover': 'http://android-imgs.25pp.com/fs08/2017/10/12/1/f3ced7477ccdea84f0eb5e2d90ceca9d.jpg', 'title': '除了打卡跑步，「多吃水果」这类小事也能更有仪式感'}\n",
      "成功插入一组数据{'app_title': '破碎大陆2', 'icon_cover': 'http://android-artworks.25pp.com/fs08/2017/10/11/4/109_35ab57a552a59f718bb8ecf8e30fe49b_con.png', 'item_cover': 'http://android-imgs.25pp.com/fs08/2017/04/10/6/1c77c1e65626727e0f4e38ea35c96966.jpg', 'title': '带着 1000 个生物在末日里逃生'}\n",
      "成功插入一组数据{'app_title': '一席', 'icon_cover': 'http://android-artworks.25pp.com/fs08/2017/11/02/6/110_4a0006bcf26a33d78da662b7750eea7f_con.png', 'item_cover': 'http://android-imgs.25pp.com/fs08/2017/04/10/7/2c69601c4831a12ea537bef1d0643995.jpg', 'title': '这里有 400 个值得聆听的人生故事'}\n",
      "成功插入一组数据{'app_title': '深海水族馆', 'icon_cover': 'http://android-artworks.25pp.com/fs08/2017/10/25/10/109_47fe7e9f000e3684eab4f9910f13e608_con.png', 'item_cover': 'http://android-imgs.25pp.com/fs08/2017/04/10/5/f9e9534e09c760ce62a26160265cd6d2.png', 'title': '带你潜入美丽的海洋深处'}\n",
      "成功插入一组数据{'app_title': '织梦寻空Zenge', 'icon_cover': 'http://android-artworks.25pp.com/fs08/2017/02/02/2/109_dfacc03a0bc1ab5ff668ffd9d30127e6_con.png', 'item_cover': 'http://android-imgs.25pp.com/fs08/2017/04/10/2/4a72a3395eb7746a1ec1c34810090c15.jpg', 'title': '在手机上体验华容道和七巧板'}\n",
      "成功插入一组数据{'app_title': 'Prisma相机', 'icon_cover': 'http://android-artworks.25pp.com/fs08/2016/12/22/8/115_0fbd62abdc33f4a222d67887bd1e2d32_con.png', 'item_cover': 'http://android-imgs.25pp.com/fs08/2017/04/10/5/bdb1ff239faccb2965e2deb1732f4581.jpg', 'title': '在这款应用里，你也可以成为毕加索'}\n",
      "成功插入一组数据{'app_title': '课程格子', 'icon_cover': 'http://android-artworks.25pp.com/fs08/2017/10/25/4/110_cf48558bdd49147e0d795800cfb88856_con.png', 'item_cover': 'http://android-imgs.25pp.com/fs08/2017/04/10/8/9a14a6a0b1e319ae6c1c9339624465b2.jpg', 'title': '让你的手机和你一起开学 '}\n",
      "成功插入一组数据{'app_title': '过日子', 'icon_cover': 'http://android-artworks.25pp.com/fs08/2017/09/29/3/110_2f22bcd5d8ffd0c21df033d28e289fa1_con.png', 'item_cover': 'http://android-imgs.25pp.com/fs08/2017/04/10/2/dae5bd1c3cb8fa65db629154bfc078a5.jpg', 'title': '接地气的小清新'}\n",
      "成功插入一组数据{'app_title': '百度音乐', 'icon_cover': 'http://android-artworks.25pp.com/fs08/2017/09/08/3/110_4aff7cf1a7f9be969d1e69b15b11405a_con.png', 'item_cover': 'http://android-imgs.25pp.com/fs08/2017/04/10/10/1d8ba65a02cc5f0a0399eb63ecd6e117.jpg', 'title': '一站式音乐应用 '}\n",
      "成功插入一组数据{'app_title': '正点日历', 'icon_cover': 'http://android-artworks.25pp.com/fs08/2017/03/03/1/110_e61907cb7902c06a40d439d1474b42b7_con.png', 'item_cover': 'http://android-imgs.25pp.com/fs08/2017/04/10/4/6397d96399ba8ebb203ee8f6ce32aed0.jpg', 'title': '把每日生活放到口袋里 '}\n",
      "成功插入一组数据{'app_title': 'Minu计时器', 'icon_cover': 'http://android-artworks.25pp.com/fs08/2016/06/08/6/1_4555b9b68bc2d274599416c99bf3b914_con.png', 'item_cover': 'http://android-imgs.25pp.com/fs08/2017/04/10/1/af32baf8ee7d90f61e79ac6ff31aac36.jpg', 'title': '让时间流逝变得优雅起来 '}\n",
      "成功插入一组数据{'app_title': 'iWeekly', 'icon_cover': 'http://android-artworks.25pp.com/fs08/2017/11/10/7/2_dd0c904627cc36f67da37736eaa81917_con.png', 'item_cover': 'http://android-imgs.25pp.com/fs08/2017/04/10/6/3e8bb5fcd9c0dcc57111d5142e0a87e4.jpg', 'title': '手机杂志的冲击力'}\n",
      "成功插入一组数据{'app_title': '阅读空气', 'icon_cover': 'http://android-artworks.25pp.com/fs08/2016/08/03/9/109_76a386f5805f2ec0a7380a48cbc07f73_con.png', 'item_cover': 'http://android-imgs.25pp.com/fs08/2017/04/10/0/3d0b71a55b1eff2a03fd85e1aa6db2b5.jpg', 'title': '休闲游戏改造人生'}\n",
      "成功插入一组数据{'app_title': 'VPlayer', 'icon_cover': 'http://android-artworks.25pp.com/fs08/2016/06/08/10/1_26247caf798302230626e90bea4931a2_con.png', 'item_cover': 'http://android-imgs.25pp.com/fs08/2017/04/10/1/3a7f5b9f4dfd9b84aecede31aaba61a1.jpg', 'title': '全新的影音娱乐生活'}\n",
      "成功插入一组数据{'app_title': '唱吧', 'icon_cover': 'http://android-artworks.25pp.com/fs08/2017/11/01/4/110_171b583a837a32a24d13ffb4193b31bb_con.png', 'item_cover': 'http://android-imgs.25pp.com/fs08/2017/04/10/8/1b57fade7e5f2c51700ad1c9a383ef46.jpg', 'title': '对着手机演唱一段歌曲'}\n",
      "成功插入一组数据{'app_title': '面包猎人', 'icon_cover': 'http://android-artworks.25pp.com/fs08/2017/05/23/6/110_9747021df9e85212ad479bee50c40327_con.png', 'item_cover': 'http://android-imgs.25pp.com/fs08/2017/04/10/8/3a106cfb4a9775e9bfcccfb9190076e7.jpg', 'title': '探索世界的轨迹'}\n",
      "成功插入一组数据{'app_title': '多趣旅行Pro', 'icon_cover': 'http://android-artworks.25pp.com/fs08/2016/06/07/5/1_452c36e7839655669d5e5eeeaa9035fc_con.png', 'item_cover': 'http://android-imgs.25pp.com/fs08/2017/04/10/2/22142dd46c8d1a067e8a4691e7716eba.jpg', 'title': '为手机而生的旅游手册'}\n",
      "成功插入一组数据{'app_title': 'VUE', 'icon_cover': 'http://android-artworks.25pp.com/fs08/2017/11/06/7/110_fa9f21f43703bd0fd9dcf202c1042fe5_con.png', 'item_cover': 'http://android-imgs.25pp.com/fs08/2017/04/10/8/028bbe94e8d9542c12572e6945bc796d.jpg', 'title': '6 秒钟用手机拍出一部电影大片'}\n",
      "成功插入一组数据{'app_title': '最美有物', 'icon_cover': 'http://android-artworks.25pp.com/fs08/2017/08/30/4/110_ccbfb896d2f2d81f1365833ce4ce1ab3_con.png', 'item_cover': 'http://android-imgs.25pp.com/fs08/2017/04/10/4/505cdf88149725ee6a3c1c8d366d018f.jpg', 'title': '每一件好设计都值得被欣赏'}\n",
      "成功插入一组数据{'app_title': '极速变色龙', 'icon_cover': 'http://android-artworks.25pp.com/fs08/2017/09/25/3/109_a163ad33fcb609b276babc918a3475bc_con.png', 'item_cover': 'http://android-imgs.25pp.com/fs08/2017/04/10/6/b232209c79da8cb3adb1d871ca981de6.jpg', 'title': '在这款跑酷游戏里，颜色决定你的生死'}\n",
      "成功插入一组数据{'app_title': '妙计旅行', 'icon_cover': 'http://android-artworks.25pp.com/fs08/2016/06/27/4/2_230fc2fbf0c03d1ac635a24fb2a66a1a_con.png', 'item_cover': 'http://android-imgs.25pp.com/fs08/2017/04/10/5/4c553b28c0f7f3ac93b5eb215ffd3dce.jpg', 'title': '30 天的欧洲之旅，3 分钟做好攻略'}\n",
      "成功插入一组数据{'app_title': '为你读诗', 'icon_cover': 'http://android-artworks.25pp.com/fs08/2017/11/17/8/110_78fc2a98afdc275a664a1006091a0b99_con.png', 'item_cover': 'http://android-imgs.25pp.com/fs08/2017/04/10/9/bd8b6e2a9eb8c047954e87c00b78f9db.jpg', 'title': '与 200 万人一起在这里聆听诗歌'}\n",
      "成功插入一组数据{'app_title': 'iA文字编辑', 'icon_cover': 'http://android-artworks.25pp.com/fs08/2017/10/31/5/2_e06cf9ea08b934bee3e7393e96f41004_con.png', 'item_cover': 'http://android-imgs.25pp.com/fs08/2017/04/10/6/d6416c1804606a5f61252fe7ef9714bd.jpg', 'title': '这款应用让你的手机成为写作利器'}\n",
      "成功插入一组数据{'app_title': 'Ovo timer 倒计时器', 'icon_cover': 'http://android-artworks.25pp.com/fs08/2016/06/07/2/1_d11957204714bc9cf8d401f89dd51b9a_con.png', 'item_cover': 'http://android-imgs.25pp.com/fs08/2017/04/10/4/1c799e0d92ce8b3826bcd4f4d21c2553.jpg', 'title': '拧发条计时器的趣味'}\n",
      "成功插入一组数据{'app_title': '豆瓣电影', 'icon_cover': 'http://android-artworks.25pp.com/fs08/2017/11/01/4/110_d4b2b6731a05d7c68a90c39a64132ca4_con.png', 'item_cover': 'http://android-imgs.25pp.com/fs08/2017/04/10/10/3d4650f955cd574f48a393339bb9a142.jpg', 'title': '筹划你的爆米花时间'}\n",
      "成功插入一组数据{'app_title': '爱范儿', 'icon_cover': 'http://android-artworks.25pp.com/fs08/2017/11/09/9/2_937d15ae962493af691d05c10cef314b_con.png', 'item_cover': 'http://android-imgs.25pp.com/fs08/2017/04/10/11/f2f820de37868efdd87bb407a8eed281.jpg', 'title': '科技资讯收入掌中'}\n",
      "成功插入一组数据{'app_title': '快现', 'icon_cover': 'http://android-artworks.25pp.com/fs08/2016/06/07/7/1_e0fe4759d289170212e31dc3f4210fb7_con.png', 'item_cover': 'http://android-imgs.25pp.com/fs08/2017/04/10/10/3b75ee23c23bdde1e6f2a46117b8a049.jpg', 'title': '三分钟手绘界面'}\n",
      "成功插入一组数据{'app_title': '咪咕灵犀', 'icon_cover': 'http://android-artworks.25pp.com/fs08/2017/11/01/6/110_68d024cdf13d3a3384e9233faa511f01_con.png', 'item_cover': 'http://android-imgs.25pp.com/fs08/2017/04/10/8/03f6d6a3dd316a5a478bfa4cf7a27ef1.jpg', 'title': '语音一点通'}\n",
      "成功插入一组数据{'app_title': '穷游', 'icon_cover': 'http://android-artworks.25pp.com/fs08/2017/11/14/9/110_c7e7d468390fc4d8eecab4334f491d11_con.png', 'item_cover': 'http://android-imgs.25pp.com/fs08/2017/04/10/1/5695cd030d0b10354fb8c6e17eca2be8.jpg', 'title': '一大拨旅行攻略来袭'}\n",
      "成功插入一组数据{'app_title': '彩云天气', 'icon_cover': 'http://android-artworks.25pp.com/fs08/2017/08/28/5/110_794c9bef3ec96e506aa26255c6e31db8_con.png', 'item_cover': 'http://android-imgs.25pp.com/fs08/2017/04/21/1/f445bfb1a774bb949a353c4f4c9857a5.jpg', 'title': '告诉你所在的街道，几分几秒会下雨'}\n",
      "成功插入一组数据{'app_title': 'WALKUP', 'icon_cover': 'http://android-artworks.25pp.com/fs08/2017/09/04/5/110_63e41e3d62a03737fbc62dc48d8743c9_con.png', 'item_cover': 'http://android-imgs.25pp.com/fs08/2017/04/14/3/d9e705ecf198381d8f54a08c608a971e.jpg', 'title': '边走边玩的环游世界之旅'}\n",
      "成功插入一组数据{'app_title': '夸克浏览器', 'icon_cover': 'http://android-artworks.25pp.com/fs08/2017/11/01/9/110_b5ceb373b062b7c802c4ce631062df76_con.png', 'item_cover': 'http://android-imgs.25pp.com/fs08/2017/04/10/10/1f5aeb4c4bac0cff80dd8a215fb26910.jpg', 'title': '不浪费一分一秒，去浏览「纯粹」的美好'}\n",
      "成功插入一组数据{'app_title': '食物库', 'icon_cover': 'http://android-artworks.25pp.com/fs08/2017/06/30/3/110_635d1b03011d3a3111429eec37b3b101_con.png', 'item_cover': 'http://android-imgs.25pp.com/fs08/2017/04/10/8/3217fddfdaa18c001ed387917d91201b.jpg', 'title': '为 30 万种食物打上热量标签'}\n",
      "成功插入一组数据{'app_title': '印象', 'icon_cover': 'http://android-artworks.25pp.com/fs08/2017/09/18/7/110_0185ef65f0c8b7d07d2ee388ad801ca8_con.png', 'item_cover': 'http://android-imgs.25pp.com/fs08/2017/04/10/8/14921ee56c3269c669cfbc23cae7e02c.jpg', 'title': '不只是滤镜工具，它想教你用构图拍出完美作品'}\n",
      "成功插入一组数据{'app_title': '荔枝FM', 'icon_cover': 'http://android-artworks.25pp.com/fs08/2017/11/17/0/110_dbd9dd3d168bd9890f82061b513fb6f3_con.png', 'item_cover': 'http://android-imgs.25pp.com/fs08/2017/04/10/5/e22fe4745aac7bec9edb22e167ba399e.jpg', 'title': '大众播客，随时收听'}\n",
      "成功插入一组数据{'app_title': 'Tidy相册-图库整理', 'icon_cover': 'http://android-artworks.25pp.com/fs08/2016/06/07/11/1_8abbf7171ca1f00dba7b5fe69ae3c360_con.png', 'item_cover': 'http://android-imgs.25pp.com/fs08/2017/04/10/5/f6e30f86b138d8a72bfad3c2fed5b03c.jpg', 'title': '美好回忆，轻松收藏'}\n",
      "成功插入一组数据{'app_title': 'Flappy Bird', 'icon_cover': 'http://android-artworks.25pp.com/fs08/2017/07/10/2/109_5b7dcd484c0e871884581c1ae885d2e8_con.png', 'item_cover': 'http://android-imgs.25pp.com/fs08/2017/04/10/6/a56b4878b2acb6c953cfac78b956a218.jpg', 'title': '潮起潮落无厘头'}\n",
      "成功插入一组数据{'app_title': '拇指阅读', 'icon_cover': 'http://android-artworks.25pp.com/fs08/2016/06/07/2/1_1f6bf11f904b39621dceb0df073ffa19_con.png', 'item_cover': 'http://android-imgs.25pp.com/fs08/2017/04/10/2/9cc60d0944faa6e57b4bacdc0558c5d2.jpg', 'title': '社会化图书推荐引擎'}\n",
      "成功插入一组数据{'app_title': '轻邮', 'icon_cover': 'http://android-artworks.25pp.com/fs08/2016/06/09/1/1_e5ae2e6bfd11e13626c0b24cfd16a764_con.png', 'item_cover': 'http://android-imgs.25pp.com/fs08/2017/04/10/0/cbbce214f05e48a6923e44b4c823caae.jpg', 'title': '解除邮件之重'}\n",
      "成功插入一组数据{'app_title': '奇妙清单-任务管理', 'icon_cover': 'http://android-artworks.25pp.com/fs08/2016/12/21/11/115_1829c1d1e763086f67770847173b6cda_con.png', 'item_cover': 'http://android-imgs.25pp.com/fs08/2017/04/10/8/ad3c5f6fbb17c61fb0b0f91dfa630f5d.jpg', 'title': 'To-do 红海中的赢家'}\n",
      "成功插入一组数据{'app_title': 'Anyview阅读器', 'icon_cover': 'http://android-artworks.25pp.com/fs08/2017/01/06/8/106_cd462dfcb30dc3336cdfd0e5ad13fcf4_con.png', 'item_cover': 'http://android-imgs.25pp.com/fs08/2017/04/10/0/6347f7d3a120304a2014ce9dab4221fb.jpg', 'title': '老牌阅读器的 Android 新征程 '}\n",
      "成功插入一组数据{'app_title': '小米桌面（主题壁纸锁屏）', 'icon_cover': 'http://android-artworks.25pp.com/fs08/2016/06/07/4/1_e68da416952088725a9bc14673241cfe_con.png', 'item_cover': 'http://android-imgs.25pp.com/fs08/2017/04/10/0/028ee2d7610d120746f7315f5589ec76.jpg', 'title': '让安卓手机变得更好用'}\n",
      "成功插入一组数据{'app_title': '优衣库闹钟 UNIQLO WAKE UP', 'icon_cover': 'http://android-artworks.25pp.com/fs08/2017/02/10/8/102_cc5dca5702c7a6c424d2413ac485b0e5_con.png', 'item_cover': 'http://android-imgs.25pp.com/fs08/2017/04/10/8/3157ae33875e63b752db45df05f01e3b.jpg', 'title': '推荐蕴含其中的生活态度和品质'}\n",
      "成功插入一组数据{'app_title': '豆瓣音乐人', 'icon_cover': 'http://android-artworks.25pp.com/fs08/2016/06/08/7/1_c24b91fa803c448e55f4e8084ce629aa_con.png', 'item_cover': 'http://android-imgs.25pp.com/fs08/2017/04/10/6/0503d4f9073fe25949e3ed6e2a7573a4.jpg', 'title': '音乐是一种生活方式'}\n",
      "成功插入一组数据{'app_title': '慢慢看o原蜗牛o', 'icon_cover': 'http://android-artworks.25pp.com/fs08/2016/06/06/8/1_e556332bad73b18698378a5df4cb3c93_con.png', 'item_cover': 'http://android-imgs.25pp.com/fs08/2017/04/10/3/1132d582765be8aa8318d1319d35371d.jpg', 'title': '让看电视变的更有趣'}\n",
      "成功插入一组数据{'app_title': 'Flipboard红板报', 'icon_cover': 'http://android-artworks.25pp.com/fs08/2017/11/08/4/110_be2504c00ab453ab48ad0d45aeb491ce_con.png', 'item_cover': 'http://android-imgs.25pp.com/fs08/2017/04/10/7/ac2672ca5f945e9ec03c4fa644e415d5.jpg', 'title': '着迷于你所看到的一切'}\n",
      "成功插入一组数据{'app_title': 'LINE Brush·连我画笔', 'icon_cover': 'http://android-artworks.25pp.com/fs08/2016/06/07/8/1_e4f386e73e5a57a4dc2b3cb50b84df33_con.png', 'item_cover': 'http://android-imgs.25pp.com/fs08/2017/04/10/6/ab2ffc8138661ada9f9b660b9bd35fc4.jpg', 'title': '见字如晤'}\n",
      "成功插入一组数据{'app_title': '7x7消除', 'icon_cover': 'http://android-artworks.25pp.com/fs08/2016/08/18/8/109_448dd24e302b895ee7be41108cabae5d_con.png', 'item_cover': 'http://android-imgs.25pp.com/fs08/2017/04/10/1/d15a455392e8c6befd0cdc9d9c2469b3.jpg', 'title': '一局消除游戏很大的棋'}\n",
      "成功插入一组数据{'app_title': '谷歌浏览器Google Chrome', 'icon_cover': 'http://android-artworks.25pp.com/fs08/2017/04/19/10/2_f2b4f58de26356d626addf4b83e3a38d_con.png', 'item_cover': 'http://android-imgs.25pp.com/fs08/2017/04/10/5/146b1ed2d9108bf05b4241fe7289d2c4.jpg', 'title': '一款浏览器该有的样子'}\n",
      "成功插入一组数据{'app_title': 'cameran 蜷川实花相机', 'icon_cover': 'http://android-artworks.25pp.com/fs08/2016/06/07/11/1_4ff4bc96253ecadf1b793e03223c38f9_con.png', 'item_cover': 'http://android-imgs.25pp.com/fs08/2017/04/10/11/f9d529b07e46a703ec961a552ca2acf8.jpg', 'title': '一秒钟变身风格摄影家'}\n",
      "成功插入一组数据{'app_title': '音乐雷达', 'icon_cover': 'http://android-artworks.25pp.com/fs08/2016/12/22/3/115_4fe189ab1aa2e503037e15589545a779_con.png', 'item_cover': 'http://android-imgs.25pp.com/fs08/2017/04/10/0/cfee44c6e7ed76cb86b0a80da6efb94a.jpg', 'title': '会听歌辨曲的音乐电台'}\n",
      "成功插入一组数据{'app_title': '商业周刊中文版', 'icon_cover': 'http://android-artworks.25pp.com/fs08/2017/10/26/2/110_5faf1653a5a19b1e45d932b37c078727_con.png', 'item_cover': 'http://android-imgs.25pp.com/fs08/2017/04/10/0/adc203a745676519483009c49f23cf3b.jpg', 'title': '手机阅读探索者'}\n",
      "成功插入一组数据{'app_title': '滴滴出行', 'icon_cover': 'http://android-artworks.25pp.com/fs08/2017/11/17/5/110_41344bd49a4903fb954d256376e2bdc8_con.png', 'item_cover': 'http://android-imgs.25pp.com/fs08/2017/04/10/7/560a17a6229e5bdc6145e94510802682.jpg', 'title': '城市出租服务台'}\n",
      "成功插入一组数据{'app_title': '英语流利说', 'icon_cover': 'http://android-artworks.25pp.com/fs08/2017/11/09/1/110_69eac7efac86ee661a1d5235dd3eb511_con.png', 'item_cover': 'http://android-imgs.25pp.com/fs08/2017/04/10/8/6d0f59e548711ad53d7953ef08640c63.jpg', 'title': '哑巴英语 Goodbye'}\n",
      "成功插入一组数据{'app_title': '颜色赛跑 Color Run', 'icon_cover': 'http://android-artworks.25pp.com/fs08/2016/06/08/4/1_456e1d6f82e91bb3ccf2bd303856c956_con.png', 'item_cover': 'http://android-imgs.25pp.com/fs08/2017/04/10/2/d9e27e8ad22a088de53f9ecee204b504.jpg', 'title': '变色龙版街舞跑酷'}\n",
      "成功插入一组数据{'app_title': 'Next桌面', 'icon_cover': 'http://android-artworks.25pp.com/fs08/2016/06/07/5/1_88dec9f30f891a995a15b1dbe1e459d5_con.png', 'item_cover': 'http://android-imgs.25pp.com/fs08/2017/04/10/7/8f3f4864cec0c104962628d12d50f977.jpg', 'title': 'Next 桌面 炫目定制'}\n",
      "成功插入一组数据{'app_title': '旅行箱', 'icon_cover': 'http://android-artworks.25pp.com/fs08/2017/06/21/6/110_0f1dd5d98706386b968eb114f7ebf487_con.png', 'item_cover': 'http://android-imgs.25pp.com/fs08/2017/04/10/8/a88b02b2351d1a112beb1fce7e784be7.jpg', 'title': '陪你走世界的旅行箱'}\n",
      "成功插入一组数据{'app_title': 'Buzz桌面', 'icon_cover': 'http://android-artworks.25pp.com/fs08/2016/12/30/0/115_38b95df84411a2273406424ea638ecff_con.png', 'item_cover': 'http://android-imgs.25pp.com/fs08/2017/04/10/6/d3330a997f0b2059536fe302c2e5ae33.jpg', 'title': '突破想象力的桌面'}\n",
      "成功插入一组数据{'app_title': '蝉游记', 'icon_cover': 'http://android-artworks.25pp.com/fs08/2016/06/07/4/1_c3a693f4b566979c739e8258e04b333d_con.png', 'item_cover': 'http://android-imgs.25pp.com/fs08/2017/04/10/9/9a1c29423e409e3d0d30115c1ef14343.jpg', 'title': '发现旅行之美'}\n",
      "成功插入一组数据{'app_title': '跳舞的线', 'icon_cover': 'http://android-artworks.25pp.com/fs08/2017/09/29/9/109_80b05bafa13ff4603a1b86006f603113_con.png', 'item_cover': 'http://android-imgs.25pp.com/fs08/2017/09/30/4/22e43ed8936d081de54b064d65506832.jpg', 'title': '音乐和画面美如画，玩法简单却难到虐心'}\n",
      "成功插入一组数据{'app_title': '游谱旅行', 'icon_cover': 'http://android-artworks.25pp.com/fs08/2017/09/06/9/110_ff300135cf2c2af0a03890b6b0a195ef_con.png', 'item_cover': 'http://android-imgs.25pp.com/fs08/2017/09/29/6/2212fd621e656bc4b0256ed65d5495b7.jpg', 'title': '一对一私人定制旅途，在陌生的城市过当地人的生活'}\n",
      "成功插入一组数据{'app_title': '萝卜书摘', 'icon_cover': 'http://android-artworks.25pp.com/fs08/2017/10/26/2/110_4d2e2b1d316da2c13ba7fad4f84791cb_con.png', 'item_cover': 'http://android-imgs.25pp.com/fs08/2017/09/21/2/00dabcb8f674679cbd36aaf882f977f5.jpg', 'title': '5 秒生成精美书摘，让你的朋友圈更有质感'}\n",
      "成功插入一组数据{'app_title': '超级幻影猫2', 'icon_cover': 'http://android-artworks.25pp.com/fs08/2017/09/13/4/109_06f03856dda248907c6a265ba9322b3c_con.png', 'item_cover': 'http://android-imgs.25pp.com/fs08/2017/09/15/1/e099cd9e6e4a1052f3fc166ae6ece605.jpg', 'title': 'App Store 十佳续作致敬马里奥，这只方脸猫再次冒险'}\n",
      "成功插入一组数据{'app_title': '圈子账本记账', 'icon_cover': 'http://android-artworks.25pp.com/fs08/2017/11/13/9/110_cbc2aaa39496da05e2ecbfdd1db653f0_con.png', 'item_cover': 'http://android-imgs.25pp.com/fs08/2017/09/06/6/e352c119135a4592a798e13af55c28b0.jpg', 'title': ' 多人协作 AA 记账，欢乐聚会支出明了'}\n",
      "成功插入一组数据{'app_title': '墨墨背单词', 'icon_cover': 'http://android-artworks.25pp.com/fs08/2017/11/14/1/110_5016dbb3409c7f37814e4a53b95b76ba_con.png', 'item_cover': 'http://android-imgs.25pp.com/fs08/2017/08/31/6/c3837798b21bb811bd281943478505ac.jpg', 'title': '用大数据对抗记忆曲线，背过的单词都牢记'}\n",
      "成功插入一组数据{'app_title': '怪兽合唱团', 'icon_cover': 'http://android-artworks.25pp.com/fs08/2017/03/14/2/102_43cc92a63e9dc8fb26568b2bcccb844e_con.png', 'item_cover': 'http://android-imgs.25pp.com/fs08/2017/04/10/9/cc6ca724800556ac9229c0c132e7b681.jpg', 'title': '你是我生命里的一首歌'}\n",
      "成功插入一组数据{'app_title': 'Cooliris', 'icon_cover': 'http://android-artworks.25pp.com/fs08/2016/06/09/8/1_49b5a3a0752f63692fe1566767952ab3_con.png', 'item_cover': 'http://android-imgs.25pp.com/fs08/2017/04/10/9/78cab107beade76381ddc91b097e718b.jpg', 'title': '一手掌管所有的照片'}\n",
      "成功插入一组数据{'app_title': '违章查询助手', 'icon_cover': 'http://android-artworks.25pp.com/fs08/2017/11/03/2/110_f9b3951cce20076cadd878cdc8d773c9_con.png', 'item_cover': 'http://android-imgs.25pp.com/fs08/2017/04/10/9/57e9592176507baa6341a1414bfda5ce.jpg', 'title': '方便你的行车生活'}\n",
      "成功插入一组数据{'app_title': '种子习惯', 'icon_cover': 'http://android-artworks.25pp.com/fs08/2017/03/06/2/110_93b12e6ecbf58b9ced8d5584f33ecb1f_con.png', 'item_cover': 'http://android-imgs.25pp.com/fs08/2017/04/10/4/3e74319f986ca71db0515a62f57cec81.jpg', 'title': '专注个人的提升'}\n",
      "成功插入一组数据{'app_title': '网易云音乐', 'icon_cover': 'http://android-artworks.25pp.com/fs08/2017/11/06/1/110_7e2f544c75f402b4ae3411f480266fa3_con.png', 'item_cover': 'http://android-imgs.25pp.com/fs08/2017/04/10/10/2a93a4eda5c89cad582434caf603f673.jpg', 'title': '音乐有态度'}\n",
      "成功插入一组数据{'app_title': 'same', 'icon_cover': 'http://android-artworks.25pp.com/fs08/2017/08/07/9/110_9fa0ddc717a10487f4af206825a5073e_con.png', 'item_cover': 'http://android-imgs.25pp.com/fs08/2017/04/10/10/14e8e6bc73ffa16d2cff9c2a39de9e1d.jpg', 'title': '这儿有你的同类'}\n",
      "成功插入一组数据{'app_title': '不背单词', 'icon_cover': 'http://android-artworks.25pp.com/fs08/2017/11/06/6/110_b8f1f7e48ae32df807f697e093153a5e_con.png', 'item_cover': 'http://android-imgs.25pp.com/fs08/2017/04/10/2/d00e13ce802113cb62f16cbff554a38d.jpg', 'title': '真实语境学单词'}\n",
      "成功插入一组数据{'app_title': '秒视', 'icon_cover': 'http://android-artworks.25pp.com/fs08/2016/08/17/1/2_8285e99b60b9fa44d8a61709a14747f7_con.png', 'item_cover': 'http://android-imgs.25pp.com/fs08/2017/04/10/9/9f9bf97706129fcdb4dd6caec5895f87.jpg', 'title': '亲密世界一秒见'}\n",
      "成功插入一组数据{'app_title': 'Forest', 'icon_cover': 'http://android-artworks.25pp.com/fs08/2016/12/14/11/102_f2817f8a2b4922327db595828dec5026_con.png', 'item_cover': 'http://android-imgs.25pp.com/fs08/2017/04/10/8/e6f7e50ea0270582b5f9b62dbce24d9b.jpg', 'title': '用专注收获一片森林'}\n",
      "成功插入一组数据{'app_title': '追光者2', 'icon_cover': 'http://android-artworks.25pp.com/fs08/2017/06/13/5/109_62bfb515140faa8c75f48433d31821c9_con.png', 'item_cover': 'http://android-imgs.25pp.com/fs08/2017/06/01/5/fceeb8d0756af1ac5ca24cee6f12b446.jpg', 'title': '唯美冒险解谜游戏，一起追逐光明的力量'}\n",
      "成功插入一组数据{'app_title': '网易蜗牛读书', 'icon_cover': 'http://android-artworks.25pp.com/fs08/2017/11/03/11/110_3f3f6abd2e05ea111f28df380fdbc936_con.png', 'item_cover': 'http://android-imgs.25pp.com/fs08/2017/05/25/8/9af9f95dec488d8af530080dcea844fc.jpg', 'title': ' 每天免费 1 小时，用更低成本看更多好书'}\n",
      "成功插入一组数据{'app_title': 'Mori手帐', 'icon_cover': 'http://android-artworks.25pp.com/fs08/2017/11/17/3/2_f807a34c25564369ddac61d67b09b784_con.png', 'item_cover': 'http://android-imgs.25pp.com/fs08/2017/05/19/11/dbdb9b6722c646671d5ec8f249ac423b.jpg', 'title': '3 秒钟做出漂亮手账，平淡日子里的美好仪式'}\n",
      "成功插入一组数据{'app_title': '缪斯计划', 'icon_cover': 'http://android-artworks.25pp.com/fs08/2017/09/06/7/109_597af6168d91b6e6df35238cf405811a_con.png', 'item_cover': 'http://android-imgs.25pp.com/fs08/2017/05/19/10/632c2d196459a42efa1f62332b8ee993.jpg', 'title': '像弹钢琴一般，享受指尖的轻盈反馈'}\n",
      "成功插入一组数据{'app_title': '字里行间', 'icon_cover': 'http://android-artworks.25pp.com/fs08/2017/10/09/8/110_f4687b91d9eed686242ce7f7d8c1339f_con.png', 'item_cover': 'http://android-imgs.25pp.com/fs08/2017/05/19/5/f2e466cfb99d4ff54424a90891493211.jpg', 'title': '在字里行间，发现创作的乐趣'}\n",
      "成功插入一组数据{'app_title': '僵尸榨汁机', 'icon_cover': 'http://android-artworks.25pp.com/fs08/2017/05/27/4/109_fdc48f9111c51f8fe1e4064be5b0206a_con.png', 'item_cover': 'http://android-imgs.25pp.com/fs08/2017/05/19/11/4c9918ffec956f22908f4f639f457553.jpg', 'title': '捕获 20 多种僵尸，做成果汁和沙冰'}\n",
      "成功插入一组数据{'app_title': '机械迷城', 'icon_cover': 'http://android-artworks.25pp.com/fs08/2017/03/13/3/102_44f6ec84f95cccb31f6635d47c0df4f6_con.png', 'item_cover': 'http://android-imgs.25pp.com/fs08/2017/04/10/10/4ea654e116f53de13bfd52bc01567ad1.jpg', 'title': '这款游戏的所有背景，都是设计师用左手画的'}\n",
      "成功插入一组数据{'app_title': '开眼 Eyepetizer', 'icon_cover': 'http://android-artworks.25pp.com/fs08/2017/11/17/9/110_1137996b80d13a63510f128aa040bb6d_con.png', 'item_cover': 'http://android-imgs.25pp.com/fs08/2017/04/10/0/0f8c8f43cc5a656e7778c3a6dfb6093f.jpg', 'title': '从广告到奥斯卡获奖动画 ，每天让你大开眼界'}\n",
      "成功插入一组数据{'app_title': '微软延时摄影 Hyperlapse', 'icon_cover': 'http://android-artworks.25pp.com/fs08/2016/06/07/7/1_5f02500176ab17159c310cf9882b6991_con.png', 'item_cover': 'http://android-imgs.25pp.com/fs08/2017/04/10/3/ce5725933b1ec25c9124508d2d4a72e2.jpg', 'title': '十秒钟看一次完整日出'}\n",
      "成功插入一组数据{'app_title': 'IDEAT理想家', 'icon_cover': 'http://android-artworks.25pp.com/fs08/2016/06/08/2/1_32e63b7032ee9a058bf509bd54bdcf99_con.png', 'item_cover': 'http://android-imgs.25pp.com/fs08/2017/04/10/4/b6884a5101631bd1aec9b2406228c8be.jpg', 'title': '从建筑到时装 它集合了所有有趣的新事物'}\n",
      "成功插入一组数据{'app_title': '玩途自由行', 'icon_cover': 'http://android-artworks.25pp.com/fs08/2016/06/07/8/1_bcef6aba93977b3a1fb9f5f84e3971ef_con.png', 'item_cover': 'http://android-imgs.25pp.com/fs08/2017/04/10/11/de541e397b145a1edf9703421a1fad78.jpg', 'title': '十分钟，搞定你的旅游行程'}\n",
      "成功插入一组数据{'app_title': '电子乐Beatport', 'icon_cover': 'http://android-artworks.25pp.com/fs08/2016/06/07/9/1_852202f3c825c1b6771fd18f3e882253_con.png', 'item_cover': 'http://android-imgs.25pp.com/fs08/2017/04/10/8/f9e777c538a11d8ea4eeb46bed6633c5.jpg', 'title': '除了流行乐，你还可以听点不一样的'}\n",
      "成功插入一组数据{'app_title': '哔哩哔哩', 'icon_cover': 'http://android-artworks.25pp.com/fs08/2017/11/03/11/110_88c538ef16a0722afe3c4983ef2954b9_con.png', 'item_cover': 'http://android-imgs.25pp.com/fs08/2017/04/10/9/3859e1dd51755a8d8f2f8d780202ff01.jpg', 'title': '关于哔哩哔哩，你不知道的三件事'}\n",
      "成功插入一组数据{'app_title': '厨房故事', 'icon_cover': 'http://android-artworks.25pp.com/fs08/2017/10/27/7/2_ceb53c9095c69a6f8fc7d11a5e354cdf_con.png', 'item_cover': 'http://android-imgs.25pp.com/fs08/2017/04/10/10/ad6e6491b944243a587adbd99330cbca.jpg', 'title': '不做饭，这些漂亮的食物也值得看'}\n",
      "成功插入一组数据{'app_title': 'Medium', 'icon_cover': 'http://android-artworks.25pp.com/fs08/2017/11/18/0/2_ebee11ac825073a301f0a212aaa152ae_con.png', 'item_cover': 'http://android-imgs.25pp.com/fs08/2017/04/10/3/ebd14bef5657600343efe7d7ee34b9cf.jpg', 'title': '在手机上，重现看杂志的优雅体验'}\n",
      "成功插入一组数据{'app_title': 'Layout 组合照片', 'icon_cover': 'http://android-artworks.25pp.com/fs08/2016/10/24/11/102_86ac5ee15767f0afe22dbbbaab8b4896_con.png', 'item_cover': 'http://android-imgs.25pp.com/fs08/2017/04/10/7/c001c83f9b61e0f3d1fbb68bfa482d56.jpg', 'title': '来自 Instagram 的最简单的拼图应用'}\n",
      "成功插入一组数据{'app_title': '轻芒阅读', 'icon_cover': 'http://android-artworks.25pp.com/fs08/2017/03/03/10/110_dfd9fe625141e7d1411dfcf588b7e336_con.png', 'item_cover': 'http://android-imgs.25pp.com/fs08/2017/04/10/10/a033bbca2936479ec578b46e7bd7a567.jpg', 'title': '一分钟刷完所有应用的头条'}\n",
      "成功插入一组数据{'app_title': 'Nova桌面', 'icon_cover': 'http://android-artworks.25pp.com/fs08/2016/06/09/0/1_ae6e6a07ddd97c1076bb57733d838ed0_con.png', 'item_cover': 'http://android-imgs.25pp.com/fs08/2017/04/10/6/80f338372813f7c796adc08133e7e068.jpg', 'title': '一键开启 Android 原生桌面'}\n",
      "成功插入一组数据{'app_title': '方片收集', 'icon_cover': 'http://android-artworks.25pp.com/fs08/2017/08/21/8/106_661f3c69d0b5c0603ca36204e0103d1c_con.png', 'item_cover': 'http://android-imgs.25pp.com/fs08/2017/04/10/3/6277ad85dcdc03fd8a590a014cead7ee.jpg', 'title': '你离灵感，只差 0.13 秒'}\n",
      "成功插入一组数据{'app_title': '∞ 再环', 'icon_cover': 'http://android-artworks.25pp.com/fs08/2017/11/06/3/109_f45956a9d5339a3b200ccea49c0d1b17_con.png', 'item_cover': 'http://android-imgs.25pp.com/fs08/2017/04/10/10/423bb1ed8eebfdf0a3a5585a399d3c36.jpg', 'title': '这款无限关卡的游戏，通关画面都能设成壁纸'}\n",
      "成功插入一组数据{'app_title': 'SKRWT', 'icon_cover': 'http://android-artworks.25pp.com/fs08/2016/09/03/4/102_00359b7e948469d8e4685aebf8ac3f40_con.png', 'item_cover': 'http://android-imgs.25pp.com/fs08/2017/04/10/5/d07dcfe2ec9244e1c02eaad851e2dfc3.jpg', 'title': '用这款修图软件还原真实世界'}\n",
      "成功插入一组数据{'app_title': '点亮灯塔', 'icon_cover': 'http://android-artworks.25pp.com/fs08/2017/11/01/5/115_b2f58b67ae53ef35cc15519f37603a3f_con.png', 'item_cover': 'http://android-imgs.25pp.com/fs08/2017/07/14/11/7076f66d2a786147a7deefb0f26480e5.jpg', 'title': '像个物理学家一样思考光的轨迹'}\n",
      "成功插入一组数据{'app_title': 'Retrica(复古相机)', 'icon_cover': 'http://android-artworks.25pp.com/fs08/2016/12/15/0/115_cf24123d6f5332a8a63cb6c303230ec1_con.png', 'item_cover': 'http://android-imgs.25pp.com/fs08/2017/04/10/8/2ae0f997ed9b5ec2532dc5a0f1565920.jpg', 'title': '100+ 款滤镜拍出最美复古风'}\n",
      "成功插入一组数据{'app_title': '好好住', 'icon_cover': 'http://android-artworks.25pp.com/fs08/2017/11/16/7/110_7aaf73d1cc3e21adeff4a5c6043d07e8_con.png', 'item_cover': 'http://android-imgs.25pp.com/fs08/2017/04/10/11/2578d472a984d7d7db946be4b7ca4eb7.jpg', 'title': '让你居住的地方成为艺术品'}\n",
      "成功插入一组数据{'app_title': '崩坏3', 'icon_cover': 'http://android-artworks.25pp.com/fs08/2017/08/24/5/102_8c50c198a9b4db876198b26559b323f9_con.png', 'item_cover': 'http://android-imgs.25pp.com/fs08/2017/04/10/8/4569aa349defc4548baad3dd11e7b1b6.jpg', 'title': '操作 12 种角色形态为世界而战'}\n",
      "成功插入一组数据{'app_title': '疯狂动物园', 'icon_cover': 'http://android-artworks.25pp.com/fs08/2017/09/15/6/102_b462083e91232f3ab33c795132cf0788_con.png', 'item_cover': 'http://android-imgs.25pp.com/fs08/2017/04/10/1/b48d2f6b6d5ed9b2d4d5ead73978f246.jpg', 'title': '和 100 种动物一起狂奔'}\n",
      "成功插入一组数据{'app_title': '查尔斯', 'icon_cover': 'http://android-artworks.25pp.com/fs08/2017/09/22/5/109_ddd2664a17befe3f8375402e8c4a7f61_con.png', 'item_cover': 'http://android-imgs.25pp.com/fs08/2017/04/10/11/8d0c6f14e6646efda5073202ff51ca00.jpg', 'title': '可以带你穿越彩虹弹雨'}\n",
      "成功插入一组数据{'app_title': '日日煮', 'icon_cover': 'http://android-artworks.25pp.com/fs08/2017/11/17/9/110_628fb002d0042a74956a631cad8b812d_con.png', 'item_cover': 'http://android-imgs.25pp.com/fs08/2017/04/10/0/23faef769d9ad1eb34c4bfe5ba0f7575.jpg', 'title': '3 分钟学会一道顶级料理'}\n",
      "成功插入一组数据{'app_title': '食色', 'icon_cover': 'http://android-artworks.25pp.com/fs08/2016/06/08/0/1_479cb9386d533cc9fe070ec77ce17164_con.png', 'item_cover': 'http://android-imgs.25pp.com/fs08/2017/04/10/1/c19c6d6b973fffca3a1b923a8e268f56.jpg', 'title': '分享味蕾的快乐'}\n",
      "成功插入一组数据{'app_title': '四方Foursquare', 'icon_cover': 'http://android-artworks.25pp.com/fs08/2017/11/16/0/2_8b73ee048a9012ea3c1909cff01a3959_con.png', 'item_cover': 'http://android-imgs.25pp.com/fs08/2017/04/10/5/df09c279743ad89e4619c912302f9119.jpg', 'title': '签到开拓者的新历险'}\n",
      "成功插入一组数据{'app_title': '多邻国', 'icon_cover': 'http://android-artworks.25pp.com/fs08/2016/06/08/1/1_595d7bccbaa7717c728cdd80a185b645_con.png', 'item_cover': 'http://android-imgs.25pp.com/fs08/2017/04/10/8/9c6041622915ff872626adf45ef81c5e.jpg', 'title': '快乐外语每一天'}\n",
      "成功插入一组数据{'app_title': '愤怒的小鸟英雄传', 'icon_cover': 'http://android-artworks.25pp.com/fs08/2017/08/24/9/109_c149bb209d6a367fd8c2ee357f5dc7d2_con.png', 'item_cover': 'http://android-imgs.25pp.com/fs08/2017/04/10/2/5d65ec7f270534ba31c5f86fbb587789.jpg', 'title': '愤怒小鸟的史诗大战'}\n",
      "成功插入一组数据{'app_title': '简单笔记Simplenote', 'icon_cover': 'http://android-artworks.25pp.com/fs08/2017/04/26/10/115_1c3a853aa264e4998718a4d2936b53c0_con.png', 'item_cover': 'http://android-imgs.25pp.com/fs08/2017/04/10/0/f053a3fd8453c6831e698f866b8a0e29.jpg', 'title': '追求简洁之美'}\n",
      "成功插入一组数据{'app_title': 'Toshl 理财', 'icon_cover': 'http://android-artworks.25pp.com/fs08/2017/02/10/3/102_0263ea48cf3f5aa9023bee0768b88d62_con.png', 'item_cover': 'http://android-imgs.25pp.com/fs08/2017/04/10/6/ecacc59098e3bd500937a03dfac808d9.jpg', 'title': '钱包精灵'}\n",
      "成功插入一组数据{'app_title': 'Jing智能电台', 'icon_cover': 'http://android-artworks.25pp.com/fs08/2016/06/09/9/1_b193c4608954020a5791125c319c7986_con.png', 'item_cover': 'http://android-imgs.25pp.com/fs08/2017/04/10/6/38eded57b8b76a14d04fd7aac2e1d38d.jpg', 'title': '随身音乐 随心点播'}\n",
      "成功插入一组数据{'app_title': '有道词典', 'icon_cover': 'http://android-artworks.25pp.com/fs08/2017/11/01/3/110_c5db8996630adfac66c6277091502a38_con.png', 'item_cover': 'http://android-imgs.25pp.com/fs08/2017/04/10/10/d8d457959bdf8a00ccb7b7d1a804029d.jpg', 'title': '英语学习全计划'}\n",
      "成功插入一组数据{'app_title': '闹钟one', 'icon_cover': 'http://android-artworks.25pp.com/fs08/2016/06/09/0/1_b5fdc47297c4b8bc724a813123662a7c_con.png', 'item_cover': 'http://android-imgs.25pp.com/fs08/2017/04/10/10/6d7eb1821c14531bbfd045a076e83e0a.jpg', 'title': '在卡片中管理时间'}\n",
      "成功插入一组数据{'app_title': '欢喜Fancy', 'icon_cover': 'http://android-artworks.25pp.com/fs08/2017/10/21/1/2_af9d7d3a48e6b28ace7c4cc3737a12b7_con.png', 'item_cover': 'http://android-imgs.25pp.com/fs08/2017/04/10/1/299c091cde98b469fd55d580be370d14.jpg', 'title': '有爱设计，每日欢喜'}\n",
      "成功插入一组数据{'app_title': 'Between', 'icon_cover': 'http://android-artworks.25pp.com/fs08/2017/07/21/8/115_5dc51059492ccda2f3d883b86369963c_con.png', 'item_cover': 'http://android-imgs.25pp.com/fs08/2017/04/10/0/e49c9feb8446eba500518e9e23df84ea.jpg', 'title': '情侣间的那点事儿'}\n",
      "成功插入一组数据{'app_title': '阅FM - 你的随身阅读电台', 'icon_cover': 'http://android-artworks.25pp.com/fs08/2016/11/30/5/102_301aa5a58ac6e20145f476944bf4381b_con.png', 'item_cover': 'http://android-imgs.25pp.com/fs08/2017/04/10/2/7a759d63e381127aa38d469c6e597f1c.jpg', 'title': '一本你永远也翻不完的书'}\n",
      "成功插入一组数据{'app_title': 'tawkon手机辐射监测器', 'icon_cover': 'http://android-artworks.25pp.com/fs08/2016/06/08/2/1_c3526894df49c42af49406f3513c7ff8_con.png', 'item_cover': 'http://android-imgs.25pp.com/fs08/2017/04/10/9/e7501c9b8dbeeda33d90294d078e9d96.jpg', 'title': '你的手机辐射测量计'}\n",
      "成功插入一组数据{'app_title': '布卡漫画', 'icon_cover': 'http://android-artworks.25pp.com/fs08/2017/10/18/7/110_d0d203d349ed1d12f949a1d1454a8dab_con.png', 'item_cover': 'http://android-imgs.25pp.com/fs08/2017/04/10/8/bd8c1f947e48266516a1d35c3913d6c9.jpg', 'title': '一经上手 爱不释手'}\n",
      "成功插入一组数据{'app_title': '蜻蜓FM', 'icon_cover': 'http://android-artworks.25pp.com/fs08/2017/11/13/9/110_822a9db474ebe37a4af2a7f9325115bb_con.png', 'item_cover': 'http://android-imgs.25pp.com/fs08/2017/04/10/9/fe6a558b9f2a6d6359a809247e745f5d.jpg', 'title': '倾听你的声音'}\n",
      "成功插入一组数据{'app_title': 'Foodie', 'icon_cover': 'http://android-artworks.25pp.com/fs08/2017/10/21/5/2_fbc570b8b8af556d76463c49c08bed0e_con.png', 'item_cover': 'http://android-imgs.25pp.com/fs08/2017/04/10/0/1116cafe983ac5d71b906640d998da25.jpg', 'title': '一款为「吃货」而生的拍照应用'}\n",
      "成功插入一组数据{'app_title': 'Light', 'icon_cover': 'http://android-artworks.25pp.com/fs08/2016/06/08/11/1_d8054327a88c77cb4dbf22d440a60809_con.png', 'item_cover': 'http://android-imgs.25pp.com/fs08/2017/04/10/5/57587d431654c935558c908235aa2ceb.jpg', 'title': '可能是最符合「年轻人」气质的资讯应用'}\n",
      "成功插入一组数据{'app_title': '泼辣修图', 'icon_cover': 'http://android-artworks.25pp.com/fs08/2017/11/02/4/110_a76f83996ca912d84f630059bd07e39b_con.png', 'item_cover': 'http://android-imgs.25pp.com/fs08/2017/04/10/6/c8de1c286b943311dc057303faf1d451.jpg', 'title': '不只是修图工具，它还能让你学会「修图」这门技能'}\n",
      "成功插入一组数据{'app_title': '知乎', 'icon_cover': 'http://android-artworks.25pp.com/fs08/2017/11/15/8/110_dab1bfce6e25dc69251a492c93e77780_con.png', 'item_cover': 'http://android-imgs.25pp.com/fs08/2017/04/10/5/6ef636ade4e50cd08e08499509154ade.jpg', 'title': '由内而外的 Material Design，这才是知乎完全体'}\n",
      "成功插入一组数据{'app_title': '小世界', 'icon_cover': 'http://android-artworks.25pp.com/fs08/2017/01/22/4/102_f964b40053197f4088b45de03d71a7b5_con.png', 'item_cover': 'http://android-imgs.25pp.com/fs08/2017/04/10/3/25de27cc2a31db1779950361aa03ab92.jpg', 'title': '汇集百位生活达人的短视频平台'}\n",
      "成功插入一组数据{'app_title': '单读', 'icon_cover': 'http://android-artworks.25pp.com/fs08/2017/05/08/0/110_49789afdd1ab5c9a0fd6751baa8d4b99_con.png', 'item_cover': 'http://android-imgs.25pp.com/fs08/2017/04/10/3/3ba28a837ddaa1b486a7cedca8638ff6.jpg', 'title': '在这个 App 里，和最好的文学作品相遇'}\n",
      "成功插入一组数据{'app_title': '引导火车', 'icon_cover': 'http://android-artworks.25pp.com/fs08/2017/11/07/6/109_c9412708ffa9b74a831956e99d113586_con.png', 'item_cover': 'http://android-imgs.25pp.com/fs08/2017/04/10/0/9ab8c4c235f31233e1813be43755a8f5.jpg', 'title': '忙碌的春运之余，来当一名火车调度员'}\n",
      "成功插入一组数据{'app_title': 'mars', 'icon_cover': 'http://android-artworks.25pp.com/fs08/2017/11/13/6/110_6a740ad28ab7cbb950101a1eef7086e9_con.png', 'item_cover': 'http://android-imgs.25pp.com/fs08/2017/04/10/5/c00e716be45b4e91c6d1d0540b977e53.jpg', 'title': '发现一座城市最好玩的角落'}\n",
      "成功插入一组数据{'app_title': '迷雾穿梭', 'icon_cover': 'http://android-artworks.25pp.com/fs08/2017/09/22/6/109_7ef96d06c626cac08de0710cd87f9e51_con.png', 'item_cover': 'http://android-imgs.25pp.com/fs08/2017/04/10/1/e058d9f06367bc57b46baabe3a9c9bdf.jpg', 'title': '成为一条穿梭在美景中的贪吃蛇'}\n",
      "成功插入一组数据{'app_title': '城市旅游指南Guides', 'icon_cover': 'http://android-artworks.25pp.com/fs08/2017/06/16/5/115_340179aded756dbf5ea44a56269aee40_con.png', 'item_cover': 'http://android-imgs.25pp.com/fs08/2017/04/10/9/82f4a94863e4f5c9fb52883a5d89bebc.jpg', 'title': '把每座城市的攻略装进手机'}\n",
      "成功插入一组数据{'app_title': '机器人历险记Mekorama', 'icon_cover': 'http://android-artworks.25pp.com/fs08/2017/09/25/7/109_6cf902f5d390318f79684db8e376c762_con.png', 'item_cover': 'http://android-imgs.25pp.com/fs08/2017/04/10/0/2509839e7a64ce60167de82614c8ca33.jpg', 'title': '这款解谜游戏，你可以创建自己的关卡'}\n",
      "成功插入一组数据{'app_title': '穷游锦囊', 'icon_cover': 'http://android-artworks.25pp.com/fs08/2017/10/17/8/110_9138db10ab6b2192f01177893af2872a_con.png', 'item_cover': 'http://android-imgs.25pp.com/fs08/2017/04/10/2/a1b7281fc6052ab2bc48f8a03525080b.jpg', 'title': '从冲绳到南极，你需要的所有攻略都在这里'}\n",
      "成功插入一组数据{'app_title': '阿尔托的冒险', 'icon_cover': 'http://android-artworks.25pp.com/fs08/2017/10/16/5/109_8431aa8fc2fdc71d68f4278e6f088dd0_con.png', 'item_cover': 'http://android-imgs.25pp.com/fs08/2017/04/10/8/75be687e550ceee2f717fa0a265100d3.jpg', 'title': '在这款跑酷游戏里体验日出日落'}\n",
      "成功插入一组数据{'app_title': 'Quik', 'icon_cover': 'http://android-artworks.25pp.com/fs08/2017/11/15/7/115_0e6b73136814ae4e8f05cc5979cbf4e9_con.png', 'item_cover': 'http://android-imgs.25pp.com/fs08/2017/04/10/5/b5776c3fa56699ccfdb9cbde1cea9f97.jpg', 'title': '一键生成 24 种风格的视频'}\n",
      "成功插入一组数据{'app_title': '迪士尼天天过马路', 'icon_cover': 'http://android-artworks.25pp.com/fs08/2017/10/27/10/109_e33b2d31843c16d0a0b3c99a839eb675_con.png', 'item_cover': 'http://android-imgs.25pp.com/fs08/2017/04/10/3/e627d1e48045ad8e16d34c34bc694f44.jpg', 'title': '这款像素游戏里有迪士尼 150 个经典角色'}\n",
      "成功插入一组数据{'app_title': '氧气', 'icon_cover': 'http://android-artworks.25pp.com/fs08/2016/12/19/2/102_a7c3c7e2ad3a8907a041df9a9155d10d_con.png', 'item_cover': 'http://android-imgs.25pp.com/fs08/2017/04/10/5/0750c8dece42367e00704a2ab0822773.jpg', 'title': '好好穿内衣，才是正经事'}\n",
      "成功插入一组数据{'app_title': '穷游行程助手', 'icon_cover': 'http://android-artworks.25pp.com/fs08/2017/11/15/7/110_a888af820772779a430592d8a7d92725_con.png', 'item_cover': 'http://android-imgs.25pp.com/fs08/2017/04/10/0/16244c81074d46def7aa099485e35fb7.jpg', 'title': '用十一年的积累，帮你推荐最好的旅行路线'}\n",
      "成功插入一组数据{'app_title': 'ENJOY', 'icon_cover': 'http://android-artworks.25pp.com/fs08/2017/11/17/0/110_a269d67bfdc811dcded96202389d2da1_con.png', 'item_cover': 'http://android-imgs.25pp.com/fs08/2017/04/10/8/47449e2b0c90a6943b0e976a04f7f9b2.jpg', 'title': '帮你找到最有故事的餐厅'}\n",
      "成功插入一组数据{'app_title': '即刻', 'icon_cover': 'http://android-artworks.25pp.com/fs08/2017/11/15/8/110_7a299f5004b9abdacadbf67eaf0d92fd_con.png', 'item_cover': 'http://android-imgs.25pp.com/fs08/2017/04/10/8/68358c6bc6344c3f295c82642f48acb0.jpg', 'title': '从特价机票到新片上映，不再错过你感兴趣的信息'}\n",
      "成功插入一组数据{'app_title': '美妙激励', 'icon_cover': 'http://android-artworks.25pp.com/fs08/2017/10/24/11/2_3813a311956294b07cdb09e1fb73d0b7_con.png', 'item_cover': 'http://android-imgs.25pp.com/fs08/2017/04/10/7/2a5625d44564ba147566d185692941b1.jpg', 'title': '5分钟养成一个好习惯'}\n",
      "成功插入一组数据{'app_title': 'Tapet随机壁纸', 'icon_cover': 'http://android-artworks.25pp.com/fs08/2016/12/28/11/115_d252c9a1ddab02740bf8dda63a48ae6a_con.png', 'item_cover': 'http://android-imgs.25pp.com/fs08/2017/04/10/6/80d936d746fda3131dd65f5a0336d1d5.jpg', 'title': '用猫给每一张壁纸取名字'}\n",
      "成功插入一组数据{'app_title': 'Snapseed', 'icon_cover': 'http://android-artworks.25pp.com/fs08/2016/09/23/11/102_efbdfbd14ffe6ddab4ff7478e578b058_con.png', 'item_cover': 'http://android-imgs.25pp.com/fs08/2017/04/10/9/589144ea07a460a207c75bbaa031cef0.jpg', 'title': '一拍 易修 亦分享'}\n",
      "成功插入一组数据{'app_title': '全球定酒店 Expedia', 'icon_cover': 'http://android-artworks.25pp.com/fs08/2017/11/16/10/115_61ad7da3b3aec26a3493b858321b8a46_con.png', 'item_cover': 'http://android-imgs.25pp.com/fs08/2017/04/10/10/90fa26da99d200ab3b00299856b11aaa.jpg', 'title': '旅行体验 飞抵手机'}\n",
      "成功插入一组数据{'app_title': '豆瓣阅读', 'icon_cover': 'http://android-artworks.25pp.com/fs08/2017/10/30/4/110_da71b0fc6584562a4670fbcb3d3f0408_con.png', 'item_cover': 'http://android-imgs.25pp.com/fs08/2017/04/10/2/4ce54859a0a262b0024de23b7f15b6d5.jpg', 'title': '手机小书店的灯光 '}\n",
      "成功插入一组数据{'app_title': '笔记Catch Notes', 'icon_cover': 'http://android-artworks.25pp.com/fs08/2016/06/08/7/1_deb67bdff50bb0ce4896840b22411748_con.png', 'item_cover': 'http://android-imgs.25pp.com/fs08/2017/04/10/0/dfce880305dc19e371c248dd08c06bb4.jpg', 'title': '抓住点滴思绪'}\n",
      "成功插入一组数据{'app_title': 'Any.DO', 'icon_cover': 'http://android-artworks.25pp.com/fs08/2017/11/03/0/102_aaaeb51e9c4c97a29465ed3471809287_con.png', 'item_cover': 'http://android-imgs.25pp.com/fs08/2017/04/10/11/f8377e333fe33b79657f8ab6867d675c.jpg', 'title': '聪明的待办事项助手'}\n",
      "成功插入一组数据{'app_title': '看球啦', 'icon_cover': 'http://android-artworks.25pp.com/fs08/2016/06/10/9/102_680fb16566e3b7334bb22dfc16df5bb7_con.png', 'item_cover': 'http://android-imgs.25pp.com/fs08/2017/04/10/7/24cdd5b9c19b758481a155c9b35a6c0c.jpg', 'title': '球迷掌中宝'}\n",
      "成功插入一组数据{'app_title': '增高弹簧', 'icon_cover': 'http://android-artworks.25pp.com/fs08/2016/09/13/8/102_e7edf1bded29d799673a8d2fd0e48976_con.png', 'item_cover': 'http://android-imgs.25pp.com/fs08/2017/04/10/4/71af254e60713c4ca71bfefd69aff1c2.jpg', 'title': '小短腿也有春天'}\n",
      "成功插入一组数据{'app_title': '随便走', 'icon_cover': 'http://android-artworks.25pp.com/fs08/2017/10/23/2/110_fa3b54e6b104937a9ea2bb32bee4a4ab_con.png', 'item_cover': 'http://android-imgs.25pp.com/fs08/2017/04/10/10/99bb54bb644f18f4201cb898e70744ef.jpg', 'title': '拒绝地图，总有方向'}\n",
      "成功插入一组数据{'app_title': '索尼克全明星赛车：变形  Sonic Racing Transformed', 'icon_cover': 'http://android-artworks.25pp.com/fs08/2017/03/17/6/109_590977e70eca33f681a14a7d48d4b0e2_con.png', 'item_cover': 'http://android-imgs.25pp.com/fs08/2017/04/10/10/b404cbb031783ed82f3dc40ffc407680.jpg', 'title': '赛车变形记'}\n",
      "成功插入一组数据{'app_title': '动动', 'icon_cover': 'http://android-artworks.25pp.com/fs08/2017/02/17/1/110_26f1408197a66022fad561bb4da7ba7a_con.png', 'item_cover': 'http://android-imgs.25pp.com/fs08/2017/04/10/3/7941f75a59076af9526b906436d1f907.jpg', 'title': '健康管理的贴心助手'}\n",
      "成功插入一组数据{'app_title': '品酷(标注品牌)', 'icon_cover': 'http://android-artworks.25pp.com/fs08/2016/06/07/7/1_c169db9053cc5bdab125ab04d9d29663_con.png', 'item_cover': 'http://android-imgs.25pp.com/fs08/2017/04/10/1/04373f55b935d0f697fb753237edd4f0.jpg', 'title': '标记你的生活'}\n",
      "成功插入一组数据{'app_title': '急速冲击完美版', 'icon_cover': 'http://android-artworks.25pp.com/fs08/2017/09/22/5/109_97da98b4dafe543e5957199f8d5c2091_con.png', 'item_cover': 'http://android-imgs.25pp.com/fs08/2017/04/10/6/5b172e39460e5c0c74f28280dc5d1406.jpg', 'title': '玩玻璃的球'}\n",
      "成功插入一组数据{'app_title': 'Friday私人助理', 'icon_cover': 'http://android-artworks.25pp.com/fs08/2016/06/08/10/1_2f42ff2eb994ffa99c2394212e3bc5d2_con.png', 'item_cover': 'http://android-imgs.25pp.com/fs08/2017/04/10/8/ad4fc8379e1c2d9eb040ffe8e4acad01.jpg', 'title': '你的手机行为日记'}\n",
      "成功插入一组数据{'app_title': 'hello短信', 'icon_cover': 'http://android-artworks.25pp.com/fs08/2016/06/07/9/1_1e71f6aeef528facaaacfe38690fdfb2_con.png', 'item_cover': 'http://android-imgs.25pp.com/fs08/2017/04/10/6/b4de9bdea8c430c147b669b7b3bfa956.jpg', 'title': '极简短信的新体验'}\n",
      "成功插入一组数据{'app_title': '3D桌面', 'icon_cover': 'http://android-artworks.25pp.com/fs08/2017/03/31/10/2_0b1c0a732c6bc19f12fd447b9bc6ab68_con.png', 'item_cover': 'http://android-imgs.25pp.com/fs08/2017/04/10/3/129384b9218e4e6bd2677d0be864c21a.jpg', 'title': '给眼睛的糖'}\n",
      "成功插入一组数据{'app_title': 'Autodesk Pixlr', 'icon_cover': 'http://android-artworks.25pp.com/fs08/2016/06/07/7/1_02c05f9cafa6437e623bf7d56c93da5e_con.png', 'item_cover': 'http://android-imgs.25pp.com/fs08/2017/04/10/5/b2a5109c911159cd7f24d94506cdbf9a.jpg', 'title': '修图万能工具箱'}\n",
      "成功插入一组数据{'app_title': '微可拍', 'icon_cover': 'http://android-artworks.25pp.com/fs08/2016/06/09/0/1_67fb9c1a52ed6637c1a0bf8d47da12eb_con.png', 'item_cover': 'http://android-imgs.25pp.com/fs08/2017/04/10/2/2f2af2d03e20076b68829cb3215464e1.jpg', 'title': '感受精致影像'}\n",
      "成功插入一组数据{'app_title': '美乐时光', 'icon_cover': 'http://android-artworks.25pp.com/fs08/2016/06/07/11/1_e1006f272472e70639483f9eec466574_con.png', 'item_cover': 'http://android-imgs.25pp.com/fs08/2017/04/10/8/45fbf508a260ab5f7a77778beb88c3f4.jpg', 'title': '对的时间 对的音乐'}\n",
      "成功插入一组数据{'app_title': 'Uface面部素描', 'icon_cover': 'http://android-artworks.25pp.com/fs08/2016/06/07/3/1_ab008536693c75cdd98156512cf73573_con.png', 'item_cover': 'http://android-imgs.25pp.com/fs08/2017/04/10/10/89b20376c05225bedc9d6abc237c70d4.jpg', 'title': '面容·独一无二'}\n",
      "成功插入一组数据{'app_title': 'Flava™ - 日常记录', 'icon_cover': 'http://android-artworks.25pp.com/fs08/2017/05/11/4/2_3e3606e217fbee881b3207ad62b63d1b_con.png', 'item_cover': 'http://android-imgs.25pp.com/fs08/2017/04/10/8/1b80b8c6e8fef42b7a534a2b4f361edf.jpg', 'title': '记录珍贵瞬间'}\n",
      "成功插入一组数据{'app_title': '牛仔大决斗 Ready Steady Bang', 'icon_cover': 'http://android-artworks.25pp.com/fs08/2017/09/25/9/109_be0ed2a977637074ec78b7e822090fb8_con.png', 'item_cover': 'http://android-imgs.25pp.com/fs08/2017/04/10/10/b25e191e069377005dc0262fb4f2f2b0.jpg', 'title': '快枪决胜'}\n",
      "成功插入一组数据{'app_title': '谷歌拼音', 'icon_cover': 'http://android-artworks.25pp.com/fs08/2016/07/25/2/2_ed746ac3d5d58aca3191aabc64a37b8d_con.png', 'item_cover': 'http://android-imgs.25pp.com/fs08/2017/04/10/0/cdd4ac1d937a4a7fb06abd88cb6ebb04.jpg', 'title': '字随指动'}\n",
      "成功插入一组数据{'app_title': '因果！', 'icon_cover': 'http://android-artworks.25pp.com/fs08/2017/05/24/7/109_96b5d9c661f8ff2491ec9798db6af4f5_con.png', 'item_cover': 'http://android-imgs.25pp.com/fs08/2017/04/10/10/1c07a5705276838eb79efbc6dd1378a8.jpg', 'title': '操纵时间，与过去的自己合作'}\n",
      "成功插入一组数据{'app_title': '花田小憩', 'icon_cover': 'http://android-artworks.25pp.com/fs08/2017/11/08/5/110_14fedff3e9f96a8ad1b8f542c3e677f8_con.png', 'item_cover': 'http://android-imgs.25pp.com/fs08/2017/04/10/3/855d44e21b208708e072358a27fdf6ca.jpg', 'title': '用最简单的方式走入花花草草的世界'}\n",
      "成功插入一组数据{'app_title': '激流快艇3', 'icon_cover': 'http://android-artworks.25pp.com/fs08/2017/11/16/4/109_a9287f0b53eeffefab9b7bb38626b1eb_con.png', 'item_cover': 'http://android-imgs.25pp.com/fs08/2017/04/10/10/2d0ae4a202e8048a09da75bc4506137a.jpg', 'title': '城市水道上的极速竞技之旅'}\n",
      "成功插入一组数据{'app_title': '僵尸漫步', 'icon_cover': 'http://android-artworks.25pp.com/fs08/2017/11/15/6/109_8b6cbce5b36ea8a1a7a867f1edede484_con.png', 'item_cover': 'http://android-imgs.25pp.com/fs08/2017/04/10/0/7ed9b946bfcd17cfb8c63fbeaef7cd71.jpg', 'title': '这款魔性的像素游戏，想让你重新学走路'}\n",
      "成功插入一组数据{'app_title': '潮汐', 'icon_cover': 'http://android-artworks.25pp.com/fs08/2017/10/10/0/110_f65dd78d9a7689e4e6e505a788fc0019_con.png', 'item_cover': 'http://android-imgs.25pp.com/fs08/2017/04/10/2/5c8a9fbb9b0fdc8bde380b3db4486ea2.jpg', 'title': '1 秒从办公室变咖啡馆，这个应用让你沉浸工作'}\n",
      "成功插入一组数据{'app_title': 'Aviary', 'icon_cover': 'http://android-artworks.25pp.com/fs08/2016/12/22/9/115_067187b2c9be0311b92ca8e95e481b61_con.png', 'item_cover': 'http://android-imgs.25pp.com/fs08/2017/04/10/9/1e128ab1e6e7fc1afff06862b81b606f.jpg', 'title': '100+ 款实时滤镜，修图工具有它就够'}\n",
      "成功插入一组数据{'app_title': 'AirDroid', 'icon_cover': 'http://android-artworks.25pp.com/fs08/2017/11/14/1/110_06b6d1ee8ceae867954fb88d2d2a26d0_con.png', 'item_cover': 'http://android-imgs.25pp.com/fs08/2017/04/10/2/1e7f4b011c27c5d9d1f36978f2677d41.jpg', 'title': '从此告别数据线'}\n",
      "成功插入一组数据{'app_title': '片刻', 'icon_cover': 'http://android-artworks.25pp.com/fs08/2017/09/12/3/110_fcf84c7865ee6a3e70c93e695fe9f30f_con.png', 'item_cover': 'http://android-imgs.25pp.com/fs08/2017/04/10/2/4c41f2c859b948d839061a19dcab81cb.jpg', 'title': '世界很美而你正好有空'}\n",
      "成功插入一组数据{'app_title': '快牙', 'icon_cover': 'http://android-artworks.25pp.com/fs08/2017/09/30/5/110_c2f993b961541c659b0b67a22b6b7029_con.png', 'item_cover': 'http://android-imgs.25pp.com/fs08/2017/04/10/4/bbe5669539a0b901f7c5ca34b667128e.jpg', 'title': '崭新的传输体验'}\n",
      "成功插入一组数据{'app_title': '一问', 'icon_cover': 'http://android-artworks.25pp.com/fs08/2016/06/07/9/1_f0d8eec14ee09435290156e4ddaa25d7_con.png', 'item_cover': 'http://android-imgs.25pp.com/fs08/2017/04/10/8/cf0654f5ce122c50d9b45ad5145f860a.jpg', 'title': '一问里的创业世界'}\n",
      "成功插入一组数据{'app_title': '专心', 'icon_cover': 'http://android-artworks.25pp.com/fs08/2016/06/06/2/1_5d407b6bfff978e32fc66e713646d02c_con.png', 'item_cover': 'http://android-imgs.25pp.com/fs08/2017/04/10/0/4378a5b3845cb20ec023606171d8d3e1.jpg', 'title': '享受专心时刻'}\n",
      "成功插入一组数据{'app_title': '星图', 'icon_cover': 'http://android-artworks.25pp.com/fs08/2016/06/09/0/1_179e50a959713d6c4d3e4bce20f49394_con.png', 'item_cover': 'http://android-imgs.25pp.com/fs08/2017/04/10/6/f78db5adcd19779659bd8655678834f7.jpg', 'title': '抬头一望的好奇心'}\n",
      "成功插入一组数据{'app_title': '琥珀天气', 'icon_cover': 'http://android-artworks.25pp.com/fs08/2017/10/19/9/2_3dd8270e7bf903a6ff2cb699cfa64e1e_con.png', 'item_cover': 'http://android-imgs.25pp.com/fs08/2017/04/10/4/73fe4195d0e97b1d7c2f19cb47efd420.jpg', 'title': '吼吼吼吼 Holo 风'}\n",
      "成功插入一组数据{'app_title': 'Airbnb爱彼迎', 'icon_cover': 'http://android-artworks.25pp.com/fs08/2017/11/17/9/110_9a0f22c4faf992dcabc5d0d1e47b669a_con.png', 'item_cover': 'http://android-imgs.25pp.com/fs08/2017/04/10/4/2e82960d6e7aab8b917599165d64aa4a.jpg', 'title': '在旅行中，住宿不仅仅是房间'}\n",
      "成功插入一组数据{'app_title': 'Sol日历', 'icon_cover': 'http://android-artworks.25pp.com/fs08/2016/09/23/6/102_c96745850cc9503e421d5097fe654eeb_con.png', 'item_cover': 'http://android-imgs.25pp.com/fs08/2017/04/10/0/6ce634a494ba1cc92351a28ca9aec01b.jpg', 'title': '桌面日历小清新'}\n",
      "成功插入一组数据{'app_title': '部落冲突Clash-of-Clans', 'icon_cover': 'http://android-artworks.25pp.com/fs08/2017/11/19/3/109_ef1e95c7d2f4db6bd3a171c8349a7ca7_con.png', 'item_cover': 'http://android-imgs.25pp.com/fs08/2017/04/10/6/81ea455e0bfad357d11eae8c18c6dd56.jpg', 'title': '可能是最棒的手机游戏'}\n",
      "成功插入一组数据{'app_title': 'AnimeTaste', 'icon_cover': 'http://android-artworks.25pp.com/fs08/2016/06/07/10/1_6cad8a290fb73eca4ddfda9bc89b9093_con.png', 'item_cover': 'http://android-imgs.25pp.com/fs08/2017/04/10/10/0dcb74d47ddbaa0504b0658032972a91.jpg', 'title': '动画品味风向标'}\n",
      "成功插入一组数据{'app_title': 'Solar天气', 'icon_cover': 'http://android-artworks.25pp.com/fs08/2016/06/09/8/1_ec3ec242ce088a2f3a38b38b1708250a_con.png', 'item_cover': 'http://android-imgs.25pp.com/fs08/2017/04/10/7/f198f84801abbfb2359f925e0f58b8cd.jpg', 'title': '大胆放肆的设计实验'}\n",
      "成功插入一组数据{'app_title': 'SolMail', 'icon_cover': 'http://android-artworks.25pp.com/fs08/2017/08/11/7/115_a4ffcea2e5664c93d7a3355ab6969b15_con.png', 'item_cover': 'http://android-imgs.25pp.com/fs08/2017/04/10/4/8d1831516d06df1b4ae4d61c72a61315.jpg', 'title': '重新找回邮件生产力'}\n",
      "成功插入一组数据{'app_title': '雅虎天气 Yahoo Weather', 'icon_cover': 'http://android-artworks.25pp.com/fs08/2016/09/05/4/102_6447c520986a36fe1db75cbf94093078_con.png', 'item_cover': 'http://android-imgs.25pp.com/fs08/2017/04/10/3/dd3308e4fdcbe36361cc662e593875cd.jpg', 'title': '老牌应用的新晴天'}\n",
      "成功插入一组数据{'app_title': '财务管理', 'icon_cover': 'http://android-artworks.25pp.com/fs08/2016/06/07/10/1_36b3479b38cbbeb614b99e008815c6e9_con.png', 'item_cover': 'http://android-imgs.25pp.com/fs08/2017/04/10/3/4ed0dd68c1a19740e867b62c5ea2da1f.jpg', 'title': '简洁上手，强大功能'}\n",
      "成功插入一组数据{'app_title': '单词锁屏', 'icon_cover': 'http://android-artworks.25pp.com/fs08/2016/06/08/7/1_bb86737b964dc802439d670850fcae96_con.png', 'item_cover': 'http://android-imgs.25pp.com/fs08/2017/04/10/10/295bfad7c7ac1513b1c87d6bf4f84952.jpg', 'title': '学霸，只因为多看了一眼'}\n",
      "成功插入一组数据{'app_title': '掌阅听书', 'icon_cover': 'http://android-artworks.25pp.com/fs08/2016/06/07/3/1_028d64a496ce695f8323aab501349d09_con.png', 'item_cover': 'http://android-imgs.25pp.com/fs08/2017/04/10/6/7d8d10a0279b07a5f2ba34f692eee824.jpg', 'title': '给知识一个发声机会'}\n",
      "成功插入一组数据{'app_title': '日历Sunrise', 'icon_cover': 'http://android-artworks.25pp.com/fs08/2016/06/08/8/1_57cbc0ae6bb8ba36ba4267b9ee2f3ddc_con.png', 'item_cover': 'http://android-imgs.25pp.com/fs08/2017/04/10/0/8f60c41afe610862ff392efd02d02f34.jpg', 'title': '俏皮灵动的社交日历'}\n",
      "成功插入一组数据{'app_title': 'nice', 'icon_cover': 'http://android-artworks.25pp.com/fs08/2017/11/09/7/110_1c63d3e9396b87267a10d536d25818c1_con.png', 'item_cover': 'http://android-imgs.25pp.com/fs08/2017/04/10/10/1aaaaedc5a4149295b9f92a6d331ea28.jpg', 'title': '晒给懂你的人'}\n",
      "成功插入一组数据{'app_title': '神折纸', 'icon_cover': 'http://android-artworks.25pp.com/fs08/2017/09/22/6/109_6fefe1d1860ee6fdf561525bfbdb6980_con.png', 'item_cover': 'http://android-imgs.25pp.com/fs08/2017/04/10/5/7e8cd35a7036ecb6033cd8a1a766e618.jpg', 'title': '静静体味纸的魅力'}\n",
      "成功插入一组数据{'app_title': '番茄土豆', 'icon_cover': 'http://android-artworks.25pp.com/fs08/2017/04/10/7/110_0cb84b55eeda016a2407bd7bd04798c3_con.png', 'item_cover': 'http://android-imgs.25pp.com/fs08/2017/04/10/7/dcf8a71f466654831dcddb60fd7b2014.jpg', 'title': '完成了不起的工作'}\n",
      "成功插入一组数据{'app_title': 'SolGroup', 'icon_cover': 'http://android-artworks.25pp.com/fs08/2016/06/09/7/1_324eea99c68e8a19b9d76ab0c9146bfd_con.png', 'item_cover': 'http://android-imgs.25pp.com/fs08/2017/04/10/10/8c99f5a9a11bc38fb6bff22370116202.jpg', 'title': '小圈子里的组团新方案'}\n",
      "成功插入一组数据{'app_title': '饭本', 'icon_cover': 'http://android-artworks.25pp.com/fs08/2016/06/07/11/1_765629a1ad2cb2adcb9c850044c2962a_con.png', 'item_cover': 'http://android-imgs.25pp.com/fs08/2017/04/10/0/b306fbc458d4abddb051c60d200a2ffb.jpg', 'title': '吃货的进阶人生'}\n",
      "成功插入一组数据{'app_title': 'Dots', 'icon_cover': 'http://android-artworks.25pp.com/fs08/2017/09/11/0/109_0ee85840268b0341e28ffe9ac1b742ad_con.png', 'item_cover': 'http://android-imgs.25pp.com/fs08/2017/04/10/2/03979e12f80950ddb86dc89cd0544e70.jpg', 'title': '点点连连看'}\n",
      "成功插入一组数据{'app_title': '丁香医生', 'icon_cover': 'http://android-artworks.25pp.com/fs08/2017/11/14/0/110_b9659db598e400351c3bf2083fadf972_con.png', 'item_cover': 'http://android-imgs.25pp.com/fs08/2017/04/10/10/d7e71b6ae29a79eff9ac9ef7ea730100.jpg', 'title': '家庭药箱的新成员'}\n",
      "成功插入一组数据{'app_title': 'Noom Walk', 'icon_cover': 'http://android-artworks.25pp.com/fs08/2016/06/15/5/2_c58f75abb9df9a010e8425199119d840_con.png', 'item_cover': 'http://android-imgs.25pp.com/fs08/2017/04/10/8/2a0926740be7d46ea7b60c5fc4afbc93.jpg', 'title': '没事走两步'}\n",
      "成功插入一组数据{'app_title': '焕彩闹钟', 'icon_cover': 'http://android-artworks.25pp.com/fs08/2017/10/21/9/2_61834d9ac3b6ec354e129d7608bae3a8_con.png', 'item_cover': 'http://android-imgs.25pp.com/fs08/2017/04/10/0/3d8e2a2741ba87816c644e1fd93fbb01.jpg', 'title': '华彩时间'}\n",
      "成功插入一组数据{'app_title': 'Civo', 'icon_cover': 'http://android-artworks.25pp.com/fs08/2016/06/09/1/1_081efff1c25f99f78f3dd58ec1c29722_con.png', 'item_cover': 'http://android-imgs.25pp.com/fs08/2017/04/10/6/17b63b2546508f27e744896a6c8e922e.jpg', 'title': '世界与你相会'}\n",
      "成功插入一组数据{'app_title': '巧影', 'icon_cover': 'http://android-artworks.25pp.com/fs08/2017/10/19/8/110_d585a943a5d79d29814b921170bf7e1d_con.png', 'item_cover': 'http://android-imgs.25pp.com/fs08/2017/07/13/2/8ee10d3309a101d8fc51586a1d21d97c.jpg', 'title': '剪辑专业视频，新手也能制造精彩'}\n",
      "成功插入一组数据{'app_title': '米皮大冒险', 'icon_cover': 'http://android-artworks.25pp.com/fs08/2017/06/12/1/109_b07dac945aedb7461c5a27f2eb55aa05_con.png', 'item_cover': 'http://android-imgs.25pp.com/fs08/2017/07/06/10/7b147e75eff7f5923d387fcd5cbba89a.jpg', 'title': '一只狗与它的梦境之谜，烧脑又刺激'}\n",
      "成功插入一组数据{'app_title': '一闪', 'icon_cover': 'http://android-artworks.25pp.com/fs08/2017/07/06/2/110_bee7e6b5dc99f749b1d74014e0c561ba_con.png', 'item_cover': 'http://android-imgs.25pp.com/fs08/2017/06/29/7/2f49dc1804bb72f3eb6e93cc98e2a8fa.jpg', 'title': '3 秒微动摄影，拍出「活」的风景'}\n",
      "成功插入一组数据{'app_title': '收趣', 'icon_cover': 'http://android-artworks.25pp.com/fs08/2017/11/02/8/110_4aff79becd181f62f431d37c6aa8bfd9_con.png', 'item_cover': 'http://android-imgs.25pp.com/fs08/2017/06/22/6/76325cbc77e5379fc97cacaf9bd800d9.jpg', 'title': '一键把所有 app 的好内容都收藏到这里'}\n",
      "成功插入一组数据{'app_title': '燃兔', 'icon_cover': 'http://android-artworks.25pp.com/fs08/2017/11/08/7/109_0b53edcfa20afa9e0e08c7c981529892_con.png', 'item_cover': 'http://android-imgs.25pp.com/fs08/2017/06/15/4/05dce5eb191cc0fb7415ee858ae16c9f.jpg', 'title': '你的时间，值得那些有灵魂的游戏'}\n",
      "成功插入一组数据{'app_title': '形色', 'icon_cover': 'http://android-artworks.25pp.com/fs08/2017/09/28/4/110_a31bb2bdcc4282d70bb4ce5a3c31e61d_con.png', 'item_cover': 'http://android-imgs.25pp.com/fs08/2017/06/08/3/bde605e2da55989a0f7e265ebe9b6060.jpg', 'title': '这款拍照识花神器，为你讲述 4000 种浪漫花语'}\n",
      "成功插入一组数据{'app_title': '星际穿越', 'icon_cover': 'http://android-artworks.25pp.com/fs08/2017/04/22/6/109_f8ccee71737de35a058fea8033f611e4_con.png', 'item_cover': 'http://android-imgs.25pp.com/fs08/2017/04/10/2/4fec911a466d9c6fd22d87747d7bc8a1.jpg', 'title': '切身探索太空的奥秘'}\n",
      "成功插入一组数据{'app_title': '榫卯', 'icon_cover': 'http://android-artworks.25pp.com/fs08/2016/06/06/9/1_a05283da0676ecc8e15911923c63af37_con.png', 'item_cover': 'http://android-imgs.25pp.com/fs08/2017/04/10/2/21b76a41e9c7458eaa77ad1b74ac8162.jpg', 'title': '给木头爱好者的情诗'}\n",
      "成功插入一组数据{'app_title': '最美创意', 'icon_cover': 'http://android-artworks.25pp.com/fs08/2016/06/08/4/1_c2eb7c5618867e791ed2bdf24e745165_con.png', 'item_cover': 'http://android-imgs.25pp.com/fs08/2017/04/10/3/b04aa7370853b3ce9e4ec795d23316d3.jpg', 'title': '和喜欢的创意不期而遇'}\n",
      "成功插入一组数据{'app_title': '滴答清单', 'icon_cover': 'http://android-artworks.25pp.com/fs08/2017/11/07/3/110_955487c3179762549a70ba14ad563356_con.png', 'item_cover': 'http://android-imgs.25pp.com/fs08/2017/04/10/11/5f5a03d52e04200b98b7c7aba5de63e2.jpg', 'title': '让生活变得简单'}\n",
      "成功插入一组数据{'app_title': '好奇心日报', 'icon_cover': 'http://android-artworks.25pp.com/fs08/2017/11/16/8/110_d667bdbcbfdc896bdda8f478dab19caf_con.png', 'item_cover': 'http://android-imgs.25pp.com/fs08/2017/04/10/7/c2fd7e375f900cac19561ba252958749.jpg', 'title': '满足好奇新方式'}\n",
      "成功插入一组数据{'app_title': '贝壳单词', 'icon_cover': 'http://android-artworks.25pp.com/fs08/2016/06/08/10/1_78819bcb3c2367ed0666bd5cfbe5e851_con.png', 'item_cover': 'http://android-imgs.25pp.com/fs08/2017/04/10/7/5156d2d0fc1f544de919757b6956eaae.jpg', 'title': '全无压力地背单词'}\n",
      "成功插入一组数据{'app_title': 'Coursera', 'icon_cover': 'http://android-artworks.25pp.com/fs08/2016/09/26/7/102_d49113a4ddbe0526fa2ed114777e5031_con.png', 'item_cover': 'http://android-imgs.25pp.com/fs08/2017/04/10/8/0b90ee4fb387a4dd090fefdd2152f13e.jpg', 'title': '满足你的求知欲'}\n",
      "成功插入一组数据{'app_title': 'Plant Nanny 植物保姆', 'icon_cover': 'http://android-artworks.25pp.com/fs08/2017/10/16/2/109_43fad06a06d964d42e0493148a659a31_con.png', 'item_cover': 'http://android-imgs.25pp.com/fs08/2017/04/10/1/60ed06b84f306cf23ae510a0241b0434.jpg', 'title': '和小植物一起维护健康'}\n",
      "成功插入一组数据{'app_title': 'Fotor', 'icon_cover': 'http://android-artworks.25pp.com/fs08/2017/11/14/1/110_9777770b949a6ce74c02934a9886491b_con.png', 'item_cover': 'http://android-imgs.25pp.com/fs08/2017/04/10/11/180286f512d1586e8d29308b3e98d724.jpg', 'title': '只为好照片'}\n",
      "成功插入一组数据{'app_title': '虾米音乐', 'icon_cover': 'http://android-artworks.25pp.com/fs08/2017/11/17/11/110_a5a2f1330e850a524f9c94ecd45d2c51_con.png', 'item_cover': 'http://android-imgs.25pp.com/fs08/2017/04/10/1/fa65432bc4c46ebcc46b2e9b27e7a268.jpg', 'title': '与懂你的音乐在一起'}\n",
      "成功插入一组数据{'app_title': 'Muzzik', 'icon_cover': 'http://android-artworks.25pp.com/fs08/2016/06/07/6/1_1c5cbf34c393e1b542a7f5493df2b6a7_con.png', 'item_cover': 'http://android-imgs.25pp.com/fs08/2017/04/10/5/9f8a1d84085e8d282994a648b16afedc.jpg', 'title': '你的音乐故事'}\n",
      "成功插入一组数据{'app_title': '豆瓣', 'icon_cover': 'http://android-artworks.25pp.com/fs08/2017/11/16/2/110_bb2ca1b1eba45f6c264cf471f3164183_con.png', 'item_cover': 'http://android-imgs.25pp.com/fs08/2017/04/10/8/635709fb3bef2f2bb06fa4b7bb4c08b1.jpg', 'title': '与喜欢的生活不期而遇'}\n",
      "成功插入一组数据{'app_title': 'Lab桌面', 'icon_cover': 'http://android-artworks.25pp.com/fs08/2017/11/10/9/2_23f59d8d755f7b0305ec84117af08e50_con.png', 'item_cover': 'http://android-imgs.25pp.com/fs08/2017/04/10/4/9992d693a07f2684f87064678b2a0eff.jpg', 'title': '个性只限于你的想象力'}\n",
      "成功插入一组数据{'app_title': '专业摄影师图片社区 500px', 'icon_cover': 'http://android-artworks.25pp.com/fs08/2017/05/26/7/2_74cf3e8893a4b4657f11f6064d411d7c_con.png', 'item_cover': 'http://android-imgs.25pp.com/fs08/2017/04/10/5/64fa3af094baefeb54121e1bcabd7d5d.jpg', 'title': '每个人最出色的照片家园'}\n",
      "成功插入一组数据{'app_title': '极简汇率', 'icon_cover': 'http://android-artworks.25pp.com/fs08/2017/05/15/3/110_de59a03520912668412ce1099b8c2f41_con.png', 'item_cover': 'http://android-imgs.25pp.com/fs08/2017/04/10/5/63315197e2aebac37acdea080b910d29.jpg', 'title': '美且好用的汇率换算'}\n",
      "成功插入一组数据{'app_title': 'MONO', 'icon_cover': 'http://android-artworks.25pp.com/fs08/2016/12/06/4/110_323a334cd5cddbf8f7d05b9abec4fef1_con.png', 'item_cover': 'http://android-imgs.25pp.com/fs08/2017/04/10/10/cca5931030a4b7095076485889a366c6.jpg', 'title': '用有趣的方式看世界'}\n",
      "成功插入一组数据{'app_title': '笨拙的忍者', 'icon_cover': 'http://android-artworks.25pp.com/fs08/2017/10/24/4/109_f2e6d6a4f507c5ad4353a6fce748251f_con.png', 'item_cover': 'http://android-imgs.25pp.com/fs08/2017/04/10/7/680fe397555a7063042069622b91e528.jpg', 'title': '如生的虚拟朋友'}\n",
      "成功插入一组数据{'app_title': '落网', 'icon_cover': 'http://android-artworks.25pp.com/fs08/2017/11/01/7/110_2eb827c3816911ea19ba10205f68e8b0_con.png', 'item_cover': 'http://android-imgs.25pp.com/fs08/2017/04/10/10/bd35fc7695f0f0b00620a4d2999f7d9c.jpg', 'title': '独立的独立音乐记录者'}\n",
      "成功插入一组数据{'app_title': '钓鱼发烧友', 'icon_cover': 'http://android-artworks.25pp.com/fs08/2017/10/17/5/109_c5bb1c5250891e6221be7c37895f8769_con.png', 'item_cover': 'http://android-imgs.25pp.com/fs08/2017/04/10/8/ff2885c541a244903291e0ab36f3dbcb.jpg', 'title': '人生总有那么条大鱼'}\n",
      "成功插入一组数据{'app_title': '全天候计步器', 'icon_cover': 'http://android-artworks.25pp.com/fs08/2016/06/21/11/102_bc771bb4a5602d371e761cdf93ec1be5_con.png', 'item_cover': 'http://android-imgs.25pp.com/fs08/2017/04/10/8/be372c1d57b1e172f012b33f6948d3c8.jpg', 'title': '从行走中认识自己'}\n",
      "成功插入一组数据{'app_title': '最美壁纸', 'icon_cover': 'http://android-artworks.25pp.com/fs08/2017/04/25/11/110_93153fa64c76c1eeda1b0758ba14e273_con.png', 'item_cover': 'http://android-imgs.25pp.com/fs08/2017/04/10/7/1b55d106d441e0d0501d9a4b6f92b2ea.jpg', 'title': '每天的优雅邂逅'}\n",
      "0.7629103660583496\n"
     ]
    }
   ],
   "source": [
    "import asyncio\n",
    "import aiohttp\n",
    "from bs4 import BeautifulSoup\n",
    "import time\n",
    "\n",
    "# 需要爬取的网址列表\n",
    "urls = ['http://www.wandoujia.com/award?page={}'.format(num) for num in range(1, 46)]\n",
    "\n",
    "async def get_url(url):\n",
    "    async with aiohttp.ClientSession() as session:  # await关键字将暂停协程函数的执行，等待异步IO返回结果。\n",
    "        async with session.get(url) as html:\n",
    "            response = await html.text(encoding=\"utf-8\")  # await关键字将暂停协程函数的执行，等待异步IO返回结果。\n",
    "            return response\n",
    "\n",
    "async def parser(url):\n",
    "    html = await get_url(url)\n",
    "    soup = BeautifulSoup(html, 'lxml')\n",
    "    title = soup.find_all(class_='title')\n",
    "    app_title = soup.find_all(class_='app-title')\n",
    "    item_cover = soup.find_all(class_='item-cover')\n",
    "    icon_cover = soup.select('div.list-wrap > ul > li > div.icon > img')\n",
    "    data = []\n",
    "    for title_i, app_title_i, item_cover_i, icon_cover_i in zip(title, app_title, item_cover, icon_cover):\n",
    "        content = {\n",
    "            'title': title_i.get_text(),\n",
    "            'app_title': app_title_i.get_text(),\n",
    "            'item_cover': item_cover_i['data-original'],\n",
    "            'icon_cover': icon_cover_i['data-original']\n",
    "        }\n",
    "        data.append(content)\n",
    "        print('成功插入一组数据' + str(content))\n",
    "    return data\n",
    "\n",
    "start = time.time()\n",
    "loop = asyncio.get_event_loop()\n",
    "tasks = [parser(url) for url in urls]\n",
    "loop.run_until_complete(asyncio.gather(*tasks))\n",
    "print(time.time() - start)"
   ]
  },
  {
   "cell_type": "markdown",
   "metadata": {},
   "source": [
    "### tornado爬虫"
   ]
  },
  {
   "cell_type": "markdown",
   "metadata": {},
   "source": [
    "以下是一个tornado官网上的爬虫示例："
   ]
  },
  {
   "cell_type": "code",
   "execution_count": null,
   "metadata": {
    "collapsed": true
   },
   "outputs": [],
   "source": [
    "#!/usr/bin/env python\n",
    "\n",
    "import time\n",
    "from datetime import timedelta\n",
    "\n",
    "try:\n",
    "    from HTMLParser import HTMLParser\n",
    "    from urlparse import urljoin, urldefrag\n",
    "except ImportError:\n",
    "    from html.parser import HTMLParser\n",
    "    from urllib.parse import urljoin, urldefrag\n",
    "\n",
    "from tornado import httpclient, gen, ioloop, queues\n",
    "\n",
    "base_url = 'http://www.tornadoweb.org/en/stable/'\n",
    "concurrency = 10\n",
    "\n",
    "\n",
    "@gen.coroutine\n",
    "def get_links_from_url(url):\n",
    "    \"\"\"Download the page at `url` and parse it for links.\n",
    "\n",
    "    Returned links have had the fragment after `#` removed, and have been made\n",
    "    absolute so, e.g. the URL 'gen.html#tornado.gen.coroutine' becomes\n",
    "    'http://www.tornadoweb.org/en/stable/gen.html'.\n",
    "    \"\"\"\n",
    "    try:\n",
    "        response = yield httpclient.AsyncHTTPClient().fetch(url)\n",
    "        print('fetched %s' % url)\n",
    "\n",
    "        html = response.body if isinstance(response.body, str) \\\n",
    "            else response.body.decode()\n",
    "        urls = [urljoin(url, remove_fragment(new_url))\n",
    "                for new_url in get_links(html)]\n",
    "    except Exception as e:\n",
    "        print('Exception: %s %s' % (e, url))\n",
    "        raise gen.Return([])\n",
    "\n",
    "    raise gen.Return(urls)\n",
    "\n",
    "\n",
    "def remove_fragment(url):\n",
    "    pure_url, frag = urldefrag(url)\n",
    "    return pure_url\n",
    "\n",
    "\n",
    "def get_links(html):\n",
    "    class URLSeeker(HTMLParser):\n",
    "        def __init__(self):\n",
    "            HTMLParser.__init__(self)\n",
    "            self.urls = []\n",
    "\n",
    "        def handle_starttag(self, tag, attrs):\n",
    "            href = dict(attrs).get('href')\n",
    "            if href and tag == 'a':\n",
    "                self.urls.append(href)\n",
    "\n",
    "    url_seeker = URLSeeker()\n",
    "    url_seeker.feed(html)\n",
    "    return url_seeker.urls\n",
    "\n",
    "\n",
    "@gen.coroutine\n",
    "def main():\n",
    "    q = queues.Queue()\n",
    "    start = time.time()\n",
    "    fetching, fetched = set(), set()\n",
    "\n",
    "    @gen.coroutine\n",
    "    def fetch_url():\n",
    "        current_url = yield q.get()\n",
    "        try:\n",
    "            if current_url in fetching:\n",
    "                return\n",
    "\n",
    "            print('fetching %s' % current_url)\n",
    "            fetching.add(current_url)\n",
    "            urls = yield get_links_from_url(current_url)\n",
    "            fetched.add(current_url)\n",
    "\n",
    "            for new_url in urls:\n",
    "                # Only follow links beneath the base URL\n",
    "                if new_url.startswith(base_url):\n",
    "                    yield q.put(new_url)\n",
    "\n",
    "        finally:\n",
    "            q.task_done()\n",
    "\n",
    "    @gen.coroutine\n",
    "    def worker():\n",
    "        while True:\n",
    "            yield fetch_url()\n",
    "\n",
    "    q.put(base_url)\n",
    "\n",
    "    # Start workers, then wait for the work queue to be empty.\n",
    "    for _ in range(concurrency):\n",
    "        worker()\n",
    "    yield q.join(timeout=timedelta(seconds=300))\n",
    "    assert fetching == fetched\n",
    "    print('Done in %d seconds, fetched %s URLs.' % (\n",
    "        time.time() - start, len(fetched)))\n",
    "\n",
    "\n",
    "if __name__ == '__main__':\n",
    "    import logging\n",
    "    logging.basicConfig()\n",
    "    io_loop = ioloop.IOLoop.current()\n",
    "    io_loop.run_sync(main)"
   ]
  },
  {
   "cell_type": "markdown",
   "metadata": {},
   "source": [
    "一个知乎的答案说：   \n",
    "来自tornado官方文档Queue example，这个是tornado示例里一个高效的异步爬虫。可以用来爬一些万级页面数量的网站。稍微改下自己用: pip install tornado   \n",
    "下面是他写的代码\n",
    "作者：Pegasus Wang\n",
    "链接：https://www.zhihu.com/question/38192299/answer/75276559\n",
    "来源：知乎\n",
    "著作权归作者所有。商业转载请联系作者获得授权，非商业转载请注明出处。"
   ]
  },
  {
   "cell_type": "code",
   "execution_count": null,
   "metadata": {
    "collapsed": true
   },
   "outputs": [],
   "source": [
    "#!/usr/bin/env python\n",
    "# -*- coding:utf-8 -*-\n",
    "\n",
    "import time\n",
    "from datetime import timedelta\n",
    "from tornado import httpclient, gen, ioloop, queues\n",
    "import traceback\n",
    "\n",
    "\n",
    "class AsySpider(object):\n",
    "    \"\"\"A simple class of asynchronous spider.\"\"\"\n",
    "    def __init__(self, urls, concurrency=10, results=None, **kwargs):\n",
    "        urls.reverse()\n",
    "        self.urls = urls\n",
    "        self.concurrency = concurrency\n",
    "        self._q = queues.Queue()\n",
    "        self._fetching = set()\n",
    "        self._fetched = set()\n",
    "        if results is None:\n",
    "            self.results = []\n",
    "\n",
    "    def fetch(self, url, **kwargs):\n",
    "        fetch = getattr(httpclient.AsyncHTTPClient(), 'fetch')\n",
    "        return fetch(url, raise_error=False, **kwargs)\n",
    "\n",
    "    def handle_html(self, url, html):\n",
    "        \"\"\"handle html page\"\"\"\n",
    "        print(url)\n",
    "\n",
    "    def handle_response(self, url, response):\n",
    "        \"\"\"inherit and rewrite this method if necessary\"\"\"\n",
    "        if response.code == 200:\n",
    "            self.handle_html(url, response.body)\n",
    "\n",
    "        elif response.code == 599:    # retry\n",
    "            self._fetching.remove(url)\n",
    "            self._q.put(url)\n",
    "\n",
    "    @gen.coroutine\n",
    "    def get_page(self, url):\n",
    "        try:\n",
    "            response = yield self.fetch(url)\n",
    "            #print('######fetched %s' % url)\n",
    "        except Exception as e:\n",
    "            print('Exception: %s %s' % (e, url))\n",
    "            raise gen.Return(e)\n",
    "        raise gen.Return(response)\n",
    "\n",
    "    @gen.coroutine\n",
    "    def _run(self):\n",
    "        @gen.coroutine\n",
    "        def fetch_url():\n",
    "            current_url = yield self._q.get()\n",
    "            try:\n",
    "                if current_url in self._fetching:\n",
    "                    return\n",
    "\n",
    "                #print('fetching****** %s' % current_url)\n",
    "                self._fetching.add(current_url)\n",
    "\n",
    "                response = yield self.get_page(current_url)\n",
    "                self.handle_response(current_url, response)    # handle reponse\n",
    "\n",
    "                self._fetched.add(current_url)\n",
    "\n",
    "                for i in range(self.concurrency):\n",
    "                    if self.urls:\n",
    "                        yield self._q.put(self.urls.pop())\n",
    "\n",
    "            finally:\n",
    "                self._q.task_done()\n",
    "\n",
    "        @gen.coroutine\n",
    "        def worker():\n",
    "            while True:\n",
    "                yield fetch_url()\n",
    "\n",
    "        self._q.put(self.urls.pop())    # add first url\n",
    "\n",
    "        # Start workers, then wait for the work queue to be empty.\n",
    "        for _ in range(self.concurrency):\n",
    "            worker()\n",
    "\n",
    "        yield self._q.join(timeout=timedelta(seconds=300000))\n",
    "        try:\n",
    "            assert self._fetching == self._fetched\n",
    "        except AssertionError:\n",
    "            print(self._fetching-self._fetched)\n",
    "            print(self._fetched-self._fetching)\n",
    "\n",
    "    def run(self):\n",
    "        io_loop = ioloop.IOLoop.current()\n",
    "        io_loop.run_sync(self._run)\n",
    "\n",
    "\n",
    "class MySpider(AsySpider):\n",
    "\n",
    "    def fetch(self, url, **kwargs):\n",
    "        \"\"\"重写父类fetch方法可以添加cookies，headers，timeout等信息\"\"\"\n",
    "        cookies_str = \"PHPSESSID=j1tt66a829idnms56ppb70jri4; pspt=%7B%22id%22%3A%2233153%22%2C%22pswd%22%3A%228835d2c1351d221b4ab016fbf9e8253f%22%2C%22_code%22%3A%22f779dcd011f4e2581c716d1e1b945861%22%7D; key=%E9%87%8D%E5%BA%86%E5%95%84%E6%9C%A8%E9%B8%9F%E7%BD%91%E7%BB%9C%E7%A7%91%E6%8A%80%E6%9C%89%E9%99%90%E5%85%AC%E5%8F%B8; think_language=zh-cn; SERVERID=a66d7d08fa1c8b2e37dbdc6ffff82d9e|1444973193|1444967835; CNZZDATA1254842228=1433864393-1442810831-%7C1444972138\"\n",
    "        headers = {\n",
    "            'User-Agent': 'mozilla/5.0 (compatible; baiduspider/2.0; +http://www.baidu.com/search/spider.html)',\n",
    "            'cookie': cookies_str\n",
    "        }\n",
    "        return super(MySpider, self).fetch(\n",
    "            url, headers=headers\n",
    "        )\n",
    "\n",
    "    def handle_html(self, url, html):\n",
    "        #print(url, html)\n",
    "        print(url)\n",
    "\n",
    "\n",
    "def main():\n",
    "    urls = []\n",
    "    for page in range(1, 10000):\n",
    "        urls.append('http://www.baidu.com/?page=%s' % page)\n",
    "    s = MySpider(urls)\n",
    "    s.run()\n",
    "\n",
    "\n",
    "if __name__ == '__main__':\n",
    "    main()"
   ]
  },
  {
   "cell_type": "markdown",
   "metadata": {},
   "source": [
    "### 基于tornado的coroutine并发抓取"
   ]
  },
  {
   "cell_type": "markdown",
   "metadata": {},
   "source": [
    "tornado中的coroutine是python中真正意义上的协程，与python3中的asyncio几乎是完全一样的，而且两者之间的future是可以相互转换的，tornado中有与asyncio相兼容的接口。 \n",
    "下面是利用tornado中的coroutine进行并发抓取的代码："
   ]
  },
  {
   "cell_type": "code",
   "execution_count": null,
   "metadata": {
    "collapsed": true
   },
   "outputs": [],
   "source": [
    "from tornado.gen import coroutine\n",
    "from tornado.ioloop import IOLoop\n",
    "from tornado.httpclient import AsyncHTTPClient, HTTPError\n",
    "from tornado.httpclient import HTTPRequest\n",
    "\n",
    "#urls与前面相同\n",
    "class MyClass(object):\n",
    "\n",
    "    def __init__(self):\n",
    "        #AsyncHTTPClient.configure(\"tornado.curl_httpclient.CurlAsyncHTTPClient\")\n",
    "        self.http = AsyncHTTPClient()\n",
    "\n",
    "    @coroutine  \n",
    "    def get(self, url):\n",
    "        #tornado会自动在请求首部带上host首部        \n",
    "        request = HTTPRequest(url=url,\n",
    "                            method='GET',\n",
    "                            headers=HEADERS,\n",
    "                            connect_timeout=2.0,\n",
    "                            request_timeout=2.0,\n",
    "                            follow_redirects=False,\n",
    "                            max_redirects=False,\n",
    "                            user_agent=\"Mozilla/5.0+(Windows+NT+6.2;+WOW64)+AppleWebKit/537.36+(KHTML,+like+Gecko)+Chrome/45.0.2454.101+Safari/537.36\",)\n",
    "        yield self.http.fetch(request, callback=self.find, raise_error=False)\n",
    "\n",
    "    def find(self, response):\n",
    "        if response.error:\n",
    "            print(response.error)\n",
    "        print(response.code, response.effective_url, response.request_time)\n",
    "\n",
    "\n",
    "class Download(object):\n",
    "\n",
    "    def __init__(self):\n",
    "        self.a = MyClass()\n",
    "        self.urls = URLS\n",
    "\n",
    "    @coroutine\n",
    "    def d(self):\n",
    "        print(u'基于tornado的并发抓取')        \n",
    "        t1 = time.time()\n",
    "        yield [self.a.get(url) for url in self.urls]\n",
    "        t = time.time() - t1\n",
    "        print(t)\n",
    "\n",
    "if __name__ == '__main__':\n",
    "    dd = Download()\n",
    "    loop = IOLoop.current()\n",
    "    loop.run_sync(dd.d)"
   ]
  },
  {
   "cell_type": "markdown",
   "metadata": {
    "run_control": {
     "frozen": false,
     "read_only": false
    }
   },
   "source": [
    "# 框架的使用\n",
    "## scrapy的使用"
   ]
  },
  {
   "cell_type": "markdown",
   "metadata": {
    "run_control": {
     "frozen": false,
     "read_only": false
    }
   },
   "source": [
    "### scrapy介绍"
   ]
  },
  {
   "cell_type": "code",
   "execution_count": null,
   "metadata": {
    "collapsed": true,
    "run_control": {
     "frozen": false,
     "read_only": false
    }
   },
   "outputs": [],
   "source": []
  },
  {
   "cell_type": "markdown",
   "metadata": {
    "run_control": {
     "frozen": false,
     "read_only": false
    }
   },
   "source": [
    "### Scrapy简明教程(四)——爬取CSDN博客专家所有博文并存入MongoDB"
   ]
  },
  {
   "cell_type": "markdown",
   "metadata": {
    "run_control": {
     "frozen": false,
     "read_only": false
    }
   },
   "source": [
    "首先，我们来看一下CSDN博客专家的链接: http://blog.csdn.net/experts.html"
   ]
  },
  {
   "cell_type": "code",
   "execution_count": null,
   "metadata": {
    "collapsed": true,
    "run_control": {
     "frozen": false,
     "read_only": false
    }
   },
   "outputs": [],
   "source": []
  },
  {
   "cell_type": "markdown",
   "metadata": {
    "run_control": {
     "frozen": false,
     "read_only": false
    }
   },
   "source": [
    "# 分布式爬虫"
   ]
  }
 ],
 "metadata": {
  "anaconda-cloud": {},
  "kernelspec": {
   "display_name": "Python [conda env:py3]",
   "language": "python",
   "name": "conda-env-py3-py"
  },
  "language_info": {
   "codemirror_mode": {
    "name": "ipython",
    "version": 3
   },
   "file_extension": ".py",
   "mimetype": "text/x-python",
   "name": "python",
   "nbconvert_exporter": "python",
   "pygments_lexer": "ipython3",
   "version": "3.5.2"
  },
  "latex_envs": {
   "LaTeX_envs_menu_present": true,
   "bibliofile": "biblio.bib",
   "cite_by": "apalike",
   "current_citInitial": 1,
   "eqLabelWithNumbers": true,
   "eqNumInitial": 1,
   "labels_anchors": false,
   "latex_user_defs": false,
   "report_style_numbering": false,
   "user_envs_cfg": false
  },
  "toc": {
   "colors": {
    "hover_highlight": "#DAA520",
    "running_highlight": "#FF0000",
    "selected_highlight": "#FFD700"
   },
   "moveMenuLeft": true,
   "nav_menu": {
    "height": "511px",
    "width": "251px"
   },
   "navigate_menu": true,
   "number_sections": true,
   "sideBar": true,
   "threshold": 4,
   "toc_cell": false,
   "toc_position": {
    "height": "503px",
    "left": "0px",
    "right": "1047.67px",
    "top": "130px",
    "width": "221px"
   },
   "toc_section_display": "block",
   "toc_window_display": true
  }
 },
 "nbformat": 4,
 "nbformat_minor": 1
}
